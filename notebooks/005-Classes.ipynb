{
 "cells": [
  {
   "cell_type": "markdown",
   "metadata": {},
   "source": [
    "# Lecture 5 - Classes\n",
    "\n",
    "## Review\n",
    "* Using `git` to submit homework\n",
    "* Questions about prior homework \n",
    "\n",
    "## Creating modules and packages\n",
    "  \n",
    "* Object-oriented programming\n",
    "  - Defining a class\n",
    "  - Creating an instance\n",
    "  - Definiting properties\n",
    "  - Defining methods  \n",
    "\n",
    "* Modules\n",
    "  - How `import` works\n",
    "  - Making your own module\n",
    "  - Executing modules as scripts\n",
    "  - Packages\n",
    "* Maybe: Regular expressions\n",
    "* Exceptions\n",
    "  - Catching exceptions\n",
    "```python\n",
    "try:\n",
    "    ...\n",
    "except:\n",
    "    ...\n",
    "else:\n",
    "    ...\n",
    "finally:\n",
    "    ...\n",
    "```\n",
    " - Raising exceptions\n",
    "\n",
    "### See also:\n",
    "  1. Allen Downey's \"Think Python 2\" http://greenteapress.com/thinkpython2/thinkpython2.pdf:\n",
    "    * Chapter 15: Classes and objects\n",
    "    * Chapter 16: Classes and functions\n",
    "    * Chapter 17: Classes and methods\n",
    "    \n",
    "  1. Dietels' \"Python for Programmers\" https://www.oreilly.com/library/view/python-for-programmers/9780135231364/\n",
    "    * Chapter 8: Strings, a deeper look\n",
    "    * Chapter 9: Files and exceptions\n",
    "    * Chapter 10: Object-oriented programming\n",
    "    \n",
    "  1. The Python Tutorial:\n",
    "    * Section 6: Modules https://docs.python.org/3.8/tutorial/modules.html\n",
    "    * Section 8: Errors and Exceptions: https://docs.python.org/3.8/tutorial/errors.html\n",
    "    * Section 9: Classes https://docs.python.org/3.8/tutorial/classes.html\n",
    "    * Section 10.5: String pattern matching https://docs.python.org/3.8/tutorial/stdlib.html#string-pattern-matching \n",
    "    \n",
    "  1. Driscol's Python 101\n",
    "    * Chapter 9: Importing https://python101.pythonlibrary.org/chapter9_imports.html\n",
    "    * Chapter 11: Classes https://python101.pythonlibrary.org/chapter11_classes.html\n",
    "    \n",
    "  1. Wes McKinney, Python for Data Analysis, 2nd Edition https://learning.oreilly.com/library/view/python-for-data/9781491957653/\n",
    "    * Chapter 7.3: String manipulations\n",
    "    \n",
    "  1. Tutorials on Regular Expressions\n",
    "    * https://regexone.com/lesson/introduction_abcs\n",
    "    * https://www.kaggle.com/sohier/introduction-to-regular-expressions\n",
    "    * https://www.guru99.com/python-regular-expressions-complete-tutorial.html\n",
    "    \n",
    "### Sample data\n",
    "We will use some sample data in upcoming assignments. \n",
    "1. NY Times Covid-19 Deaths https://github.com/nytimes/covid-19-data/blob/master/us-states.csv\n",
    "2. 1000 US cities https://gist.githubusercontent.com/Miserlou/c5cd8364bf9b2420bb29/raw/2bf258763cdddd704f8ffd3ea9a3e81d25e2c6f6/cities.json\n",
    "3. 60,000 English words: http://www.mieliestronk.com/corncob_lowercase.txt\n",
    "\n",
    "Feel free to propose other datasets.\n",
    "\n",
    "### Practice \n",
    "There are many online tutorials and challenges from beginner to avanced to practice solving problems in Python and to build up skills.\n",
    "\n",
    "For example:\n",
    "* https://learnpython.org \n",
    "* Python game https://checkio.org \n",
    "* Project Euler: https://projecteuler.net - clever maths\n",
    "* https://www.101computing.net"
   ]
  },
  {
   "cell_type": "markdown",
   "metadata": {},
   "source": [
    "# Lecture"
   ]
  },
  {
   "cell_type": "code",
   "execution_count": null,
   "metadata": {},
   "outputs": [],
   "source": [
    "from fractions import Fraction"
   ]
  },
  {
   "cell_type": "code",
   "execution_count": null,
   "metadata": {},
   "outputs": [],
   "source": [
    "a = Fraction(3,4)\n",
    "b = Fraction(7,2)"
   ]
  },
  {
   "cell_type": "code",
   "execution_count": null,
   "metadata": {},
   "outputs": [],
   "source": [
    "a + b"
   ]
  },
  {
   "cell_type": "code",
   "execution_count": null,
   "metadata": {},
   "outputs": [],
   "source": [
    "def gcd(a, b):\n",
    "    while b:\n",
    "        a, b = b, a % b\n",
    "    return a"
   ]
  },
  {
   "cell_type": "code",
   "execution_count": null,
   "metadata": {},
   "outputs": [],
   "source": [
    "gcd()"
   ]
  },
  {
   "cell_type": "code",
   "execution_count": null,
   "metadata": {},
   "outputs": [],
   "source": [
    "import copy"
   ]
  },
  {
   "cell_type": "code",
   "execution_count": null,
   "metadata": {},
   "outputs": [],
   "source": [
    "class Frac:\n",
    "    \n",
    "    def __init__(self, num, denom):\n",
    "        self.whole = 0\n",
    "        self.num = num\n",
    "        self.denom = denom\n",
    "    \n",
    "    def _repr_latex_(self):\n",
    "        whole = f\"{self.whole}\" if self.whole > 0 or self.num == 0 else \"\"\n",
    "        frac = f\"\\\\frac{{{self.num}}}{{{self.denom}}}\" if self.num > 0 else \"\"\n",
    "        return f\"$${whole}{frac}$$\"\n",
    "    \n",
    "    def simplify(self):\n",
    "        new = copy.copy(self)\n",
    "        g = gcd(self.denom, self.num)\n",
    "        new.whole = self.num // self.denom\n",
    "        new.num = self.num % self.denom // g\n",
    "        new.denom = new.denom // g\n",
    "        return new"
   ]
  },
  {
   "cell_type": "code",
   "execution_count": null,
   "metadata": {},
   "outputs": [],
   "source": [
    "Frac(30, 4).simplify()"
   ]
  },
  {
   "cell_type": "code",
   "execution_count": null,
   "metadata": {},
   "outputs": [],
   "source": [
    "class Polynomial:\n",
    "    \n",
    "    def __init__(self, *coefs):\n",
    "        self.coefs = coefs\n",
    "        \n",
    "    def _repr_latex_(self):\n",
    "        s = [f\"{a}x^{i}\" for i, a in enumerate(self.coefs)] \n",
    "        return f'$${\"+\".join(s)}$$'\n",
    "\n",
    "    "
   ]
  },
  {
   "cell_type": "code",
   "execution_count": null,
   "metadata": {},
   "outputs": [],
   "source": [
    "Polynomial(3, 2, 1)"
   ]
  },
  {
   "cell_type": "markdown",
   "metadata": {},
   "source": [
    "## Color guessing game\n",
    "https://www.gamesforthebrain.com/game/guesscolors/"
   ]
  },
  {
   "cell_type": "code",
   "execution_count": null,
   "metadata": {},
   "outputs": [],
   "source": [
    "import random \n",
    "from itertools import count, product\n",
    "\n",
    "class Game:\n",
    "    alphabet = \"abcdef\"\n",
    "    def __init__(self, truth=None, n=4):\n",
    "        self.truth = truth or ''.join(random.choices(self.alphabet, k=n))\n",
    "        self.count = count(1)\n",
    "        \n",
    "    def play(self, guess: str, verbose=True):\n",
    "        correct = sum(i==j for i, j in zip(self.truth, guess))\n",
    "        present = -correct\n",
    "        for c in self.truth:\n",
    "            if c in guess:\n",
    "                present += 1\n",
    "                guess = guess.replace(c, '', 1)\n",
    "        step = next(self.count)\n",
    "        if verbose and correct == len(self.truth):\n",
    "            print(f\"You've got it in {step} moves!\")\n",
    "        return '*' * correct + '-' * present"
   ]
  },
  {
   "cell_type": "code",
   "execution_count": null,
   "metadata": {},
   "outputs": [],
   "source": [
    "g = Game()"
   ]
  },
  {
   "cell_type": "code",
   "execution_count": null,
   "metadata": {},
   "outputs": [],
   "source": [
    "g.play('aaaa')"
   ]
  },
  {
   "cell_type": "code",
   "execution_count": null,
   "metadata": {},
   "outputs": [],
   "source": [
    "g.play('bbbb')"
   ]
  },
  {
   "cell_type": "code",
   "execution_count": null,
   "metadata": {},
   "outputs": [],
   "source": [
    "g.play('bccc')"
   ]
  },
  {
   "cell_type": "code",
   "execution_count": null,
   "metadata": {},
   "outputs": [],
   "source": [
    "g.play('bcdd')"
   ]
  },
  {
   "cell_type": "code",
   "execution_count": null,
   "metadata": {},
   "outputs": [],
   "source": [
    "g.play('bdce')"
   ]
  },
  {
   "cell_type": "code",
   "execution_count": null,
   "metadata": {},
   "outputs": [],
   "source": [
    "g.play('bdcf')"
   ]
  },
  {
   "cell_type": "code",
   "execution_count": null,
   "metadata": {},
   "outputs": [],
   "source": [
    "class Solve:\n",
    "    def __init__(self, game: Game):\n",
    "        self.game = game\n",
    "        self.possibilities = (''.join(q) for q in product(\n",
    "            *[self.game.alphabet] * len(self.game.truth)))\n",
    "        \n",
    "    def make_guess(self):\n",
    "        guess = next(self.possibilities)\n",
    "        score = self.game.play(guess)\n",
    "        print(f'{guess} : {score}')\n",
    "        f = lambda x: Game(x).play(guess, verbose=None) == score\n",
    "        self.possibilities = filter(f, self.possibilities)\n",
    "        return score == '*' * len(self.game.truth)"
   ]
  },
  {
   "cell_type": "code",
   "execution_count": null,
   "metadata": {},
   "outputs": [],
   "source": [
    "game = Game()\n",
    "solution = Solve(game)\n",
    "while not solution.make_guess():\n",
    "    pass    "
   ]
  },
  {
   "cell_type": "code",
   "execution_count": null,
   "metadata": {},
   "outputs": [],
   "source": []
  },
  {
   "cell_type": "markdown",
   "metadata": {},
   "source": [
    "### Download files for analysis"
   ]
  },
  {
   "cell_type": "code",
   "execution_count": null,
   "metadata": {},
   "outputs": [],
   "source": [
    "import urllib.request\n",
    "import os\n",
    "\n",
    "def download_file(url, filepath):\n",
    "    if os.path.isfile(filepath):\n",
    "        print('File already exists')\n",
    "    else:\n",
    "        urllib.request.urlretrieve(url, filepath)    "
   ]
  },
  {
   "cell_type": "code",
   "execution_count": null,
   "metadata": {},
   "outputs": [],
   "source": [
    "# download cities database\n",
    "download_file(\n",
    "    url = 'https://gist.githubusercontent.com/Miserlou/c5cd8364bf9b2420bb29/raw/2bf258763cdddd704f8ffd3ea9a3e81d25e2c6f6/cities.json',\n",
    "    filepath = 'us-cities.json')"
   ]
  },
  {
   "cell_type": "code",
   "execution_count": null,
   "metadata": {},
   "outputs": [],
   "source": [
    "# download english words\n",
    "download_file(\n",
    "    url = 'http://www.mieliestronk.com/corncob_lowercase.txt',\n",
    "    filepath = 'english-words.txt')"
   ]
  },
  {
   "cell_type": "code",
   "execution_count": null,
   "metadata": {},
   "outputs": [],
   "source": [
    "# download NY Covid-19 data\n",
    "download_file(\n",
    "    url = 'https://raw.githubusercontent.com/nytimes/covid-19-data/master/us-states.csv',\n",
    "    filepath = 'nytimes-covid-19.csv')"
   ]
  },
  {
   "cell_type": "code",
   "execution_count": null,
   "metadata": {},
   "outputs": [],
   "source": [
    "with open('english-words.txt') as f:\n",
    "    words = f.readlines()"
   ]
  },
  {
   "cell_type": "code",
   "execution_count": null,
   "metadata": {},
   "outputs": [],
   "source": [
    "with open('english-words.txt') as f:\n",
    "    words = f.read().split() "
   ]
  },
  {
   "cell_type": "code",
   "execution_count": null,
   "metadata": {},
   "outputs": [],
   "source": [
    "with open('english-words.txt') as f:\n",
    "    for word in f:\n",
    "        print(word, end='')"
   ]
  },
  {
   "cell_type": "code",
   "execution_count": null,
   "metadata": {},
   "outputs": [],
   "source": [
    "with open('english-words.txt') as f:\n",
    "    words = [word.strip() for word in f if word.endswith('zz\\n')]"
   ]
  },
  {
   "cell_type": "code",
   "execution_count": null,
   "metadata": {},
   "outputs": [],
   "source": [
    "words"
   ]
  },
  {
   "cell_type": "markdown",
   "metadata": {},
   "source": [
    "\n",
    "# Homework"
   ]
  },
  {
   "cell_type": "markdown",
   "metadata": {},
   "source": [
    "#### Problem 1. Add two lists element-by-element\n",
    "\n",
    "Define the function `add_arrays(array1, array2)` that takes a list of two arrays and add them together. If the arrays of different lengths, raise the `ValueError`."
   ]
  },
  {
   "cell_type": "code",
   "execution_count": null,
   "metadata": {},
   "outputs": [],
   "source": []
  },
  {
   "cell_type": "markdown",
   "metadata": {},
   "source": [
    "#### Problem 2. Add arrays of mismatching lenghts\n",
    "Modify the function add arrays to allow for any number of arrays to be added."
   ]
  },
  {
   "cell_type": "code",
   "execution_count": null,
   "metadata": {},
   "outputs": [],
   "source": []
  },
  {
   "cell_type": "markdown",
   "metadata": {},
   "source": [
    "#### Problem 3. Add any number of arrays\n",
    "Modify the function add arrays to allow for any number of arrays to be added."
   ]
  },
  {
   "cell_type": "code",
   "execution_count": null,
   "metadata": {},
   "outputs": [],
   "source": []
  }
 ],
 "metadata": {
  "kernelspec": {
   "display_name": "Python 3",
   "language": "python",
   "name": "python3"
  },
  "language_info": {
   "codemirror_mode": {
    "name": "ipython",
    "version": 3
   },
   "file_extension": ".py",
   "mimetype": "text/x-python",
   "name": "python",
   "nbconvert_exporter": "python",
   "pygments_lexer": "ipython3",
   "version": "3.7.3"
  }
 },
 "nbformat": 4,
 "nbformat_minor": 2
}
