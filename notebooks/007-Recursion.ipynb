{
 "cells": [
  {
   "cell_type": "markdown",
   "metadata": {},
   "source": [
    "# Lecture 6 - Numerical analysis with  `numpy` and visualization with `matplotlib`\n",
    "\n",
    "## Review\n",
    "* Questions about prior homework \n",
    "\n",
    "## Recursion\n",
    "* Writing recursive functions\n",
    "\n",
    "## Working with multidimensional arrays\n",
    "  \n",
    "* Installing and importing `numpy`\n",
    "* Creating numerical arrays 1D, 2D, 3D\n",
    "* Datatypes\n",
    "* Elementwise operations\n",
    "* Indexing\n",
    "* sum, min, max, variance, \n",
    "* Elementwise comparisons and logical operat\n",
    "\n",
    "## Visualizations using `matplotlib`\n",
    "  \n",
    "* Installing and importing `matplotlib`\n",
    "* matplotlib magic in jupyter\n",
    "\n",
    "### See also:\n",
    "\n",
    "1. Numpy Quickstart tutorial https://numpy.org/devdocs/user/quickstart.html\n",
    "\n",
    "2. Matplotlib Tutorial: https://matplotlib.org/tutorials/introductory/pyplot.html\n",
    "\n",
    "3. Online tutorials on numpy:\n",
    "    * Enthought: Introduction to Numerical Computing with NumPy (2019) https://youtu.be/ZB7BZMhfPgk\n",
    "\n",
    "3. Wes McKinney, Python for Data Analysis, 2nd Edition https://learning.oreilly.com/library/view/python-for-data/9781491957653/\n",
    "    * Chapter 4: NumPy Basics: arrays and vectorized computations\n",
    "    \n",
    "### Practice \n",
    "There are many online tutorials and challenges from beginner to avanced to practice solving problems in Python and to build up skills.\n",
    "\n",
    "* Numpy Exercises: https://www.w3resource.com/python-exercises/numpy/index.php\n",
    "For example:\n",
    "* https://learnpython.org \n",
    "* Python game https://checkio.org \n",
    "* Project Euler: https://projecteuler.net - clever maths\n",
    "* https://www.101computing.net"
   ]
  },
  {
   "cell_type": "markdown",
   "metadata": {},
   "source": [
    "# Review"
   ]
  },
  {
   "cell_type": "code",
   "execution_count": 137,
   "metadata": {},
   "outputs": [],
   "source": [
    "def f(n):\n",
    "    if n==0:\n",
    "        print('.')\n",
    "    else:\n",
    "        print(n, end='')\n",
    "        f(n-1)"
   ]
  },
  {
   "cell_type": "code",
   "execution_count": 138,
   "metadata": {},
   "outputs": [
    {
     "name": "stdout",
     "output_type": "stream",
     "text": [
      "54321.\n"
     ]
    }
   ],
   "source": [
    "f(5)"
   ]
  },
  {
   "cell_type": "code",
   "execution_count": 139,
   "metadata": {},
   "outputs": [],
   "source": [
    "def f(n):\n",
    "    if n>0:\n",
    "        print(n, end='')\n",
    "        f(n-1)"
   ]
  },
  {
   "cell_type": "code",
   "execution_count": 140,
   "metadata": {},
   "outputs": [
    {
     "name": "stdout",
     "output_type": "stream",
     "text": [
      "54321"
     ]
    }
   ],
   "source": [
    "f(5)"
   ]
  },
  {
   "cell_type": "code",
   "execution_count": 141,
   "metadata": {},
   "outputs": [],
   "source": [
    "def f(n):\n",
    "    if n==0:\n",
    "        print('.')\n",
    "    else:\n",
    "        print(n, end='')\n",
    "        f(n-1)\n",
    "        f(n-1)"
   ]
  },
  {
   "cell_type": "code",
   "execution_count": 142,
   "metadata": {},
   "outputs": [
    {
     "name": "stdout",
     "output_type": "stream",
     "text": [
      "321.\n",
      ".\n",
      "1.\n",
      ".\n",
      "21.\n",
      ".\n",
      "1.\n",
      ".\n"
     ]
    }
   ],
   "source": [
    "f(3)"
   ]
  },
  {
   "cell_type": "code",
   "execution_count": 197,
   "metadata": {},
   "outputs": [],
   "source": [
    "vowels = 'aeoiuy'\n",
    "\n",
    "def f(s):\n",
    "    if len(s) == 0:\n",
    "        return s\n",
    "    if s[0] in vowels:\n",
    "        return s[0] + '.' + f(s[2:])\n",
    "    return s[0]+f(s[1:])"
   ]
  },
  {
   "cell_type": "code",
   "execution_count": 198,
   "metadata": {},
   "outputs": [
    {
     "name": "stdout",
     "output_type": "stream",
     "text": [
      "I ha.e.a.dre.m\n"
     ]
    }
   ],
   "source": [
    "print(f('I have a dream'))"
   ]
  },
  {
   "cell_type": "code",
   "execution_count": 162,
   "metadata": {},
   "outputs": [],
   "source": [
    "def tower(n, source, destination, other):\n"
   ]
  },
  {
   "cell_type": "code",
   "execution_count": 155,
   "metadata": {},
   "outputs": [
    {
     "name": "stdout",
     "output_type": "stream",
     "text": [
      "A -> C\n",
      "A -> B\n",
      "C -> B\n"
     ]
    }
   ],
   "source": [
    "tower(2, 'A', 'B', 'C')"
   ]
  },
  {
   "cell_type": "code",
   "execution_count": 199,
   "metadata": {},
   "outputs": [],
   "source": [
    "%matplotlib inline\n",
    "from matplotlib import pyplot as plt\n",
    "import numpy as np\n"
   ]
  },
  {
   "cell_type": "code",
   "execution_count": 298,
   "metadata": {},
   "outputs": [],
   "source": [
    "# point and direction\n",
    "x, v, u = np.array([0, 0]), np.array([1, 0]), np.array([0, 1])"
   ]
  },
  {
   "cell_type": "code",
   "execution_count": 315,
   "metadata": {},
   "outputs": [],
   "source": [
    "def vplot(x, v):\n",
    "    plt.plot([x[0], x[0] + v[0]], [x[1], x[1] + v[1]])\n",
    "    plt.grid(True)\n",
    "    plt.axis('equal')"
   ]
  },
  {
   "cell_type": "code",
   "execution_count": 316,
   "metadata": {},
   "outputs": [
    {
     "data": {
      "image/png": "[encoded data removed]",
      "text/plain": [
       "<Figure size 432x288 with 1 Axes>"
      ]
     },
     "metadata": {
      "needs_background": "light"
     },
     "output_type": "display_data"
    }
   ],
   "source": [
    "vplot(x, v)\n",
    "vplot(x, u)\n",
    "vplot(x, v+u)"
   ]
  },
  {
   "cell_type": "code",
   "execution_count": 308,
   "metadata": {},
   "outputs": [
    {
     "data": {
      "image/png": "[encoded data removed]",
      "text/plain": [
       "<Figure size 432x288 with 1 Axes>"
      ]
     },
     "metadata": {
      "needs_background": "light"
     },
     "output_type": "display_data"
    }
   ],
   "source": [
    "def vstep(x, u, v):\n",
    "    vplot(x, v/3)\n",
    "    x = x + v/3\n",
    "    vplot(x, u/3)\n",
    "    x += u/3\n",
    "    vplot(x, v/3)\n",
    "    x += v/3\n",
    "    vplot(x, -u/3)\n",
    "    x -= u/3\n",
    "    vplot(x, v/3)\n",
    "    \n",
    "vstep(x, u, v)"
   ]
  },
  {
   "cell_type": "code",
   "execution_count": 330,
   "metadata": {},
   "outputs": [],
   "source": [
    "def vstep(x, u, v, n):\n",
    "    if n == 0:\n",
    "        vplot(x, v/3)\n",
    "        x = x + v/3\n",
    "        vplot(x, u/3)\n",
    "        x += u/3\n",
    "        vplot(x, v/3)\n",
    "        x += v/3\n",
    "        vplot(x, -u/3)\n",
    "        x -= u/3\n",
    "        vplot(x, v/3)\n",
    "    else:\n",
    "        vstep(x, u/3, v/3, n-1)\n",
    "        x = x + v/3\n",
    "        vstep(x, v/3, u/3, n-1)\n",
    "        x += u/3\n",
    "        vstep(x, u/3, v/3, n-1)\n",
    "        x += v/3\n",
    "        vstep(x, -v/3, -u/3, n-1)\n",
    "        x -= u/3\n",
    "        vstep(x, u/3, v/3, n-1)\n"
   ]
  },
  {
   "cell_type": "code",
   "execution_count": 335,
   "metadata": {},
   "outputs": [
    {
     "data": {
      "image/png": "[encoded data removed]",
      "text/plain": [
       "<Figure size 432x288 with 1 Axes>"
      ]
     },
     "metadata": {
      "needs_background": "light"
     },
     "output_type": "display_data"
    }
   ],
   "source": [
    "vstep(x, u, v, 0)\n",
    "plt.axis('equal')\n",
    "plt.axis(False);"
   ]
  },
  {
   "cell_type": "code",
   "execution_count": 336,
   "metadata": {},
   "outputs": [
    {
     "data": {
      "image/png": "[encoded data removed]",
      "text/plain": [
       "<Figure size 432x288 with 1 Axes>"
      ]
     },
     "metadata": {
      "needs_background": "light"
     },
     "output_type": "display_data"
    }
   ],
   "source": [
    "vstep(x, u, v, 1)\n",
    "plt.axis('equal')\n",
    "plt.axis(False);"
   ]
  },
  {
   "cell_type": "code",
   "execution_count": 338,
   "metadata": {},
   "outputs": [
    {
     "data": {
      "image/png": "[encoded data removed]",
      "text/plain": [
       "<Figure size 432x288 with 1 Axes>"
      ]
     },
     "metadata": {
      "needs_background": "light"
     },
     "output_type": "display_data"
    }
   ],
   "source": [
    "vstep(x, u, v, 2)\n",
    "plt.axis('equal')\n",
    "plt.axis(False);"
   ]
  },
  {
   "cell_type": "code",
   "execution_count": 341,
   "metadata": {},
   "outputs": [
    {
     "data": {
      "image/png": "[encoded data removed]",
      "text/plain": [
       "<Figure size 432x288 with 1 Axes>"
      ]
     },
     "metadata": {
      "needs_background": "light"
     },
     "output_type": "display_data"
    }
   ],
   "source": [
    "vstep(x, u, v, 3)\n",
    "plt.axis('equal')\n",
    "plt.axis(False);"
   ]
  },
  {
   "cell_type": "code",
   "execution_count": 365,
   "metadata": {},
   "outputs": [],
   "source": [
    "def branch(x, u, v):\n",
    "    vplot(x, u)\n",
    "    y = x + 0.3*u\n",
    "    w = 0.6*u + 0.3*v\n",
    "    s = 0.6*v - 0.3*u\n",
    "    vplot(y, w)\n",
    "    vplot(y, s)"
   ]
  },
  {
   "cell_type": "code",
   "execution_count": 371,
   "metadata": {},
   "outputs": [
    {
     "data": {
      "image/png": "[encoded data removed]",
      "text/plain": [
       "<Figure size 432x288 with 1 Axes>"
      ]
     },
     "metadata": {
      "needs_background": "light"
     },
     "output_type": "display_data"
    }
   ],
   "source": [
    "branch(x, u, v)\n",
    "plt.axis('equal')\n",
    "plt.axis(False);"
   ]
  },
  {
   "cell_type": "code",
   "execution_count": 374,
   "metadata": {},
   "outputs": [],
   "source": [
    "def branch(x, u, v, n):\n",
    "    vplot(x, u)\n",
    "    if n>0:\n",
    "        y = x + 0.3*u\n",
    "        w = 0.6*u + 0.3*v\n",
    "        s = 0.6*v - 0.3*u\n",
    "        branch(y, w, s, n-1)"
   ]
  },
  {
   "cell_type": "code",
   "execution_count": 379,
   "metadata": {},
   "outputs": [
    {
     "data": {
      "text/plain": [
       "(0.97525, 1.5197500000000002, 0.95, 2.05)"
      ]
     },
     "execution_count": 379,
     "metadata": {},
     "output_type": "execute_result"
    },
    {
     "data": {
      "image/png": "[encoded data removed]",
      "text/plain": [
       "<Figure size 432x288 with 1 Axes>"
      ]
     },
     "metadata": {
      "needs_background": "light"
     },
     "output_type": "display_data"
    }
   ],
   "source": [
    "branch(x, u, v, 10)\n",
    "plt.axis('equal')\n",
    "plt.axis(False)"
   ]
  },
  {
   "cell_type": "code",
   "execution_count": 388,
   "metadata": {},
   "outputs": [],
   "source": [
    "def branch(x, u, v, n):\n",
    "    vplot(x, u)\n",
    "    if n>0:\n",
    "        y = x + 0.4*u\n",
    "        w = 0.6*u + 0.3*v\n",
    "        s = 0.6*v - 0.3*u\n",
    "        branch(y, w, s, n-1)\n",
    "        \n",
    "        y = x + 0.7*u\n",
    "        w = 0.5*u - 0.32*v\n",
    "        s = 0.5*v + 0.32*u\n",
    "        branch(y, w, s, n-1)"
   ]
  },
  {
   "cell_type": "code",
   "execution_count": 391,
   "metadata": {},
   "outputs": [
    {
     "data": {
      "image/png": "[encoded data removed]",
      "text/plain": [
       "<Figure size 432x288 with 1 Axes>"
      ]
     },
     "metadata": {
      "needs_background": "light"
     },
     "output_type": "display_data"
    }
   ],
   "source": [
    "branch(x, u, v, 3)\n",
    "plt.axis('equal')\n",
    "plt.axis(False);"
   ]
  },
  {
   "cell_type": "code",
   "execution_count": 392,
   "metadata": {},
   "outputs": [
    {
     "data": {
      "image/png": "[encoded data removed]",
      "text/plain": [
       "<Figure size 432x288 with 1 Axes>"
      ]
     },
     "metadata": {
      "needs_background": "light"
     },
     "output_type": "display_data"
    }
   ],
   "source": [
    "branch(x, u, v, 6)\n",
    "plt.axis('equal')\n",
    "plt.axis(False);"
   ]
  },
  {
   "cell_type": "markdown",
   "metadata": {},
   "source": [
    "# Lecture\n",
    "\n",
    "Operations on arrays of data"
   ]
  },
  {
   "cell_type": "markdown",
   "metadata": {},
   "source": [
    "* Element-wise operations. \n",
    "* Multiply two arrays.\n",
    "* Add a number to an array.\n",
    "* Vector dot product\n",
    "* Multidimensional arrays"
   ]
  },
  {
   "cell_type": "markdown",
   "metadata": {},
   "source": [
    "### Using arbitrary numbers of arguments into a functino"
   ]
  },
  {
   "cell_type": "code",
   "execution_count": null,
   "metadata": {},
   "outputs": [],
   "source": [
    "def biggest(*args):\n",
    "    print(max(args))"
   ]
  },
  {
   "cell_type": "code",
   "execution_count": null,
   "metadata": {},
   "outputs": [],
   "source": [
    "biggest(1, 2, 3, 4)"
   ]
  },
  {
   "cell_type": "code",
   "execution_count": null,
   "metadata": {},
   "outputs": [],
   "source": [
    "a = (1, 2, 3, 4)"
   ]
  },
  {
   "cell_type": "code",
   "execution_count": null,
   "metadata": {},
   "outputs": [],
   "source": [
    "biggest(*a)"
   ]
  },
  {
   "cell_type": "code",
   "execution_count": null,
   "metadata": {},
   "outputs": [],
   "source": [
    "import itertools\n",
    "\n",
    "class Polynomial:\n",
    "    \n",
    "    def __init__(self, *coefs):\n",
    "        self.coefs = coefs\n",
    "        \n",
    "    def _repr_latex_(self):\n",
    "        s = [(f\"{a}x^{i}\") for i, a in enumerate(self.coefs)] \n",
    "        return f'$${\"+\".join(s)}$$'\n",
    "    \n",
    "    def __add__(self, other):\n",
    "        coefs = tuple(x+y for x, y in itertools.zip_longest(self.coefs, other.coefs, fillvalue=0))\n",
    "        return Polynomial(*coefs)\n",
    "    \n",
    "    def __sub__(self, other):\n",
    "        coefs = tuple(x-y for x, y in itertools.zip_longest(self.coefs, other.coefs, fillvalue=0))\n",
    "        return Polynomial(*coefs)"
   ]
  },
  {
   "cell_type": "code",
   "execution_count": null,
   "metadata": {},
   "outputs": [],
   "source": [
    "f = Polynomial(1, 2, 3)\n",
    "f"
   ]
  },
  {
   "cell_type": "code",
   "execution_count": null,
   "metadata": {},
   "outputs": [],
   "source": [
    "g = Polynomial(0, 4, -3, 3)\n",
    "g"
   ]
  },
  {
   "cell_type": "code",
   "execution_count": null,
   "metadata": {},
   "outputs": [],
   "source": [
    "f+g"
   ]
  },
  {
   "cell_type": "code",
   "execution_count": null,
   "metadata": {},
   "outputs": [],
   "source": [
    "f-g"
   ]
  },
  {
   "cell_type": "code",
   "execution_count": null,
   "metadata": {},
   "outputs": [],
   "source": [
    "a, b = (1, 2, 3), (8, 3, 4)\n",
    "c = []\n",
    "for i in range(len(a)):\n",
    "    c.append(a[i] + b[i])\n",
    "tuple(c)"
   ]
  },
  {
   "cell_type": "code",
   "execution_count": null,
   "metadata": {},
   "outputs": [],
   "source": [
    "a, b = (1, 2, 3), (8, 3, 4)\n",
    "c = []\n",
    "for x, y in zip(a, b):\n",
    "    c.append(x+y)\n",
    "tuple(c)"
   ]
  },
  {
   "cell_type": "code",
   "execution_count": null,
   "metadata": {},
   "outputs": [],
   "source": [
    "a, b = (1, 2, 3), (8, 3, 4)\n",
    "tuple(x+y for x, y in zip(a,b))"
   ]
  },
  {
   "cell_type": "code",
   "execution_count": null,
   "metadata": {},
   "outputs": [],
   "source": [
    "a, b = (1, 2, 3), (8, 3, 4, 8, 9)\n",
    "tuple(x+y for x, y in itertools.zip_longest(a, b, fillvalue=0))"
   ]
  },
  {
   "cell_type": "code",
   "execution_count": null,
   "metadata": {},
   "outputs": [],
   "source": [
    "Polynomial(3, 2, 0)"
   ]
  },
  {
   "cell_type": "markdown",
   "metadata": {},
   "source": [
    "## Element-wise operations"
   ]
  },
  {
   "cell_type": "markdown",
   "metadata": {},
   "source": [
    "#### Without numpy"
   ]
  },
  {
   "cell_type": "code",
   "execution_count": null,
   "metadata": {},
   "outputs": [],
   "source": [
    "a, b = [1, 2, 3],  [3, -4, 5]"
   ]
  },
  {
   "cell_type": "code",
   "execution_count": null,
   "metadata": {},
   "outputs": [],
   "source": [
    "[x*y for x, y in zip(a, b)]"
   ]
  },
  {
   "cell_type": "code",
   "execution_count": null,
   "metadata": {},
   "outputs": [],
   "source": [
    "d = sum(x*y for x, y in zip(a, b))   # dot product of a, b\n",
    "d"
   ]
  },
  {
   "cell_type": "code",
   "execution_count": null,
   "metadata": {},
   "outputs": [],
   "source": [
    "length_a = sum(x*x for x in a)**0.5\n",
    "length_b = sum(x*x for x in b)**0.5"
   ]
  },
  {
   "cell_type": "code",
   "execution_count": null,
   "metadata": {},
   "outputs": [],
   "source": [
    "cos = d/length_a/length_b\n",
    "cos"
   ]
  },
  {
   "cell_type": "markdown",
   "metadata": {},
   "source": [
    "### With numpy"
   ]
  },
  {
   "cell_type": "code",
   "execution_count": null,
   "metadata": {},
   "outputs": [],
   "source": [
    "import numpy as np"
   ]
  },
  {
   "cell_type": "code",
   "execution_count": null,
   "metadata": {},
   "outputs": [],
   "source": [
    "a, b = np.array(a), np.array(b)"
   ]
  },
  {
   "cell_type": "code",
   "execution_count": null,
   "metadata": {},
   "outputs": [],
   "source": [
    "np.array(b)"
   ]
  },
  {
   "cell_type": "code",
   "execution_count": null,
   "metadata": {},
   "outputs": [],
   "source": [
    "cos = np.dot(a,b) / np.linalg.norm(a) / np.linalg.norm(b)"
   ]
  },
  {
   "cell_type": "code",
   "execution_count": null,
   "metadata": {},
   "outputs": [],
   "source": [
    "type(a)"
   ]
  },
  {
   "cell_type": "code",
   "execution_count": null,
   "metadata": {},
   "outputs": [],
   "source": [
    "a.dtype"
   ]
  },
  {
   "cell_type": "code",
   "execution_count": null,
   "metadata": {},
   "outputs": [],
   "source": [
    "cos.dtype"
   ]
  },
  {
   "cell_type": "code",
   "execution_count": null,
   "metadata": {},
   "outputs": [],
   "source": [
    "b.ndim"
   ]
  },
  {
   "cell_type": "code",
   "execution_count": null,
   "metadata": {},
   "outputs": [],
   "source": [
    "a = np.array([[1, 2, 3], [4, 5, 6.]])"
   ]
  },
  {
   "cell_type": "code",
   "execution_count": null,
   "metadata": {},
   "outputs": [],
   "source": [
    "a.shape"
   ]
  },
  {
   "cell_type": "code",
   "execution_count": null,
   "metadata": {},
   "outputs": [],
   "source": [
    "a "
   ]
  },
  {
   "cell_type": "code",
   "execution_count": null,
   "metadata": {},
   "outputs": [],
   "source": [
    "b = a.T - 3"
   ]
  },
  {
   "cell_type": "code",
   "execution_count": null,
   "metadata": {},
   "outputs": [],
   "source": [
    "b"
   ]
  },
  {
   "cell_type": "code",
   "execution_count": null,
   "metadata": {},
   "outputs": [],
   "source": [
    "a * b"
   ]
  },
  {
   "cell_type": "code",
   "execution_count": null,
   "metadata": {},
   "outputs": [],
   "source": [
    "a.T * b"
   ]
  },
  {
   "cell_type": "code",
   "execution_count": null,
   "metadata": {},
   "outputs": [],
   "source": [
    "a @ b"
   ]
  },
  {
   "cell_type": "code",
   "execution_count": null,
   "metadata": {},
   "outputs": [],
   "source": [
    "b @ a"
   ]
  },
  {
   "cell_type": "code",
   "execution_count": null,
   "metadata": {},
   "outputs": [],
   "source": [
    "c = b @ a"
   ]
  },
  {
   "cell_type": "code",
   "execution_count": null,
   "metadata": {},
   "outputs": [],
   "source": [
    "c[:, 0]"
   ]
  },
  {
   "cell_type": "code",
   "execution_count": null,
   "metadata": {},
   "outputs": [],
   "source": [
    "%matplotlib inline\n",
    "from matplotlib import pyplot as plt\n",
    "import numpy as np"
   ]
  },
  {
   "cell_type": "code",
   "execution_count": null,
   "metadata": {},
   "outputs": [],
   "source": [
    "t = np.linspace(-3, 3, 200)\n",
    "s = 1 + np.cos(2*np.pi*t)\n",
    "plt.plot(t, s, '.-g')\n",
    "plt.plot(t, t*t, '-r')\n",
    "plt.xlabel('time (s)')\n",
    "plt.ylabel('voltage (mV)')\n",
    "plt.title('About as simple as it gets, folks')\n",
    "plt.grid('on')"
   ]
  },
  {
   "cell_type": "code",
   "execution_count": null,
   "metadata": {},
   "outputs": [],
   "source": [
    "plt.scatter(np.random.randn(300), np.random.randn(300))"
   ]
  },
  {
   "cell_type": "code",
   "execution_count": null,
   "metadata": {},
   "outputs": [],
   "source": [
    "import json\n",
    "\n",
    "with open('us-cities.json') as f:\n",
    "    cities = json.load(f)\n"
   ]
  },
  {
   "cell_type": "code",
   "execution_count": null,
   "metadata": {},
   "outputs": [],
   "source": [
    "xy = [(city['longitude'], city['latitude']) for city in cities]\n",
    "xy = np.array(xy)"
   ]
  },
  {
   "cell_type": "code",
   "execution_count": null,
   "metadata": {},
   "outputs": [],
   "source": [
    "xy.shape"
   ]
  },
  {
   "cell_type": "code",
   "execution_count": null,
   "metadata": {},
   "outputs": [],
   "source": [
    "plt.scatter(xy[:, 0], xy[:, 1])\n",
    "plt.grid('on')"
   ]
  },
  {
   "cell_type": "code",
   "execution_count": null,
   "metadata": {},
   "outputs": [],
   "source": [
    "%matplotlib inline\n",
    "from matplotlib import pyplot as plt\n",
    "\n",
    "xy = np.array([(city['longitude'], city['latitude']) for city in cities])\n",
    "size = np.array([int(city['population'])/10000  for city in cities])\n",
    "plt.scatter(xy[:,0], xy[:, 1], s=size, alpha=0.4)\n",
    "plt.axis('off');"
   ]
  },
  {
   "cell_type": "markdown",
   "metadata": {},
   "source": [
    "## image plots"
   ]
  },
  {
   "cell_type": "code",
   "execution_count": null,
   "metadata": {},
   "outputs": [],
   "source": [
    "np.meshgrid([1, 2, 3], [1, 2, 3, 4])"
   ]
  },
  {
   "cell_type": "code",
   "execution_count": null,
   "metadata": {},
   "outputs": [],
   "source": [
    "x, y = np.meshgrid(np.linspace(-1, 1, 100), np.linspace(-1, 1, 100))\n",
    "\n",
    "fig, ax = plt.subplots(1, 3, figsize=(10, 4))\n",
    "ax[0].imshow(x)\n",
    "ax[1].imshow(y)\n",
    "ax[2].imshow(x*x+y*y)"
   ]
  },
  {
   "cell_type": "code",
   "execution_count": null,
   "metadata": {},
   "outputs": [],
   "source": [
    "x, y = np.meshgrid(np.r_[-1:1:0.01], np.r_[-1:1:0.01])\n",
    "sigma = 0.1\n",
    "fig, ax = plt.subplots(1, 3, figsize=(10, 4))\n",
    "ax[0].imshow(x)\n",
    "ax[0].axis(False)\n",
    "\n",
    "ax[1].imshow(y)\n",
    "ax[1].axis(False)\n",
    "\n",
    "ax[2].imshow(np.exp(-(x*x+y*y)/2/sigma/sigma))\n",
    "ax[2].axis(False)"
   ]
  },
  {
   "cell_type": "code",
   "execution_count": null,
   "metadata": {},
   "outputs": [],
   "source": [
    "x, y = np.meshgrid(np.r_[-1:1:0.01], np.r_[-1:1:0.01])\n",
    "sigma = 0.1\n",
    "fig, ax = plt.subplots(1, 3, figsize=(10, 4))\n",
    "\n",
    "ax[0].imshow(x)\n",
    "ax[0].axis(False)\n",
    "\n",
    "ax[1].imshow(y, cmap='magma')\n",
    "ax[1].axis(False)\n",
    "\n",
    "cx, cy = 0, -0.3 \n",
    "z = np.exp(-((x-cx)**2+(y-cy)**2)/2/sigma/sigma)\n",
    "cx, cy = 0.2, 0.3 \n",
    "z -= np.exp(-((x-cx)**2+(y-cy)**2)/2/sigma/sigma)\n",
    "\n",
    "ax[2].imshow(z, cmap='seismic')\n",
    "ax[2].axis(False)"
   ]
  },
  {
   "cell_type": "code",
   "execution_count": null,
   "metadata": {},
   "outputs": [],
   "source": [
    "import requests\n",
    "import os\n",
    "import imageio"
   ]
  },
  {
   "cell_type": "code",
   "execution_count": null,
   "metadata": {},
   "outputs": [],
   "source": [
    "url = \"https://upload.wikimedia.org/wikipedia/commons/thumb/a/a7/Pluto-01_Stern_03_Pluto_Color_TXT.jpg/480px-Pluto-01_Stern_03_Pluto_Color_TXT.jpg\""
   ]
  },
  {
   "cell_type": "code",
   "execution_count": null,
   "metadata": {},
   "outputs": [],
   "source": [
    "local_file = url.split('/')[-1]\n",
    "local_file"
   ]
  },
  {
   "cell_type": "code",
   "execution_count": null,
   "metadata": {},
   "outputs": [],
   "source": [
    "with open(local_file, 'wb') as f:\n",
    "    f.write(requests.get(url).content)"
   ]
  },
  {
   "cell_type": "code",
   "execution_count": null,
   "metadata": {},
   "outputs": [],
   "source": [
    "img = imageio.imread(local_file)"
   ]
  },
  {
   "cell_type": "code",
   "execution_count": null,
   "metadata": {},
   "outputs": [],
   "source": [
    "img.ndim"
   ]
  },
  {
   "cell_type": "code",
   "execution_count": null,
   "metadata": {},
   "outputs": [],
   "source": [
    "fig, ax = plt.subplots(1, 1, figsize=(8, 10))\n",
    "ax.imshow(img)\n",
    "ax.axis(False)"
   ]
  },
  {
   "cell_type": "code",
   "execution_count": null,
   "metadata": {},
   "outputs": [],
   "source": [
    "plt.imshow(img.min(axis=2))"
   ]
  },
  {
   "cell_type": "code",
   "execution_count": null,
   "metadata": {},
   "outputs": [],
   "source": [
    "fig, ax = plt.subplots(1, 1, figsize=(8, 10))\n",
    "ax.imshow(img.mean(axis=-1), cmap='inferno')\n",
    "ax.axis(False)"
   ]
  },
  {
   "cell_type": "code",
   "execution_count": null,
   "metadata": {},
   "outputs": [],
   "source": [
    "fig, ax = plt.subplots(1, 3, figsize=(18, 10))\n",
    "ax[0].imshow(img[:,:,0], cmap='gray')\n",
    "ax[0].axis(False)\n",
    "ax[1].imshow(img[:,:,1], cmap='gray')\n",
    "ax[1].axis(False)\n",
    "ax[2].imshow(img[:,:,2], cmap='gray')\n",
    "ax[2].axis(False)"
   ]
  },
  {
   "cell_type": "code",
   "execution_count": null,
   "metadata": {},
   "outputs": [],
   "source": [
    "ig, ax = plt.subplots(1, 2, figsize=(18, 10))\n",
    "ax[0].imshow(img[100:300,200:300,:], cmap='gray')\n",
    "ax[0].axis(False)\n",
    "ax[1].imshow(img[300:700:4,300:400:4,2], cmap='gray')\n",
    "ax[1].axis(False)"
   ]
  },
  {
   "cell_type": "markdown",
   "metadata": {},
   "source": [
    "## A little linear algebra"
   ]
  },
  {
   "cell_type": "code",
   "execution_count": null,
   "metadata": {},
   "outputs": [],
   "source": [
    "%matplotlib inline\n",
    "from matplotlib import pyplot as plt\n",
    "import numpy as np"
   ]
  },
  {
   "cell_type": "code",
   "execution_count": null,
   "metadata": {},
   "outputs": [],
   "source": [
    "# specify points - method 1\n",
    "house = np.array([[0, 5], [5, 5], [5, 0], [0, 0], [0, 5], [2.5, 7], [5, 5], [0, 5]])"
   ]
  },
  {
   "cell_type": "code",
   "execution_count": null,
   "metadata": {},
   "outputs": [],
   "source": [
    "# specify points - method 2\n",
    "x = np.array([0. , 5. , 5. , 0. , 0. , 2.5, 5. , 0. ])\n",
    "y = np.array([5., 5., 0., 0., 5., 7., 5., 5.])\n",
    "house = np.stack((x, y))"
   ]
  },
  {
   "cell_type": "code",
   "execution_count": null,
   "metadata": {},
   "outputs": [],
   "source": [
    "house"
   ]
  },
  {
   "cell_type": "code",
   "execution_count": null,
   "metadata": {},
   "outputs": [],
   "source": [
    "house.shape"
   ]
  },
  {
   "cell_type": "code",
   "execution_count": null,
   "metadata": {},
   "outputs": [],
   "source": [
    "plt.plot(house[0, :], house[1, :])\n",
    "plt.axis('equal')\n",
    "plt.grid(True)"
   ]
  },
  {
   "cell_type": "code",
   "execution_count": null,
   "metadata": {},
   "outputs": [],
   "source": [
    "r = (10, 1)  # offset"
   ]
  },
  {
   "cell_type": "code",
   "execution_count": null,
   "metadata": {},
   "outputs": [],
   "source": [
    "house + r  "
   ]
  },
  {
   "cell_type": "code",
   "execution_count": null,
   "metadata": {},
   "outputs": [],
   "source": [
    "house.T + r   # broadcasting worked because the last dimension matched"
   ]
  },
  {
   "cell_type": "code",
   "execution_count": null,
   "metadata": {},
   "outputs": [],
   "source": [
    "house2 = (house.T + r).T    # translated house"
   ]
  },
  {
   "cell_type": "markdown",
   "metadata": {},
   "source": [
    "Or you may change the dimensionality of r:"
   ]
  },
  {
   "cell_type": "code",
   "execution_count": null,
   "metadata": {},
   "outputs": [],
   "source": [
    "r = np.array(r)[:, None]\n",
    "r.shape"
   ]
  },
  {
   "cell_type": "code",
   "execution_count": null,
   "metadata": {},
   "outputs": [],
   "source": [
    "house2 = house + r"
   ]
  },
  {
   "cell_type": "code",
   "execution_count": null,
   "metadata": {},
   "outputs": [],
   "source": [
    "plt.plot(house[0, :], house[1, :])\n",
    "plt.plot(house2[0, :], house2[1, :])\n",
    "plt.axis('equal');"
   ]
  },
  {
   "cell_type": "code",
   "execution_count": null,
   "metadata": {},
   "outputs": [],
   "source": [
    "# scaling - divide by a constant\n",
    "\n",
    "house3 = house / 1.5 + r\n",
    "\n",
    "plt.plot(house[0, :], house[1, :])\n",
    "plt.plot(house3[0, :], house3[1, :])\n",
    "plt.axis('equal');"
   ]
  },
  {
   "cell_type": "code",
   "execution_count": null,
   "metadata": {},
   "outputs": [],
   "source": [
    "# rotation - dot product of coordinates with a rotation matrix\n",
    "\n",
    "angle = 20 / 180 * np.pi\n",
    "rot = np.array([\n",
    "    [np.cos(angle), np.sin(angle)], \n",
    "    [-np.sin(angle), np.cos(angle)]\n",
    "])"
   ]
  },
  {
   "cell_type": "code",
   "execution_count": null,
   "metadata": {},
   "outputs": [],
   "source": [
    "house4 = rot @ house / 1.5 + r"
   ]
  },
  {
   "cell_type": "code",
   "execution_count": null,
   "metadata": {},
   "outputs": [],
   "source": [
    "\n",
    "plt.plot(house[0, :], house[1, :])\n",
    "plt.plot(house4[0, :], house4[1, :])\n",
    "plt.axis('equal');"
   ]
  },
  {
   "cell_type": "code",
   "execution_count": null,
   "metadata": {},
   "outputs": [],
   "source": [
    "# rotate around the center"
   ]
  },
  {
   "cell_type": "code",
   "execution_count": null,
   "metadata": {},
   "outputs": [],
   "source": [
    "center = house.mean(axis=1, keepdims=True)"
   ]
  },
  {
   "cell_type": "code",
   "execution_count": null,
   "metadata": {},
   "outputs": [],
   "source": [
    "house5 = house - center\n",
    "\n",
    "angle = 5 / 180 * np.pi\n",
    "scale = 1.2\n",
    "\n",
    "transform = np.array([\n",
    "    [np.cos(angle), np.sin(angle)], \n",
    "    [-np.sin(angle), np.cos(angle)]\n",
    "]) / scale\n",
    "\n",
    "for i in range(20):\n",
    "    plt.plot(house5[0, :], house5[1, :])\n",
    "    house5 = transform @ house5\n",
    "    \n",
    "plt.axis('equal');"
   ]
  },
  {
   "cell_type": "markdown",
   "metadata": {},
   "source": [
    "## Random Walk\n",
    "\n",
    "Start at (0, 0) and make a step of length 1 in a random direction. \n",
    "Repeat 1000 times. Plot your path."
   ]
  },
  {
   "cell_type": "code",
   "execution_count": null,
   "metadata": {},
   "outputs": [],
   "source": [
    "def random_walk(steps=1000, walks=1, line_width=1):\n",
    "    for _ in range(walks):\n",
    "        directions = np.random.uniform(-np.pi, +np.pi, steps)\n",
    "        hop_size = np.random.exponential(1.0, steps)[None, :]\n",
    "        hops = np.stack([np.cos(directions), np.sin(directions)]) * hop_size\n",
    "        path = np.cumsum(hops, axis=1)\n",
    "        plt.plot(path[0, :], path[1, :], lw=line_width, alpha=0.5)\n",
    "        plt.axis('equal')\n",
    "        plt.axis('off')"
   ]
  },
  {
   "cell_type": "code",
   "execution_count": null,
   "metadata": {},
   "outputs": [],
   "source": [
    "random_walk()"
   ]
  },
  {
   "cell_type": "code",
   "execution_count": null,
   "metadata": {},
   "outputs": [],
   "source": [
    "random_walk(steps=10000, line_width=0.2)"
   ]
  },
  {
   "cell_type": "code",
   "execution_count": null,
   "metadata": {},
   "outputs": [],
   "source": [
    "random_walk(steps=10000, line_width=0.2, walks=16)"
   ]
  },
  {
   "cell_type": "markdown",
   "metadata": {},
   "source": [
    "## Model fitting"
   ]
  },
  {
   "cell_type": "code",
   "execution_count": null,
   "metadata": {},
   "outputs": [],
   "source": [
    "n = 20\n",
    "sigma = 20.0\n",
    "slope = 1.3\n",
    "offset = 1.0\n",
    "bend = 0.5\n",
    "\n",
    "x = np.sort(np.random.uniform(0, 10, n))\n",
    "y =  bend * x*x + slope * x + offset + np.random.normal(0, sigma, n)\n",
    "plt.plot(x, y, '.')\n",
    "p = np.polyfit(x, y, 2)\n",
    "\n",
    "plt.plot(x, x*x * bend + x*slope + offset)\n",
    "plt.plot(x, x*x * p[0] + x*p[1] + p[2])\n",
    "plt.legend(('data', 'truth', 'fit'))\n",
    "print(p)"
   ]
  },
  {
   "cell_type": "markdown",
   "metadata": {},
   "source": [
    "# Homework"
   ]
  },
  {
   "cell_type": "markdown",
   "metadata": {},
   "source": [
    "\n",
    "1. Using the New York Times Covid-19 dataset, plot the number of cases for all states against time. \n",
    "\n",
    "* Bin by week, i.e. the updates should be accumulate on weekly basis rather than \n",
    "* Plot a second graph where each state's timeline is aligned to the date of its 1000$^{th}$ case."
   ]
  },
  {
   "cell_type": "code",
   "execution_count": null,
   "metadata": {},
   "outputs": [],
   "source": []
  }
 ],
 "metadata": {
  "kernelspec": {
   "display_name": "Python 3",
   "language": "python",
   "name": "python3"
  },
  "language_info": {
   "codemirror_mode": {
    "name": "ipython",
    "version": 3
   },
   "file_extension": ".py",
   "mimetype": "text/x-python",
   "name": "python",
   "nbconvert_exporter": "python",
   "pygments_lexer": "ipython3",
   "version": "3.7.3"
  }
 },
 "nbformat": 4,
 "nbformat_minor": 2
}
