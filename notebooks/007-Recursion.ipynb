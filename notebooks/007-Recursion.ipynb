{
 "cells": [
  {
   "cell_type": "markdown",
   "metadata": {},
   "source": [
    "# Lecture 7 - Numerical analysis with  `numpy` and visualization with `matplotlib`\n",
    "\n",
    "## Review\n",
    "* Questions about prior homework \n",
    "\n",
    "## Recursion\n",
    "* Writing recursive functions\n",
    "\n",
    "## Working with multidimensional arrays\n",
    "  \n",
    "* Installing and importing `numpy`\n",
    "* Creating numerical arrays 1D, 2D, 3D\n",
    "* Datatypes\n",
    "* Elementwise operations\n",
    "* Indexing\n",
    "* sum, min, max, variance, \n",
    "* Elementwise comparisons and logical operat\n",
    "\n",
    "## Visualizations using `matplotlib`\n",
    "  \n",
    "* Installing and importing `matplotlib`\n",
    "* matplotlib magic in jupyter\n",
    "\n",
    "### See also:\n",
    "\n",
    "1. Numpy Quickstart tutorial https://numpy.org/devdocs/user/quickstart.html\n",
    "\n",
    "2. Matplotlib Tutorial: https://matplotlib.org/tutorials/introductory/pyplot.html\n",
    "\n",
    "3. Online tutorials on numpy:\n",
    "    * Enthought: Introduction to Numerical Computing with NumPy (2019) https://youtu.be/ZB7BZMhfPgk\n",
    "\n",
    "3. Wes McKinney, Python for Data Analysis, 2nd Edition https://learning.oreilly.com/library/view/python-for-data/9781491957653/\n",
    "    * Chapter 4: NumPy Basics: arrays and vectorized computations\n",
    "    \n",
    "### Practice \n",
    "There are many online tutorials and challenges from beginner to avanced to practice solving problems in Python and to build up skills.\n",
    "\n",
    "* Numpy Exercises: https://www.w3resource.com/python-exercises/numpy/index.php\n",
    "For example:\n",
    "* https://learnpython.org \n",
    "* Python game https://checkio.org \n",
    "* Project Euler: https://projecteuler.net - clever maths\n",
    "* https://www.101computing.net"
   ]
  },
  {
   "cell_type": "markdown",
   "metadata": {},
   "source": [
    "# Recursion"
   ]
  },
  {
   "cell_type": "code",
   "execution_count": null,
   "metadata": {},
   "outputs": [],
   "source": [
    "def f(n):\n",
    "    print(n)\n",
    "    if n>0:\n",
    "        f(n-1)"
   ]
  },
  {
   "cell_type": "code",
   "execution_count": null,
   "metadata": {},
   "outputs": [],
   "source": [
    "f(4)"
   ]
  },
  {
   "cell_type": "code",
   "execution_count": null,
   "metadata": {},
   "outputs": [],
   "source": [
    "def f(n):\n",
    "    if n==0:\n",
    "        print('.')\n",
    "    else:\n",
    "        print(n, end='')\n",
    "        f(n-1)"
   ]
  },
  {
   "cell_type": "code",
   "execution_count": null,
   "metadata": {},
   "outputs": [],
   "source": [
    "f(5)"
   ]
  },
  {
   "cell_type": "code",
   "execution_count": null,
   "metadata": {},
   "outputs": [],
   "source": [
    "def f(n):\n",
    "    if n==0:\n",
    "        print('.')\n",
    "    else:\n",
    "        print(n, end='')\n",
    "        f(n-1)\n",
    "        f(n-1)"
   ]
  },
  {
   "cell_type": "code",
   "execution_count": null,
   "metadata": {},
   "outputs": [],
   "source": [
    "f(5)"
   ]
  },
  {
   "cell_type": "code",
   "execution_count": null,
   "metadata": {},
   "outputs": [],
   "source": [
    "def f(s):\n",
    "    if len(s) <= 1:\n",
    "        return s\n",
    "    return f(s[1:]) + s[0]"
   ]
  },
  {
   "cell_type": "code",
   "execution_count": null,
   "metadata": {},
   "outputs": [],
   "source": [
    "f('012345')"
   ]
  },
  {
   "cell_type": "code",
   "execution_count": null,
   "metadata": {},
   "outputs": [],
   "source": [
    "vowels = 'aeoiuy'\n",
    "\n",
    "def f(s):\n",
    "    if len(s) == 0:\n",
    "        return s\n",
    "    if s[0] in vowels:\n",
    "        return s[0] + '.' + f(s[2:])\n",
    "    return s[0]+f(s[1:])"
   ]
  },
  {
   "cell_type": "code",
   "execution_count": null,
   "metadata": {},
   "outputs": [],
   "source": [
    "print(f('I have a dream'))"
   ]
  },
  {
   "cell_type": "code",
   "execution_count": null,
   "metadata": {},
   "outputs": [],
   "source": [
    "def tower(n, source, destination, other):\n",
    "    if n == 1:\n",
    "        print(f'{source}->{destination}')\n",
    "    else:\n",
    "        tower(n-1, source, other, destination)\n",
    "        tower(1, source, destination, other)\n",
    "        tower(n-1, other, destination, source)"
   ]
  },
  {
   "cell_type": "code",
   "execution_count": null,
   "metadata": {},
   "outputs": [],
   "source": [
    "tower(1, 'A', 'B', 'C')"
   ]
  },
  {
   "cell_type": "code",
   "execution_count": null,
   "metadata": {},
   "outputs": [],
   "source": [
    "tower(4, 'A', 'B', 'C')"
   ]
  },
  {
   "cell_type": "code",
   "execution_count": null,
   "metadata": {},
   "outputs": [],
   "source": [
    "g = [[1, 2, 3, [4, 5]], 6, [7, 8]]"
   ]
  },
  {
   "cell_type": "code",
   "execution_count": null,
   "metadata": {},
   "outputs": [],
   "source": [
    "def flatten(x):\n",
    "    for i in x:\n",
    "        if isinstance(i, list):\n",
    "            yield from flatten(i)\n",
    "        else:\n",
    "            yield i"
   ]
  },
  {
   "cell_type": "code",
   "execution_count": null,
   "metadata": {},
   "outputs": [],
   "source": [
    "list(flatten(g))"
   ]
  },
  {
   "cell_type": "code",
   "execution_count": null,
   "metadata": {},
   "outputs": [],
   "source": [
    "def flatten(x):\n",
    "    for i in x:\n",
    "        try:\n",
    "            yield from flatten(i)\n",
    "        except TypeError:\n",
    "            yield i\n"
   ]
  },
  {
   "cell_type": "code",
   "execution_count": null,
   "metadata": {},
   "outputs": [],
   "source": [
    "list(flatten(g))"
   ]
  },
  {
   "cell_type": "code",
   "execution_count": null,
   "metadata": {},
   "outputs": [],
   "source": [
    "%matplotlib inline\n",
    "from matplotlib import pyplot as plt\n",
    "import numpy as np\n"
   ]
  },
  {
   "cell_type": "code",
   "execution_count": null,
   "metadata": {},
   "outputs": [],
   "source": [
    "# point and direction\n",
    "x, v, u = np.array([0, 0]), np.array([1, 0]), np.array([0, 1])"
   ]
  },
  {
   "cell_type": "code",
   "execution_count": null,
   "metadata": {},
   "outputs": [],
   "source": [
    "def vplot(x, v):\n",
    "    plt.plot([x[0], x[0] + v[0]], [x[1], x[1] + v[1]])\n",
    "    plt.grid(True)\n",
    "    plt.axis('equal')"
   ]
  },
  {
   "cell_type": "code",
   "execution_count": null,
   "metadata": {},
   "outputs": [],
   "source": [
    "vplot(x, v)\n",
    "vplot(x, u)\n",
    "vplot(x, v + u)"
   ]
  },
  {
   "cell_type": "code",
   "execution_count": null,
   "metadata": {},
   "outputs": [],
   "source": [
    "x = np.array([0, 0.])\n",
    "y = np.array(x)"
   ]
  },
  {
   "cell_type": "code",
   "execution_count": null,
   "metadata": {},
   "outputs": [],
   "source": [
    "y += 1"
   ]
  },
  {
   "cell_type": "code",
   "execution_count": null,
   "metadata": {},
   "outputs": [],
   "source": [
    "y"
   ]
  },
  {
   "cell_type": "code",
   "execution_count": null,
   "metadata": {},
   "outputs": [],
   "source": [
    "v, x"
   ]
  },
  {
   "cell_type": "code",
   "execution_count": null,
   "metadata": {},
   "outputs": [],
   "source": [
    "\n",
    "xx = np.array(x)\n",
    "vplot(x, v/3)\n",
    "x += v/3\n",
    "vplot(x, u/3)\n",
    "x += u/3\n",
    "vplot(x, v/3)\n",
    "x += v/3\n",
    "vplot(x, -u/3)\n",
    "x -= u/3\n",
    "vplot(x, v/3)\n",
    "\n"
   ]
  },
  {
   "cell_type": "code",
   "execution_count": null,
   "metadata": {},
   "outputs": [],
   "source": [
    "x = np.array([0, 0])\n",
    "def vstep(x, u, v):\n",
    "    vplot(x, v/3)\n",
    "    x = x + v/3\n",
    "    vplot(x, u/3)\n",
    "    x += u/3\n",
    "    vplot(x, v/3)\n",
    "    x += v/3\n",
    "    vplot(x, -u/3)\n",
    "    x -= u/3\n",
    "    vplot(x, v/3)\n",
    "    \n",
    "vstep(x, u, v)"
   ]
  },
  {
   "cell_type": "code",
   "execution_count": null,
   "metadata": {},
   "outputs": [],
   "source": [
    "def vstep(x, u, v, n):\n",
    "    if n == 0:\n",
    "        vplot(x, v/3)\n",
    "        x = x + v/3\n",
    "        vplot(x, u/3)\n",
    "        x += u/3\n",
    "        vplot(x, v/3)\n",
    "        x += v/3\n",
    "        vplot(x, -u/3)\n",
    "        x -= u/3\n",
    "        vplot(x, v/3)\n",
    "    else:\n",
    "        vstep(x, u/3, v/3, n-1)\n",
    "        x = x + v/3\n",
    "        vstep(x, v/3, u/3, n-1)\n",
    "        x += u/3\n",
    "        vstep(x, u/3, v/3, n-1)\n",
    "        x += v/3\n",
    "        vstep(x, -v/3, -u/3, n-1)\n",
    "        x -= u/3\n",
    "        vstep(x, u/3, v/3, n-1)\n"
   ]
  },
  {
   "cell_type": "code",
   "execution_count": null,
   "metadata": {},
   "outputs": [],
   "source": [
    "vstep(x, u, v, 0)\n",
    "plt.axis('equal')\n",
    "plt.axis(False);"
   ]
  },
  {
   "cell_type": "code",
   "execution_count": null,
   "metadata": {},
   "outputs": [],
   "source": [
    "vstep(x, u, v, 1)\n",
    "plt.axis('equal')\n",
    "plt.axis(False);"
   ]
  },
  {
   "cell_type": "code",
   "execution_count": null,
   "metadata": {},
   "outputs": [],
   "source": [
    "vstep(x, u, v, 2)\n",
    "plt.axis('equal')\n",
    "plt.axis(False);"
   ]
  },
  {
   "cell_type": "code",
   "execution_count": null,
   "metadata": {},
   "outputs": [],
   "source": [
    "vstep(x, u, v, 3)\n",
    "plt.axis('equal')\n",
    "plt.axis(False);"
   ]
  },
  {
   "cell_type": "code",
   "execution_count": null,
   "metadata": {},
   "outputs": [],
   "source": [
    "def branch(x, u, v):\n",
    "    vplot(x, u)\n",
    "    y = x + 0.3*u\n",
    "    w = 0.6*u + 0.3*v\n",
    "    s = 0.6*v - 0.3*u\n",
    "    vplot(y, w)\n",
    "    vplot(y, s)"
   ]
  },
  {
   "cell_type": "code",
   "execution_count": null,
   "metadata": {},
   "outputs": [],
   "source": [
    "branch(x, u, v)\n",
    "plt.axis('equal')\n",
    "plt.axis(False);"
   ]
  },
  {
   "cell_type": "code",
   "execution_count": null,
   "metadata": {},
   "outputs": [],
   "source": [
    "def branch(x, u, v, n):\n",
    "    vplot(x, u)\n",
    "    if n>0:\n",
    "        y = x + 0.3*u\n",
    "        w = 0.6*u + 0.3*v\n",
    "        s = 0.6*v - 0.3*u\n",
    "        branch(y, w, s, n-1)"
   ]
  },
  {
   "cell_type": "code",
   "execution_count": null,
   "metadata": {},
   "outputs": [],
   "source": [
    "branch(x, u, v, 10)\n",
    "plt.axis('equal')\n",
    "plt.axis(False)"
   ]
  },
  {
   "cell_type": "code",
   "execution_count": null,
   "metadata": {},
   "outputs": [],
   "source": [
    "def branch(x, u, v, n):\n",
    "    vplot(x, u)\n",
    "    if n>0:\n",
    "        y = x + 0.4*u\n",
    "        w = 0.6*u + 0.3*v\n",
    "        s = 0.6*v - 0.3*u\n",
    "        branch(y, w, s, n-1)\n",
    "        \n",
    "        y = x + 0.7*u\n",
    "        w = 0.5*u - 0.32*v\n",
    "        s = 0.5*v + 0.32*u\n",
    "        branch(y, w, s, n-1)"
   ]
  },
  {
   "cell_type": "code",
   "execution_count": null,
   "metadata": {},
   "outputs": [],
   "source": [
    "branch(x, u, v, 8)\n",
    "plt.axis('equal')\n",
    "plt.axis(False);"
   ]
  },
  {
   "cell_type": "code",
   "execution_count": null,
   "metadata": {},
   "outputs": [],
   "source": [
    "branch(x, u, v, 9)\n",
    "plt.axis('equal')\n",
    "plt.axis(False);"
   ]
  },
  {
   "cell_type": "code",
   "execution_count": null,
   "metadata": {},
   "outputs": [],
   "source": [
    "def vplot(x, v):\n",
    "    plt.plot([x[0], x[0] + v[0]], [x[1], x[1] + v[1]], 'k', lw=0.5, alpha=0.5)"
   ]
  },
  {
   "cell_type": "markdown",
   "metadata": {},
   "source": [
    "# Lecture\n",
    "\n",
    "Operations on arrays of data"
   ]
  },
  {
   "cell_type": "markdown",
   "metadata": {},
   "source": [
    "* Element-wise operations. \n",
    "* Multiply two arrays.\n",
    "* Add a number to an array.\n",
    "* Vector dot product\n",
    "* Multidimensional arrays"
   ]
  },
  {
   "cell_type": "markdown",
   "metadata": {},
   "source": [
    "### Using arbitrary numbers of arguments into a functino"
   ]
  },
  {
   "cell_type": "code",
   "execution_count": null,
   "metadata": {},
   "outputs": [],
   "source": [
    "def biggest(*args):\n",
    "    print(max(args))"
   ]
  },
  {
   "cell_type": "code",
   "execution_count": null,
   "metadata": {},
   "outputs": [],
   "source": [
    "biggest(1, 2, 3, 4)"
   ]
  },
  {
   "cell_type": "code",
   "execution_count": null,
   "metadata": {},
   "outputs": [],
   "source": [
    "a = (1, 2, 3, 4)"
   ]
  },
  {
   "cell_type": "code",
   "execution_count": null,
   "metadata": {},
   "outputs": [],
   "source": [
    "biggest(*a)"
   ]
  },
  {
   "cell_type": "code",
   "execution_count": null,
   "metadata": {},
   "outputs": [],
   "source": [
    "import itertools\n",
    "\n",
    "class Polynomial:\n",
    "    \n",
    "    def __init__(self, *coefs):\n",
    "        self.coefs = coefs\n",
    "        \n",
    "    def _repr_latex_(self):\n",
    "        s = [(f\"{a}x^{i}\") for i, a in enumerate(self.coefs)] \n",
    "        return f'$${\"+\".join(s)}$$'\n",
    "    \n",
    "    def __add__(self, other):\n",
    "        coefs = tuple(x+y for x, y in itertools.zip_longest(self.coefs, other.coefs, fillvalue=0))\n",
    "        return Polynomial(*coefs)\n",
    "    \n",
    "    def __sub__(self, other):\n",
    "        coefs = tuple(x-y for x, y in itertools.zip_longest(self.coefs, other.coefs, fillvalue=0))\n",
    "        return Polynomial(*coefs)\n",
    "    \n",
    "    def evaluate(self, x):\n",
    "        return sum(p*x**i for i, p in enumerate(self.coefs))\n",
    "    \n",
    "    def __call__(self, x):\n",
    "        return self.evaluate(x)"
   ]
  },
  {
   "cell_type": "code",
   "execution_count": null,
   "metadata": {},
   "outputs": [],
   "source": [
    "f = Polynomial(-100, 0, 3, -3, 2)"
   ]
  },
  {
   "cell_type": "code",
   "execution_count": null,
   "metadata": {},
   "outputs": [],
   "source": [
    "f"
   ]
  },
  {
   "cell_type": "code",
   "execution_count": null,
   "metadata": {},
   "outputs": [],
   "source": [
    "f.evaluate(2)"
   ]
  },
  {
   "cell_type": "code",
   "execution_count": null,
   "metadata": {},
   "outputs": [],
   "source": [
    "f(2.5)"
   ]
  },
  {
   "cell_type": "code",
   "execution_count": null,
   "metadata": {},
   "outputs": [],
   "source": [
    "f = Polynomial(1, 2, 3)\n",
    "f"
   ]
  },
  {
   "cell_type": "code",
   "execution_count": null,
   "metadata": {},
   "outputs": [],
   "source": [
    "g = Polynomial(0, 4, -3, 3)\n",
    "g"
   ]
  },
  {
   "cell_type": "code",
   "execution_count": null,
   "metadata": {},
   "outputs": [],
   "source": [
    "f+g"
   ]
  },
  {
   "cell_type": "code",
   "execution_count": null,
   "metadata": {},
   "outputs": [],
   "source": [
    "f-g"
   ]
  },
  {
   "cell_type": "code",
   "execution_count": null,
   "metadata": {},
   "outputs": [],
   "source": [
    "a, b = (1, 2, 3), (8, 3, 4)\n",
    "c = []\n",
    "for i in range(len(a)):\n",
    "    c.append(a[i] + b[i])\n",
    "tuple(c)"
   ]
  },
  {
   "cell_type": "code",
   "execution_count": null,
   "metadata": {},
   "outputs": [],
   "source": [
    "a, b = (1, 2, 3), (8, 3, 4)\n",
    "c = []\n",
    "for x, y in zip(a, b):\n",
    "    c.append(x+y)\n",
    "tuple(c)"
   ]
  },
  {
   "cell_type": "code",
   "execution_count": null,
   "metadata": {},
   "outputs": [],
   "source": [
    "a, b = (1, 2, 3), (8, 3, 4)\n",
    "tuple(x+y for x, y in zip(a,b))"
   ]
  },
  {
   "cell_type": "code",
   "execution_count": null,
   "metadata": {},
   "outputs": [],
   "source": [
    "a, b = (1, 2, 3), (8, 3, 4, 8, 9)\n",
    "tuple(x+y for x, y in itertools.zip_longest(a, b, fillvalue=0))"
   ]
  },
  {
   "cell_type": "code",
   "execution_count": null,
   "metadata": {},
   "outputs": [],
   "source": [
    "Polynomial(3, 2, 0)"
   ]
  },
  {
   "cell_type": "markdown",
   "metadata": {},
   "source": [
    "## Element-wise operations"
   ]
  },
  {
   "cell_type": "markdown",
   "metadata": {},
   "source": [
    "#### Without numpy"
   ]
  },
  {
   "cell_type": "code",
   "execution_count": null,
   "metadata": {},
   "outputs": [],
   "source": [
    "a, b = [1, 2, 3],  [3, -4, 5]"
   ]
  },
  {
   "cell_type": "code",
   "execution_count": null,
   "metadata": {},
   "outputs": [],
   "source": [
    "[x*y for x, y in zip(a, b)]"
   ]
  },
  {
   "cell_type": "code",
   "execution_count": null,
   "metadata": {},
   "outputs": [],
   "source": [
    "d = sum(x*y for x, y in zip(a, b))   # dot product of a, b\n",
    "d"
   ]
  },
  {
   "cell_type": "code",
   "execution_count": null,
   "metadata": {},
   "outputs": [],
   "source": [
    "length_a = sum(x*x for x in a)**0.5\n",
    "length_b = sum(x*x for x in b)**0.5"
   ]
  },
  {
   "cell_type": "code",
   "execution_count": null,
   "metadata": {},
   "outputs": [],
   "source": [
    "cos = d/length_a/length_b\n",
    "cos"
   ]
  },
  {
   "cell_type": "markdown",
   "metadata": {},
   "source": [
    "### With numpy"
   ]
  },
  {
   "cell_type": "code",
   "execution_count": null,
   "metadata": {},
   "outputs": [],
   "source": [
    "import numpy as np"
   ]
  },
  {
   "cell_type": "code",
   "execution_count": null,
   "metadata": {},
   "outputs": [],
   "source": [
    "a, b = np.array(a), np.array(b)"
   ]
  },
  {
   "cell_type": "code",
   "execution_count": null,
   "metadata": {},
   "outputs": [],
   "source": [
    "np.array(b)"
   ]
  },
  {
   "cell_type": "code",
   "execution_count": null,
   "metadata": {},
   "outputs": [],
   "source": [
    "cos = np.dot(a,b) / np.linalg.norm(a) / np.linalg.norm(b)"
   ]
  },
  {
   "cell_type": "code",
   "execution_count": null,
   "metadata": {},
   "outputs": [],
   "source": [
    "type(a)"
   ]
  },
  {
   "cell_type": "code",
   "execution_count": null,
   "metadata": {},
   "outputs": [],
   "source": [
    "a.dtype"
   ]
  },
  {
   "cell_type": "code",
   "execution_count": null,
   "metadata": {},
   "outputs": [],
   "source": [
    "cos.dtype"
   ]
  },
  {
   "cell_type": "code",
   "execution_count": null,
   "metadata": {},
   "outputs": [],
   "source": [
    "b.ndim"
   ]
  },
  {
   "cell_type": "code",
   "execution_count": null,
   "metadata": {},
   "outputs": [],
   "source": [
    "a = np.array([[1, 2, 3], [4, 5, 6.]])"
   ]
  },
  {
   "cell_type": "code",
   "execution_count": null,
   "metadata": {},
   "outputs": [],
   "source": [
    "a.shape"
   ]
  },
  {
   "cell_type": "code",
   "execution_count": null,
   "metadata": {},
   "outputs": [],
   "source": [
    "a "
   ]
  },
  {
   "cell_type": "code",
   "execution_count": null,
   "metadata": {},
   "outputs": [],
   "source": [
    "b = a.T - 3"
   ]
  },
  {
   "cell_type": "code",
   "execution_count": null,
   "metadata": {},
   "outputs": [],
   "source": [
    "b"
   ]
  },
  {
   "cell_type": "code",
   "execution_count": null,
   "metadata": {},
   "outputs": [],
   "source": [
    "a * b"
   ]
  },
  {
   "cell_type": "code",
   "execution_count": null,
   "metadata": {},
   "outputs": [],
   "source": [
    "a.T * b"
   ]
  },
  {
   "cell_type": "code",
   "execution_count": null,
   "metadata": {},
   "outputs": [],
   "source": [
    "a @ b"
   ]
  },
  {
   "cell_type": "code",
   "execution_count": null,
   "metadata": {},
   "outputs": [],
   "source": [
    "b @ a"
   ]
  },
  {
   "cell_type": "code",
   "execution_count": null,
   "metadata": {},
   "outputs": [],
   "source": [
    "c = b @ a"
   ]
  },
  {
   "cell_type": "code",
   "execution_count": null,
   "metadata": {},
   "outputs": [],
   "source": [
    "c[:, 0]"
   ]
  },
  {
   "cell_type": "code",
   "execution_count": null,
   "metadata": {},
   "outputs": [],
   "source": [
    "%matplotlib inline\n",
    "from matplotlib import pyplot as plt\n",
    "import numpy as np"
   ]
  },
  {
   "cell_type": "code",
   "execution_count": null,
   "metadata": {},
   "outputs": [],
   "source": [
    "t = np.linspace(-3, 3, 200)\n",
    "s = 1 + np.cos(2*np.pi*t)\n",
    "plt.plot(t, s, '.-g')\n",
    "plt.plot(t, t*t, '-r')\n",
    "plt.xlabel('time (s)')\n",
    "plt.ylabel('voltage (mV)')\n",
    "plt.title('About as simple as it gets, folks')\n",
    "plt.grid('on')"
   ]
  },
  {
   "cell_type": "code",
   "execution_count": null,
   "metadata": {},
   "outputs": [],
   "source": [
    "plt.scatter(np.random.randn(300), np.random.randn(300))"
   ]
  },
  {
   "cell_type": "code",
   "execution_count": null,
   "metadata": {},
   "outputs": [],
   "source": [
    "import json\n",
    "\n",
    "with open('us-cities.json') as f:\n",
    "    cities = json.load(f)\n"
   ]
  },
  {
   "cell_type": "code",
   "execution_count": null,
   "metadata": {},
   "outputs": [],
   "source": [
    "xy = [(city['longitude'], city['latitude']) for city in cities]\n",
    "xy = np.array(xy)"
   ]
  },
  {
   "cell_type": "code",
   "execution_count": null,
   "metadata": {},
   "outputs": [],
   "source": [
    "xy.shape"
   ]
  },
  {
   "cell_type": "code",
   "execution_count": null,
   "metadata": {},
   "outputs": [],
   "source": [
    "plt.scatter(xy[:, 0], xy[:, 1])\n",
    "plt.grid('on')"
   ]
  },
  {
   "cell_type": "code",
   "execution_count": null,
   "metadata": {},
   "outputs": [],
   "source": [
    "%matplotlib inline\n",
    "from matplotlib import pyplot as plt\n",
    "\n",
    "xy = np.array([(city['longitude'], city['latitude']) for city in cities])\n",
    "size = np.array([int(city['population'])/10000  for city in cities])\n",
    "plt.scatter(xy[:,0], xy[:, 1], s=size, alpha=0.4)\n",
    "plt.axis('off');"
   ]
  },
  {
   "cell_type": "markdown",
   "metadata": {},
   "source": [
    "## image plots"
   ]
  },
  {
   "cell_type": "code",
   "execution_count": null,
   "metadata": {},
   "outputs": [],
   "source": [
    "np.meshgrid([1, 2, 3], [1, 2, 3, 4])"
   ]
  },
  {
   "cell_type": "code",
   "execution_count": null,
   "metadata": {},
   "outputs": [],
   "source": [
    "x, y = np.meshgrid(np.linspace(-1, 1, 100), np.linspace(-1, 1, 100))\n",
    "\n",
    "fig, ax = plt.subplots(1, 3, figsize=(10, 4))\n",
    "ax[0].imshow(x)\n",
    "ax[1].imshow(y)\n",
    "ax[2].imshow(x*x+y*y)"
   ]
  },
  {
   "cell_type": "code",
   "execution_count": null,
   "metadata": {},
   "outputs": [],
   "source": [
    "x, y = np.meshgrid(np.r_[-1:1:0.01], np.r_[-1:1:0.01])\n",
    "sigma = 0.1\n",
    "fig, ax = plt.subplots(1, 3, figsize=(10, 4))\n",
    "ax[0].imshow(x)\n",
    "ax[0].axis(False)\n",
    "\n",
    "ax[1].imshow(y)\n",
    "ax[1].axis(False)\n",
    "\n",
    "ax[2].imshow(np.exp(-(x*x+y*y)/2/sigma/sigma))\n",
    "ax[2].axis(False)"
   ]
  },
  {
   "cell_type": "code",
   "execution_count": null,
   "metadata": {},
   "outputs": [],
   "source": [
    "x, y = np.meshgrid(np.r_[-1:1:0.01], np.r_[-1:1:0.01])\n",
    "sigma = 0.1\n",
    "fig, ax = plt.subplots(1, 3, figsize=(10, 4))\n",
    "\n",
    "ax[0].imshow(x)\n",
    "ax[0].axis(False)\n",
    "\n",
    "ax[1].imshow(y, cmap='magma')\n",
    "ax[1].axis(False)\n",
    "\n",
    "cx, cy = 0, -0.3 \n",
    "z = np.exp(-((x-cx)**2+(y-cy)**2)/2/sigma/sigma)\n",
    "cx, cy = 0.2, 0.3 \n",
    "z -= np.exp(-((x-cx)**2+(y-cy)**2)/2/sigma/sigma)\n",
    "\n",
    "ax[2].imshow(z, cmap='seismic')\n",
    "ax[2].axis(False)"
   ]
  },
  {
   "cell_type": "code",
   "execution_count": null,
   "metadata": {},
   "outputs": [],
   "source": [
    "import requests\n",
    "import os\n",
    "import imageio"
   ]
  },
  {
   "cell_type": "code",
   "execution_count": null,
   "metadata": {},
   "outputs": [],
   "source": [
    "url = \"https://upload.wikimedia.org/wikipedia/commons/thumb/a/a7/Pluto-01_Stern_03_Pluto_Color_TXT.jpg/480px-Pluto-01_Stern_03_Pluto_Color_TXT.jpg\""
   ]
  },
  {
   "cell_type": "code",
   "execution_count": null,
   "metadata": {},
   "outputs": [],
   "source": [
    "local_file = url.split('/')[-1]\n",
    "local_file"
   ]
  },
  {
   "cell_type": "code",
   "execution_count": null,
   "metadata": {},
   "outputs": [],
   "source": [
    "with open(local_file, 'wb') as f:\n",
    "    f.write(requests.get(url).content)"
   ]
  },
  {
   "cell_type": "code",
   "execution_count": null,
   "metadata": {},
   "outputs": [],
   "source": [
    "img = imageio.imread(local_file)"
   ]
  },
  {
   "cell_type": "code",
   "execution_count": null,
   "metadata": {},
   "outputs": [],
   "source": [
    "img.ndim"
   ]
  },
  {
   "cell_type": "code",
   "execution_count": null,
   "metadata": {},
   "outputs": [],
   "source": [
    "fig, ax = plt.subplots(1, 1, figsize=(8, 10))\n",
    "ax.imshow(img)\n",
    "ax.axis(False)"
   ]
  },
  {
   "cell_type": "code",
   "execution_count": null,
   "metadata": {},
   "outputs": [],
   "source": [
    "plt.imshow(img.min(axis=2))"
   ]
  },
  {
   "cell_type": "code",
   "execution_count": null,
   "metadata": {},
   "outputs": [],
   "source": [
    "fig, ax = plt.subplots(1, 1, figsize=(8, 10))\n",
    "ax.imshow(img.mean(axis=-1), cmap='inferno')\n",
    "ax.axis(False)"
   ]
  },
  {
   "cell_type": "code",
   "execution_count": null,
   "metadata": {},
   "outputs": [],
   "source": [
    "fig, ax = plt.subplots(1, 3, figsize=(18, 10))\n",
    "ax[0].imshow(img[:,:,0], cmap='gray')\n",
    "ax[0].axis(False)\n",
    "ax[1].imshow(img[:,:,1], cmap='gray')\n",
    "ax[1].axis(False)\n",
    "ax[2].imshow(img[:,:,2], cmap='gray')\n",
    "ax[2].axis(False)"
   ]
  },
  {
   "cell_type": "code",
   "execution_count": null,
   "metadata": {},
   "outputs": [],
   "source": [
    "ig, ax = plt.subplots(1, 2, figsize=(18, 10))\n",
    "ax[0].imshow(img[100:300,200:300,:], cmap='gray')\n",
    "ax[0].axis(False)\n",
    "ax[1].imshow(img[300:700:4,300:400:4,2], cmap='gray')\n",
    "ax[1].axis(False)"
   ]
  },
  {
   "cell_type": "markdown",
   "metadata": {},
   "source": [
    "## A little linear algebra"
   ]
  },
  {
   "cell_type": "code",
   "execution_count": null,
   "metadata": {},
   "outputs": [],
   "source": [
    "%matplotlib inline\n",
    "from matplotlib import pyplot as plt\n",
    "import numpy as np"
   ]
  },
  {
   "cell_type": "code",
   "execution_count": null,
   "metadata": {},
   "outputs": [],
   "source": [
    "# specify points - method 1\n",
    "house = np.array([[0, 5], [5, 5], [5, 0], [0, 0], [0, 5], [2.5, 7], [5, 5], [0, 5]])"
   ]
  },
  {
   "cell_type": "code",
   "execution_count": null,
   "metadata": {},
   "outputs": [],
   "source": [
    "# specify points - method 2\n",
    "x = np.array([0. , 5. , 5. , 0. , 0. , 2.5, 5. , 0. ])\n",
    "y = np.array([5., 5., 0., 0., 5., 7., 5., 5.])\n",
    "house = np.stack((x, y))"
   ]
  },
  {
   "cell_type": "code",
   "execution_count": null,
   "metadata": {},
   "outputs": [],
   "source": [
    "house"
   ]
  },
  {
   "cell_type": "code",
   "execution_count": null,
   "metadata": {},
   "outputs": [],
   "source": [
    "house.shape"
   ]
  },
  {
   "cell_type": "code",
   "execution_count": null,
   "metadata": {},
   "outputs": [],
   "source": [
    "plt.plot(house[0, :], house[1, :])\n",
    "plt.axis('equal')\n",
    "plt.grid(True)"
   ]
  },
  {
   "cell_type": "code",
   "execution_count": null,
   "metadata": {},
   "outputs": [],
   "source": [
    "r = (10, 1)  # offset"
   ]
  },
  {
   "cell_type": "code",
   "execution_count": null,
   "metadata": {},
   "outputs": [],
   "source": [
    "house + r  "
   ]
  },
  {
   "cell_type": "code",
   "execution_count": null,
   "metadata": {},
   "outputs": [],
   "source": [
    "house.T + r   # broadcasting worked because the last dimension matched"
   ]
  },
  {
   "cell_type": "code",
   "execution_count": null,
   "metadata": {},
   "outputs": [],
   "source": [
    "house2 = (house.T + r).T    # translated house"
   ]
  },
  {
   "cell_type": "markdown",
   "metadata": {},
   "source": [
    "Or you may change the dimensionality of r:"
   ]
  },
  {
   "cell_type": "code",
   "execution_count": null,
   "metadata": {},
   "outputs": [],
   "source": [
    "r = np.array(r)[:, None]\n",
    "r.shape"
   ]
  },
  {
   "cell_type": "code",
   "execution_count": null,
   "metadata": {},
   "outputs": [],
   "source": [
    "house2 = house + r"
   ]
  },
  {
   "cell_type": "code",
   "execution_count": null,
   "metadata": {},
   "outputs": [],
   "source": [
    "plt.plot(house[0, :], house[1, :])\n",
    "plt.plot(house2[0, :], house2[1, :])\n",
    "plt.axis('equal');"
   ]
  },
  {
   "cell_type": "code",
   "execution_count": null,
   "metadata": {},
   "outputs": [],
   "source": [
    "# scaling - divide by a constant\n",
    "\n",
    "house3 = house / 1.5 + r\n",
    "\n",
    "plt.plot(house[0, :], house[1, :])\n",
    "plt.plot(house3[0, :], house3[1, :])\n",
    "plt.axis('equal');"
   ]
  },
  {
   "cell_type": "code",
   "execution_count": null,
   "metadata": {},
   "outputs": [],
   "source": [
    "# rotation - dot product of coordinates with a rotation matrix\n",
    "\n",
    "angle = 20 / 180 * np.pi\n",
    "rot = np.array([\n",
    "    [np.cos(angle), np.sin(angle)], \n",
    "    [-np.sin(angle), np.cos(angle)]\n",
    "])"
   ]
  },
  {
   "cell_type": "code",
   "execution_count": null,
   "metadata": {},
   "outputs": [],
   "source": [
    "house4 = rot @ house / 1.5 + r"
   ]
  },
  {
   "cell_type": "code",
   "execution_count": null,
   "metadata": {},
   "outputs": [],
   "source": [
    "\n",
    "plt.plot(house[0, :], house[1, :])\n",
    "plt.plot(house4[0, :], house4[1, :])\n",
    "plt.axis('equal');"
   ]
  },
  {
   "cell_type": "code",
   "execution_count": null,
   "metadata": {},
   "outputs": [],
   "source": [
    "# rotate around the center"
   ]
  },
  {
   "cell_type": "code",
   "execution_count": null,
   "metadata": {},
   "outputs": [],
   "source": [
    "center = house.mean(axis=1, keepdims=True)"
   ]
  },
  {
   "cell_type": "code",
   "execution_count": null,
   "metadata": {},
   "outputs": [],
   "source": [
    "house5 = house - center\n",
    "\n",
    "angle = 5 / 180 * np.pi\n",
    "scale = 1.2\n",
    "\n",
    "transform = np.array([\n",
    "    [np.cos(angle), np.sin(angle)], \n",
    "    [-np.sin(angle), np.cos(angle)]\n",
    "]) / scale\n",
    "\n",
    "for i in range(20):\n",
    "    plt.plot(house5[0, :], house5[1, :])\n",
    "    house5 = transform @ house5\n",
    "    \n",
    "plt.axis('equal');"
   ]
  },
  {
   "cell_type": "markdown",
   "metadata": {},
   "source": [
    "## Random Walk\n",
    "\n",
    "Start at (0, 0) and make a step of length 1 in a random direction. \n",
    "Repeat 1000 times. Plot your path."
   ]
  },
  {
   "cell_type": "code",
   "execution_count": null,
   "metadata": {},
   "outputs": [],
   "source": [
    "def random_walk(steps=1000, walks=1, line_width=1):\n",
    "    for _ in range(walks):\n",
    "        directions = np.random.uniform(-np.pi, +np.pi, steps)\n",
    "        hop_size = np.random.exponential(1.0, steps)[None, :]\n",
    "        hops = np.stack([np.cos(directions), np.sin(directions)]) * hop_size\n",
    "        path = np.cumsum(hops, axis=1)\n",
    "        plt.plot(path[0, :], path[1, :], lw=line_width, alpha=0.5)\n",
    "        plt.axis('equal')\n",
    "        plt.axis('off')"
   ]
  },
  {
   "cell_type": "code",
   "execution_count": null,
   "metadata": {},
   "outputs": [],
   "source": [
    "random_walk()"
   ]
  },
  {
   "cell_type": "code",
   "execution_count": null,
   "metadata": {},
   "outputs": [],
   "source": [
    "random_walk(steps=10000, line_width=0.2)"
   ]
  },
  {
   "cell_type": "code",
   "execution_count": null,
   "metadata": {},
   "outputs": [],
   "source": [
    "random_walk(steps=10000, line_width=0.2, walks=16)"
   ]
  },
  {
   "cell_type": "markdown",
   "metadata": {},
   "source": [
    "## Model fitting"
   ]
  },
  {
   "cell_type": "code",
   "execution_count": null,
   "metadata": {},
   "outputs": [],
   "source": [
    "n = 20\n",
    "sigma = 20.0\n",
    "slope = 1.3\n",
    "offset = 1.0\n",
    "bend = 0.5\n",
    "\n",
    "x = np.sort(np.random.uniform(0, 10, n))\n",
    "y =  bend * x*x + slope * x + offset + np.random.normal(0, sigma, n)\n",
    "plt.plot(x, y, '.')\n",
    "p = np.polyfit(x, y, 2)\n",
    "\n",
    "plt.plot(x, x*x * bend + x*slope + offset)\n",
    "plt.plot(x, x*x * p[0] + x*p[1] + p[2])\n",
    "plt.legend(('data', 'truth', 'fit'))\n",
    "print(p)"
   ]
  },
  {
   "cell_type": "markdown",
   "metadata": {},
   "source": [
    "# Homework"
   ]
  },
  {
   "cell_type": "markdown",
   "metadata": {},
   "source": [
    "**Problem 1.** Using the New York Times Covid-19 dataset, plot the number of cases for all states against time. \n",
    "  * Bin by week, i.e. the updates should accumulate on a weekly basis rather than daily. \n",
    "  * Plot a second graph where each state's timeline is aligned to the date of its 1000$^{th}$ case."
   ]
  },
  {
   "cell_type": "markdown",
   "metadata": {},
   "source": [
    "**Problem 2**. Design an original fractal pattern similar to the branch in class, for example."
   ]
  },
  {
   "cell_type": "markdown",
   "metadata": {},
   "source": [
    "## Homework Solution "
   ]
  },
  {
   "cell_type": "code",
   "execution_count": 1,
   "metadata": {},
   "outputs": [],
   "source": [
    "import urllib.request\n",
    "import os\n",
    "\n",
    "def download_file(url, filepath):\n",
    "    if os.path.isfile(filepath):\n",
    "        print('File already exists')\n",
    "    else:\n",
    "        urllib.request.urlretrieve(url, filepath) "
   ]
  },
  {
   "cell_type": "code",
   "execution_count": 2,
   "metadata": {},
   "outputs": [
    {
     "name": "stdout",
     "output_type": "stream",
     "text": [
      "File already exists\n"
     ]
    }
   ],
   "source": [
    "# download NY Covid-19 data\n",
    "download_file(\n",
    "    url = 'https://raw.githubusercontent.com/nytimes/covid-19-data/master/us-states.csv',\n",
    "    filepath = 'nytimes-covid-19.csv')"
   ]
  },
  {
   "cell_type": "code",
   "execution_count": 3,
   "metadata": {},
   "outputs": [],
   "source": [
    "with open('nytimes-covid-19.csv') as f:\n",
    "    heading = f.readline().strip().split(',')\n",
    "    covid = [dict(zip(heading, [int(n) if n.isdigit() else n for n in line.strip().split(',')]))\n",
    "             for line in f]"
   ]
  },
  {
   "cell_type": "code",
   "execution_count": 4,
   "metadata": {},
   "outputs": [],
   "source": [
    "%matplotlib inline\n",
    "from matplotlib import pyplot as plt\n",
    "import numpy as np\n",
    "import datetime \n",
    "\n",
    "start_date = datetime.date.fromisoformat('2020-01-21')"
   ]
  },
  {
   "cell_type": "code",
   "execution_count": 5,
   "metadata": {},
   "outputs": [],
   "source": [
    "dates = np.array([(datetime.date.fromisoformat(c['date']) - start_date).days for c in covid])\n",
    "cases = np.array([c['cases'] for c in covid])\n",
    "states = np.array([c['state'] for c in covid])"
   ]
  },
  {
   "cell_type": "code",
   "execution_count": 6,
   "metadata": {},
   "outputs": [],
   "source": [
    "# organize data into a matrix with state along 0-axis and day on 1-axis\n",
    "state_names = sorted(list(set(states)))\n",
    "case_matrix = np.zeros((len(state_names), max(dates)+1))\n",
    "for i, state in enumerate(state_names):\n",
    "    ix = states == state\n",
    "    first_day = dates[ix][0]\n",
    "    case_matrix[i, first_day:] = cases[ix]"
   ]
  },
  {
   "cell_type": "code",
   "execution_count": 7,
   "metadata": {},
   "outputs": [
    {
     "data": {
      "image/png": "[encoded data removed]",
      "text/plain": [
       "<Figure size 432x288 with 1 Axes>"
      ]
     },
     "metadata": {
      "needs_background": "light"
     },
     "output_type": "display_data"
    }
   ],
   "source": [
    "plt.plot(case_matrix.T/1000, color='black', linewidth=0.5, alpha=0.2);\n",
    "i = state_names.index('Texas')\n",
    "plt.plot(case_matrix[i]/1000, color='blue', linewidth=1)\n",
    "plt.grid(True)\n",
    "plt.xlabel('Day since Jan 21, 2020')\n",
    "plt.ylabel('Number of cases (thousands)');"
   ]
  },
  {
   "cell_type": "code",
   "execution_count": 8,
   "metadata": {},
   "outputs": [
    {
     "data": {
      "image/png": "[encoded data removed]",
      "text/plain": [
       "<Figure size 432x288 with 1 Axes>"
      ]
     },
     "metadata": {
      "needs_background": "light"
     },
     "output_type": "display_data"
    }
   ],
   "source": [
    "new_cases = np.diff(case_matrix, axis=1, prepend=0)\n",
    "\n",
    "plt.plot(new_cases.T/1000, color='black', linewidth=0.5, alpha=0.2);\n",
    "i = state_names.index('Texas')\n",
    "plt.plot(new_cases[i]/1000, color='blue', linewidth=1)\n",
    "plt.grid(True)\n",
    "plt.xlabel('Day since Jan 21, 2020')\n",
    "plt.ylabel('Number of cases (thousands)');"
   ]
  },
  {
   "cell_type": "code",
   "execution_count": 9,
   "metadata": {},
   "outputs": [
    {
     "data": {
      "image/png": "[encoded data removed]",
      "text/plain": [
       "<Figure size 432x288 with 1 Axes>"
      ]
     },
     "metadata": {
      "needs_background": "light"
     },
     "output_type": "display_data"
    }
   ],
   "source": [
    "# Binned by week\n",
    "new_cases = np.diff(case_matrix[:, ::7], axis=1, prepend=0)\n",
    "weeks = np.arange(new_cases.shape[1])\n",
    "plt.plot(weeks, new_cases.T/1000, color='black', linewidth=0.5, alpha=0.2);\n",
    "i = state_names.index('Texas')\n",
    "plt.plot(weeks, new_cases[i]/1000, '.-', color='blue', linewidth=1)\n",
    "i = state_names.index('New York')\n",
    "plt.plot(weeks, new_cases[i]/1000, '^-', color='red', linewidth=1)\n",
    "plt.grid(True)\n",
    "plt.xlabel('Week since Jan 21, 2020')\n",
    "plt.ylabel('Number of cases (thousands)');"
   ]
  },
  {
   "cell_type": "code",
   "execution_count": 13,
   "metadata": {},
   "outputs": [
    {
     "data": {
      "image/png": "[encoded data removed]",
      "text/plain": [
       "<Figure size 432x288 with 1 Axes>"
      ]
     },
     "metadata": {
      "needs_background": "light"
     },
     "output_type": "display_data"
    }
   ],
   "source": [
    "# Binned by week\n",
    "state_names = np.array(state_names) \n",
    "selected_states = [\"Texas\", \"New York\", \"Arizona\", \"Florida\", \"New Jersey\", \"Washington\", \"Utah\"]\n",
    "state_index = np.array([s in selected_states for s in state_names])\n",
    "\n",
    "new_cases = np.diff(case_matrix[state_index, ::7], axis=1, prepend=0)\n",
    "weeks = np.arange(new_cases.shape[1])\n",
    "\n",
    "plt.plot(weeks, new_cases.T/1000, '.-')\n",
    "plt.grid(True)\n",
    "plt.xlabel('Week since Jan 21, 2020')\n",
    "plt.ylabel('Number of cases (thousands)')\n",
    "plt.legend(state_names[state_index])\n",
    "plt.title('New cases by week');"
   ]
  },
  {
   "cell_type": "code",
   "execution_count": 16,
   "metadata": {},
   "outputs": [
    {
     "data": {
      "image/png": "[encoded data removed]",
      "text/plain": [
       "<Figure size 576x432 with 1 Axes>"
      ]
     },
     "metadata": {
      "needs_background": "light"
     },
     "output_type": "display_data"
    }
   ],
   "source": [
    "# Binned by week\n",
    "fig, ax = plt.subplots(1, 1, figsize=(8, 6))\n",
    "state_names = np.array(state_names) \n",
    "selected_states = [\"Texas\", \"New York\", \"Arizona\", \"Florida\", \"New Jersey\", \"Washington\", \"Utah\"]\n",
    "state_index = np.array([s in selected_states for s in state_names])\n",
    "\n",
    "new_cases = np.diff(case_matrix[state_index, ::7], axis=1, prepend=0)\n",
    "weeks = np.arange(new_cases.shape[1])\n",
    "\n",
    "ax.plot(weeks, new_cases.T/1000, '.-')\n",
    "ax.grid(True)\n",
    "ax.set_xlabel('Week since Jan 21, 2020')\n",
    "ax.set_ylabel('Number of cases (thousands)')\n",
    "ax.legend(state_names[state_index])\n",
    "ax.set_title('New cases by week')\n",
    "fig.savefig('covid-week.pdf')"
   ]
  },
  {
   "cell_type": "code",
   "execution_count": 21,
   "metadata": {},
   "outputs": [],
   "source": [
    "!open covid-week.pdf"
   ]
  },
  {
   "cell_type": "markdown",
   "metadata": {},
   "source": [
    "## Align data by the 1000th case"
   ]
  },
  {
   "cell_type": "code",
   "execution_count": 80,
   "metadata": {},
   "outputs": [],
   "source": [
    "# organize data into a matrix with state along 0-axis and day on 1-axis\n",
    "state_names = sorted(list(set(states)))\n",
    "case_matrix = np.empty((len(state_names), max(dates)+1))\n",
    "case_matrix[:] = np.nan\n",
    "\n",
    "for i, state in enumerate(state_names):\n",
    "    ix = states == state\n",
    "    try:\n",
    "        onset = np.where(cases[states==state] >= 1000)[0][0]\n",
    "    except IndexError:\n",
    "        continue\n",
    "    data = cases[ix][onset:]\n",
    "    case_matrix[i, :data.size] = data"
   ]
  },
  {
   "cell_type": "code",
   "execution_count": 83,
   "metadata": {},
   "outputs": [
    {
     "data": {
      "image/png": "[encoded data removed]",
      "text/plain": [
       "<Figure size 576x432 with 1 Axes>"
      ]
     },
     "metadata": {
      "needs_background": "light"
     },
     "output_type": "display_data"
    }
   ],
   "source": [
    "# Binned by week\n",
    "fig, ax = plt.subplots(1, 1, figsize=(8, 6))\n",
    "state_names = np.array(state_names) \n",
    "selected_states = [\"Texas\", \"New York\", \"Arizona\", \"Florida\", \"New Jersey\", \"Washington\", \"Utah\"]\n",
    "state_index = np.array([s in selected_states for s in state_names])\n",
    "\n",
    "new_cases = np.diff(case_matrix[state_index, ::7], axis=1, prepend=0)\n",
    "\n",
    "ax.plot(new_cases.T/1000, '.-')\n",
    "ax.grid(True)\n",
    "ax.set_xlabel('Week since 1000th case')\n",
    "ax.set_ylabel('Number of cases (thousands)')\n",
    "ax.legend(state_names[state_index])\n",
    "ax.set_title('New cases by week')\n",
    "ax.set_yscale('log')\n",
    "fig.savefig('covid-week.pdf')"
   ]
  },
  {
   "cell_type": "code",
   "execution_count": null,
   "metadata": {},
   "outputs": [],
   "source": []
  }
 ],
 "metadata": {
  "kernelspec": {
   "display_name": "Python 3",
   "language": "python",
   "name": "python3"
  },
  "language_info": {
   "codemirror_mode": {
    "name": "ipython",
    "version": 3
   },
   "file_extension": ".py",
   "mimetype": "text/x-python",
   "name": "python",
   "nbconvert_exporter": "python",
   "pygments_lexer": "ipython3",
   "version": "3.7.3"
  }
 },
 "nbformat": 4,
 "nbformat_minor": 2
}
