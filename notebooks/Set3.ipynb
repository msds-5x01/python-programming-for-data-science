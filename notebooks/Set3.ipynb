{
 "cells": [
  {
   "cell_type": "markdown",
   "metadata": {},
   "source": [
    "# Homework Set 3"
   ]
  },
  {
   "cell_type": "markdown",
   "metadata": {},
   "source": [
    "Good news! Michael Driscoll's Python 101 is available online: https://python101.pythonlibrary.org/\n",
    "\n",
    "\n",
    "## The Standard Library\n",
    "Learn about the Python standard library, i.e. the collection of modules that are distributed with Python: https://docs.python.org/3/library/\n",
    "\n",
    "For example, review the documentation for modules `math`, `statistics`, `random`, `csv`, `json`, and `datetime`. What functionality do they provide? \n",
    "\n",
    "Select two modules from the standard library that seem useful to you. In class, describe why you found them useful.\n",
    "\n",
    "In addition to the standard library, over a hundred thousand other packages can be installed from the [Python Package Index](pypi.org) using the [`pip` utility](https://packaging.python.org/tutorials/installing-packages/)."
   ]
  },
  {
   "cell_type": "markdown",
   "metadata": {},
   "source": [
    "## US Cities\n",
    "A nice person on the web published a list of 1000 US cities in the JSON format: https://gist.githubusercontent.com/Miserlou/c5cd8364bf9b2420bb29/raw/2bf258763cdddd704f8ffd3ea9a3e81d25e2c6f6/cities.json\n",
    "\n",
    "Use the `url.requests` module to download the file and save it as `us-cities.json`."
   ]
  },
  {
   "cell_type": "code",
   "execution_count": 1,
   "metadata": {},
   "outputs": [
    {
     "data": {
      "text/plain": [
       "('us-cities.json', <http.client.HTTPMessage at 0x7fa75460edd8>)"
      ]
     },
     "execution_count": 1,
     "metadata": {},
     "output_type": "execute_result"
    }
   ],
   "source": [
    "import urllib.request\n",
    "url = 'https://gist.githubusercontent.com/Miserlou/c5cd8364bf9b2420bb29/raw/2bf258763cdddd704f8ffd3ea9a3e81d25e2c6f6/cities.json'\n",
    "filename = 'us-cities.json'\n",
    "\n",
    "urllib.request.urlretrieve(url, filename)"
   ]
  },
  {
   "cell_type": "markdown",
   "metadata": {},
   "source": [
    "Use the `ls` shell utility to verify that the file has downloaded"
   ]
  },
  {
   "cell_type": "code",
   "execution_count": 2,
   "metadata": {},
   "outputs": [
    {
     "name": "stdout",
     "output_type": "stream",
     "text": [
      "-rw-r--r-- 1 dimitri dimitri 244212 Sep 25 10:20 us-cities.json\r\n"
     ]
    }
   ],
   "source": [
    "ls -l *json "
   ]
  },
  {
   "cell_type": "markdown",
   "metadata": {},
   "source": [
    "You may now use the [`json` module](https://docs.python.org/3/library/json.html) to read the list as a `list` of `dict`s"
   ]
  },
  {
   "cell_type": "code",
   "execution_count": 3,
   "metadata": {},
   "outputs": [],
   "source": [
    "import json\n",
    "\n",
    "filename = 'us-cities.json'\n",
    "with open(filename) as f:\n",
    "    cities = json.load(f)"
   ]
  },
  {
   "cell_type": "markdown",
   "metadata": {},
   "source": [
    "The cities are ordered by their population. Let's look at the four biggest cities."
   ]
  },
  {
   "cell_type": "code",
   "execution_count": 4,
   "metadata": {},
   "outputs": [
    {
     "data": {
      "text/plain": [
       "[{'city': 'New York',\n",
       "  'growth_from_2000_to_2013': '4.8%',\n",
       "  'latitude': 40.7127837,\n",
       "  'longitude': -74.0059413,\n",
       "  'population': '8405837',\n",
       "  'rank': '1',\n",
       "  'state': 'New York'},\n",
       " {'city': 'Los Angeles',\n",
       "  'growth_from_2000_to_2013': '4.8%',\n",
       "  'latitude': 34.0522342,\n",
       "  'longitude': -118.2436849,\n",
       "  'population': '3884307',\n",
       "  'rank': '2',\n",
       "  'state': 'California'},\n",
       " {'city': 'Chicago',\n",
       "  'growth_from_2000_to_2013': '-6.1%',\n",
       "  'latitude': 41.8781136,\n",
       "  'longitude': -87.6297982,\n",
       "  'population': '2718782',\n",
       "  'rank': '3',\n",
       "  'state': 'Illinois'},\n",
       " {'city': 'Houston',\n",
       "  'growth_from_2000_to_2013': '11.0%',\n",
       "  'latitude': 29.7604267,\n",
       "  'longitude': -95.3698028,\n",
       "  'population': '2195914',\n",
       "  'rank': '4',\n",
       "  'state': 'Texas'}]"
      ]
     },
     "execution_count": 4,
     "metadata": {},
     "output_type": "execute_result"
    }
   ],
   "source": [
    "cities[:4]"
   ]
  },
  {
   "cell_type": "markdown",
   "metadata": {},
   "source": [
    "Here are the last four cities:"
   ]
  },
  {
   "cell_type": "code",
   "execution_count": 5,
   "metadata": {},
   "outputs": [
    {
     "data": {
      "text/plain": [
       "[{'city': 'Keizer',\n",
       "  'growth_from_2000_to_2013': '14.4%',\n",
       "  'latitude': 44.9901194,\n",
       "  'longitude': -123.0262077,\n",
       "  'population': '37064',\n",
       "  'rank': '997',\n",
       "  'state': 'Oregon'},\n",
       " {'city': 'Spanish Fork',\n",
       "  'growth_from_2000_to_2013': '78.1%',\n",
       "  'latitude': 40.114955,\n",
       "  'longitude': -111.654923,\n",
       "  'population': '36956',\n",
       "  'rank': '998',\n",
       "  'state': 'Utah'},\n",
       " {'city': 'Beloit',\n",
       "  'growth_from_2000_to_2013': '2.9%',\n",
       "  'latitude': 42.5083482,\n",
       "  'longitude': -89.03177649999999,\n",
       "  'population': '36888',\n",
       "  'rank': '999',\n",
       "  'state': 'Wisconsin'},\n",
       " {'city': 'Panama City',\n",
       "  'growth_from_2000_to_2013': '0.1%',\n",
       "  'latitude': 30.1588129,\n",
       "  'longitude': -85.6602058,\n",
       "  'population': '36877',\n",
       "  'rank': '1000',\n",
       "  'state': 'Florida'}]"
      ]
     },
     "execution_count": 5,
     "metadata": {},
     "output_type": "execute_result"
    }
   ],
   "source": [
    "cities[-4:]"
   ]
  },
  {
   "cell_type": "markdown",
   "metadata": {},
   "source": [
    "Or use the [`random` module](https://docs.python.org/3/library/random.html) to pick a city at random:"
   ]
  },
  {
   "cell_type": "code",
   "execution_count": 11,
   "metadata": {},
   "outputs": [
    {
     "name": "stdout",
     "output_type": "stream",
     "text": [
      "Help on method choices in module random:\n",
      "\n",
      "choices(population, weights=None, *, cum_weights=None, k=1) method of random.Random instance\n",
      "    Return a k sized list of population elements chosen with replacement.\n",
      "    \n",
      "    If the relative weights or cumulative weights are not specified,\n",
      "    the selections are made with equal probability.\n",
      "\n"
     ]
    }
   ],
   "source": [
    "import random\n",
    "help(random.choices)"
   ]
  },
  {
   "cell_type": "code",
   "execution_count": 12,
   "metadata": {},
   "outputs": [
    {
     "data": {
      "text/plain": [
       "[{'city': 'Berwyn',\n",
       "  'growth_from_2000_to_2013': '5.1%',\n",
       "  'latitude': 41.85058739999999,\n",
       "  'longitude': -87.7936685,\n",
       "  'population': '56758',\n",
       "  'rank': '638',\n",
       "  'state': 'Illinois'},\n",
       " {'city': 'Owensboro',\n",
       "  'growth_from_2000_to_2013': '7.7%',\n",
       "  'latitude': 37.7719074,\n",
       "  'longitude': -87.1111676,\n",
       "  'population': '58416',\n",
       "  'rank': '617',\n",
       "  'state': 'Kentucky'},\n",
       " {'city': 'Niagara Falls',\n",
       "  'growth_from_2000_to_2013': '-10.8%',\n",
       "  'latitude': 43.0962143,\n",
       "  'longitude': -79.0377388,\n",
       "  'population': '49468',\n",
       "  'rank': '754',\n",
       "  'state': 'New York'},\n",
       " {'city': 'Prescott',\n",
       "  'growth_from_2000_to_2013': '18.1%',\n",
       "  'latitude': 34.5400242,\n",
       "  'longitude': -112.4685025,\n",
       "  'population': '40590',\n",
       "  'rank': '907',\n",
       "  'state': 'Arizona'}]"
      ]
     },
     "execution_count": 12,
     "metadata": {},
     "output_type": "execute_result"
    }
   ],
   "source": [
    "random.choices(cities, k=4)"
   ]
  },
  {
   "cell_type": "markdown",
   "metadata": {},
   "source": [
    "Or select four cities with probability proportional to their populations. This is equivalent to picking a random person and asking what city they live in."
   ]
  },
  {
   "cell_type": "code",
   "execution_count": 13,
   "metadata": {},
   "outputs": [
    {
     "data": {
      "text/plain": [
       "[{'city': 'Fort Wayne',\n",
       "  'growth_from_2000_to_2013': '1.0%',\n",
       "  'latitude': 41.079273,\n",
       "  'longitude': -85.1393513,\n",
       "  'population': '256496',\n",
       "  'rank': '76',\n",
       "  'state': 'Indiana'},\n",
       " {'city': 'Charlotte',\n",
       "  'growth_from_2000_to_2013': '39.1%',\n",
       "  'latitude': 35.2270869,\n",
       "  'longitude': -80.8431267,\n",
       "  'population': '792862',\n",
       "  'rank': '16',\n",
       "  'state': 'North Carolina'},\n",
       " {'city': 'Orlando',\n",
       "  'growth_from_2000_to_2013': '31.2%',\n",
       "  'latitude': 28.5383355,\n",
       "  'longitude': -81.3792365,\n",
       "  'population': '255483',\n",
       "  'rank': '77',\n",
       "  'state': 'Florida'},\n",
       " {'city': 'San Bernardino',\n",
       "  'growth_from_2000_to_2013': '13.0%',\n",
       "  'latitude': 34.1083449,\n",
       "  'longitude': -117.2897652,\n",
       "  'population': '213708',\n",
       "  'rank': '100',\n",
       "  'state': 'California'}]"
      ]
     },
     "execution_count": 13,
     "metadata": {},
     "output_type": "execute_result"
    }
   ],
   "source": [
    "city_populations = [int(city['population']) for city in cities]\n",
    "random.choices(cities, k=4, weights=city_populations)"
   ]
  },
  {
   "cell_type": "markdown",
   "metadata": {},
   "source": [
    "`cities` has the growth rate as a string. You can convert it to a number using the `float` constructor but first you need to strip the `%`:"
   ]
  },
  {
   "cell_type": "code",
   "execution_count": 18,
   "metadata": {},
   "outputs": [
    {
     "data": {
      "text/plain": [
       "11.0"
      ]
     },
     "execution_count": 18,
     "metadata": {},
     "output_type": "execute_result"
    }
   ],
   "source": [
    "float(cities[3]['growth_from_2000_to_2013'].rstrip('%'))"
   ]
  },
  {
   "cell_type": "markdown",
   "metadata": {},
   "source": [
    "Here is a function to compute distances between cities:"
   ]
  },
  {
   "cell_type": "code",
   "execution_count": 1,
   "metadata": {},
   "outputs": [],
   "source": [
    "import math\n",
    "def route_length(cities): \n",
    "    \"\"\"\n",
    "    distance of a route between any number of cities in kilometers\n",
    "    :param cities: list of dicts with fields 'city', 'state', 'longitude', 'latitude' \n",
    "    :return: length of the route connecting the cities\n",
    "    \"\"\"\n",
    "    earth_radius = 6371\n",
    "    assert len(cities) >=2, 'at least two cities are requied'\n",
    "    \n",
    "    city1 = cities[0]\n",
    "    total = 0.0\n",
    "    for city2 in cities[1:]:\n",
    "        x1, y1 = math.radians(city1['longitude']), math.radians(city1['latitude'])\n",
    "        x2, y2 = math.radians(city2['longitude']), math.radians(city2['latitude'])\n",
    "        total += math.asin(math.sqrt(\n",
    "            math.sin((x2 - x1) / 2)**2 + \n",
    "            math.cos(y1) * math.cos(y2) * math.sin((y2 - y1) / 2)**2))\n",
    "        city1 = city2\n",
    "    return total * 2 * earth_radius"
   ]
  },
  {
   "cell_type": "code",
   "execution_count": 21,
   "metadata": {},
   "outputs": [
    {
     "name": "stdout",
     "output_type": "stream",
     "text": [
      "Route:\n",
      "  0: Houston, Texas\n",
      "  1: San Diego, California\n",
      "  2: Indianapolis, Indiana\n",
      "  3: San Francisco, California\n",
      "  4: Detroit, Michigan\n",
      "  5: Houston, Texas\n",
      "Total distance: 16152 km\n"
     ]
    }
   ],
   "source": [
    "route = [cities[i] for i in (3, 7, 11, 13, 17, 3)]\n",
    "\n",
    "print(\"Route:\")\n",
    "for point, city in enumerate(route):\n",
    "    print(\"  {point}: {city}, {state}\".format(point=point, **city))\n",
    "\n",
    "distance = route_length(route)\n",
    "print(f\"Total distance: {distance:.0f} km\")\n"
   ]
  },
  {
   "cell_type": "markdown",
   "metadata": {},
   "source": [
    "### English words\n",
    "Another nice person posted the list of some 60,000 common English words: http://www.mieliestronk.com/corncob_lowercase.txt"
   ]
  },
  {
   "cell_type": "code",
   "execution_count": 26,
   "metadata": {},
   "outputs": [
    {
     "data": {
      "text/plain": [
       "('english-words.txt', <http.client.HTTPMessage at 0x7fa74d57b898>)"
      ]
     },
     "execution_count": 26,
     "metadata": {},
     "output_type": "execute_result"
    }
   ],
   "source": [
    "url = \"http://www.mieliestronk.com/corncob_lowercase.txt\"\n",
    "filename = 'english-words.txt'\n",
    "urllib.request.urlretrieve(url, filename)"
   ]
  },
  {
   "cell_type": "markdown",
   "metadata": {},
   "source": [
    "This is a simple txt file. You can just use the builtin Python methods to read it in."
   ]
  },
  {
   "cell_type": "code",
   "execution_count": 27,
   "metadata": {},
   "outputs": [],
   "source": [
    "with open('english-words.txt') as f:\n",
    "    words = f.read().splitlines()"
   ]
  },
  {
   "cell_type": "code",
   "execution_count": 28,
   "metadata": {},
   "outputs": [
    {
     "data": {
      "text/plain": [
       "'foretell'"
      ]
     },
     "execution_count": 28,
     "metadata": {},
     "output_type": "execute_result"
    }
   ],
   "source": [
    "# pick a random word\n",
    "random.choice(words)"
   ]
  },
  {
   "cell_type": "markdown",
   "metadata": {},
   "source": [
    "Here are some examples of word searches:"
   ]
  },
  {
   "cell_type": "code",
   "execution_count": 29,
   "metadata": {},
   "outputs": [
    {
     "name": "stdout",
     "output_type": "stream",
     "text": [
      "charioteer\n",
      "gazetteer\n",
      "marketeer\n",
      "musketeer\n",
      "pamphleteer\n",
      "privateer\n",
      "puppeteer\n",
      "steer\n",
      "volunteer\n"
     ]
    }
   ],
   "source": [
    "# words that end in a a given ending\n",
    "ending = 'teer'\n",
    "for word in words:\n",
    "    if word.endswith(ending):\n",
    "        print(word)"
   ]
  },
  {
   "cell_type": "code",
   "execution_count": 30,
   "metadata": {},
   "outputs": [
    {
     "name": "stdout",
     "output_type": "stream",
     "text": [
      "pianissimo\n",
      "unissued\n"
     ]
    }
   ],
   "source": [
    "# words that contain a specific substring\n",
    "substring = 'niss'\n",
    "for word in words:\n",
    "    if substring in word:\n",
    "        print(word)"
   ]
  },
  {
   "cell_type": "markdown",
   "metadata": {},
   "source": [
    "## Comprehensions\n",
    "Learn about comprehensions about Python\n",
    "https://python101.pythonlibrary.org/chapter6_comprehensions.html\n",
    "\n",
    "List comprehensions make it convenient to create a list out of some sequence using loops.\n",
    "\n",
    "Without a list comprehension, one first creates an empty list and then adds elements to it inside the loop. For example"
   ]
  },
  {
   "cell_type": "code",
   "execution_count": 31,
   "metadata": {},
   "outputs": [],
   "source": [
    "def find_sorted_words(words, min_length=5, reverse=False):\n",
    "    \"\"\"\n",
    "    :param words: list of words\n",
    "    :min_length: only consider words of this length or longer\n",
    "    :return: list of words whose letters are in reverse alphabetical order\n",
    "    \"\"\"    \n",
    "    sorted_words = []\n",
    "    for word in words:\n",
    "        if len(word) >= min_length and list(word) == sorted(word, reverse=reverse):\n",
    "            sorted_words.append(word)\n",
    "    return sorted_words"
   ]
  },
  {
   "cell_type": "code",
   "execution_count": 32,
   "metadata": {},
   "outputs": [
    {
     "data": {
      "text/plain": [
       "['billowy']"
      ]
     },
     "execution_count": 32,
     "metadata": {},
     "output_type": "execute_result"
    }
   ],
   "source": [
    "find_sorted_words(words, min_length=7)"
   ]
  },
  {
   "cell_type": "code",
   "execution_count": 34,
   "metadata": {},
   "outputs": [
    {
     "data": {
      "text/plain": [
       "['sniffed', 'sponged', 'spooked', 'spooled', 'spooned', 'wronged']"
      ]
     },
     "execution_count": 34,
     "metadata": {},
     "output_type": "execute_result"
    }
   ],
   "source": [
    "find_sorted_words(words, min_length=7, reverse=True)"
   ]
  },
  {
   "cell_type": "markdown",
   "metadata": {},
   "source": [
    "The same function can be implemented with a list comprehension:"
   ]
  },
  {
   "cell_type": "code",
   "execution_count": 35,
   "metadata": {},
   "outputs": [],
   "source": [
    "def find_sorted_words(words, min_length=5, reverse=False):\n",
    "    \"\"\"\n",
    "    :param words: list of words\n",
    "    :min_length: only consider words of this length or longer\n",
    "    :return: list of words whose letters are in reverse alphabetical order\n",
    "    \"\"\"    \n",
    "    return [word for word in words \n",
    "            if len(word) >= min_length and list(word) == sorted(word, reverse=reverse)]"
   ]
  },
  {
   "cell_type": "markdown",
   "metadata": {},
   "source": [
    "Here is another function that makes a word list:"
   ]
  },
  {
   "cell_type": "code",
   "execution_count": 36,
   "metadata": {},
   "outputs": [],
   "source": [
    "def find_unique_letter_words(words, min_length=8):\n",
    "    \"\"\"\n",
    "    :param words: list of words\n",
    "    :min_length: only consider words of this length or longer\n",
    "    :return: list of words whose letters are unique\n",
    "    \"\"\"    \n",
    "    result = []\n",
    "    for word in words:\n",
    "        if min_length <= len(word) == len(set(word)): \n",
    "            result.append(word)\n",
    "    return(result)"
   ]
  },
  {
   "cell_type": "code",
   "execution_count": 37,
   "metadata": {},
   "outputs": [
    {
     "data": {
      "text/plain": [
       "['copyrightable', 'hydromagnetic', 'unpredictably', 'unproblematic']"
      ]
     },
     "execution_count": 37,
     "metadata": {},
     "output_type": "execute_result"
    }
   ],
   "source": [
    "find_unique_letter_words(words, 13)"
   ]
  },
  {
   "cell_type": "code",
   "execution_count": 38,
   "metadata": {},
   "outputs": [
    {
     "data": {
      "text/plain": [
       "['agaragar',\n",
       " 'alfalfa',\n",
       " 'couscous',\n",
       " 'entente',\n",
       " 'hushhush',\n",
       " 'khoikhoi',\n",
       " 'suchandsuch',\n",
       " 'walltowall']"
      ]
     },
     "execution_count": 38,
     "metadata": {},
     "output_type": "execute_result"
    }
   ],
   "source": [
    "# words that start and end with the same four letters\n",
    "[w for w in words if len(w)>=5 and w[:4] == w[-4:]]"
   ]
  },
  {
   "cell_type": "code",
   "execution_count": 39,
   "metadata": {},
   "outputs": [
    {
     "data": {
      "text/plain": [
       "['New York, New York',\n",
       " 'Indianapolis, Indiana',\n",
       " 'Oklahoma City, Oklahoma',\n",
       " 'Virginia Beach, Virginia',\n",
       " 'Colorado Springs, Colorado',\n",
       " 'Kansas City, Kansas',\n",
       " 'Iowa City, Iowa',\n",
       " 'Idaho Falls, Idaho',\n",
       " 'Texas City, Texas']"
      ]
     },
     "execution_count": 39,
     "metadata": {},
     "output_type": "execute_result"
    }
   ],
   "source": [
    "# Cities that have their state in their name\n",
    "[\"{city}, {state}\".format(**c) for c in cities if c['state'] in c['city']]"
   ]
  },
  {
   "cell_type": "code",
   "execution_count": 40,
   "metadata": {},
   "outputs": [
    {
     "data": {
      "text/plain": [
       "{'Alabama',\n",
       " 'Alaska',\n",
       " 'Arizona',\n",
       " 'Arkansas',\n",
       " 'California',\n",
       " 'Colorado',\n",
       " 'Connecticut',\n",
       " 'Delaware',\n",
       " 'District of Columbia',\n",
       " 'Florida',\n",
       " 'Georgia',\n",
       " 'Hawaii',\n",
       " 'Idaho',\n",
       " 'Illinois',\n",
       " 'Indiana',\n",
       " 'Iowa',\n",
       " 'Kansas',\n",
       " 'Kentucky',\n",
       " 'Louisiana',\n",
       " 'Maine',\n",
       " 'Maryland',\n",
       " 'Massachusetts',\n",
       " 'Michigan',\n",
       " 'Minnesota',\n",
       " 'Mississippi',\n",
       " 'Missouri',\n",
       " 'Montana',\n",
       " 'Nebraska',\n",
       " 'Nevada',\n",
       " 'New Hampshire',\n",
       " 'New Jersey',\n",
       " 'New Mexico',\n",
       " 'New York',\n",
       " 'North Carolina',\n",
       " 'North Dakota',\n",
       " 'Ohio',\n",
       " 'Oklahoma',\n",
       " 'Oregon',\n",
       " 'Pennsylvania',\n",
       " 'Rhode Island',\n",
       " 'South Carolina',\n",
       " 'South Dakota',\n",
       " 'Tennessee',\n",
       " 'Texas',\n",
       " 'Utah',\n",
       " 'Vermont',\n",
       " 'Virginia',\n",
       " 'Washington',\n",
       " 'West Virginia',\n",
       " 'Wisconsin',\n",
       " 'Wyoming'}"
      ]
     },
     "execution_count": 40,
     "metadata": {},
     "output_type": "execute_result"
    }
   ],
   "source": [
    "# You can also do set comprehensions\n",
    "states = set(c['state'] for c in cities)\n",
    "states"
   ]
  },
  {
   "cell_type": "markdown",
   "metadata": {},
   "source": [
    "As a more complex example, here is a list comprehension with nested `for` loops"
   ]
  },
  {
   "cell_type": "code",
   "execution_count": 41,
   "metadata": {},
   "outputs": [
    {
     "data": {
      "text/plain": [
       "['Missouri City, Texas',\n",
       " 'Wyoming, Michigan',\n",
       " 'West New York, New Jersey',\n",
       " 'Washington, District of Columbia',\n",
       " 'Kansas City, Missouri']"
      ]
     },
     "execution_count": 41,
     "metadata": {},
     "output_type": "execute_result"
    }
   ],
   "source": [
    "# Cities whose names contain a state name other than its own\n",
    "[\"{city}, {state}\".format(**c) \n",
    " for state in states \n",
    " for c in cities \n",
    " if state in c['city'] and state != c['state']]"
   ]
  },
  {
   "cell_type": "markdown",
   "metadata": {},
   "source": [
    "## Monte Carlo methods\n",
    "\n",
    "Monte Carlo methods are calculations based on probabilistic computations. \n",
    "\n",
    "For example, to estimate the number $\\pi$, we could generate random points with coordinates $(x, y)$ from the unifirm distribution in the interval $[-1, 1]$. This interval makes a square with area $S_0=4$. Now if we count what fraction of numbers fall within the distance $r = 1.0$ of the origin, we will effectivly estimate the area of the circle, which should be $S_1 = \\pi r^2$. \n",
    "\n",
    "$$\\pi = 4\\frac{S_1}{S_0}\\approx 4\\frac{\\text{number of points inside the circle}}{\\text{total number of points}}$$\n",
    "\n",
    "For more detail, here is a variation of this description: https://www.geeksforgeeks.org/estimating-value-pi-using-monte-carlo/"
   ]
  },
  {
   "cell_type": "code",
   "execution_count": 42,
   "metadata": {},
   "outputs": [],
   "source": [
    "import random\n",
    "def estimate_pi(npoints=100_000):\n",
    "    \"\"\"etimate pi by throwing darts at a square\"\"\"\n",
    "    counts = 0\n",
    "    x = random.uniform(-1, 1)\n",
    "    for i in range(npoints):\n",
    "        y = x\n",
    "        x = random.uniform(-1, 1)\n",
    "        counts += (x * x + y * y < 1.0)\n",
    "    return 4*counts/npoints\n",
    "    "
   ]
  },
  {
   "cell_type": "code",
   "execution_count": 43,
   "metadata": {},
   "outputs": [
    {
     "data": {
      "text/plain": [
       "3.142608"
      ]
     },
     "execution_count": 43,
     "metadata": {},
     "output_type": "execute_result"
    }
   ],
   "source": [
    "estimate_pi(1_000_000)"
   ]
  },
  {
   "cell_type": "markdown",
   "metadata": {},
   "source": [
    "Now implement the same thing as a comprehension in the sum function:"
   ]
  },
  {
   "cell_type": "code",
   "execution_count": 44,
   "metadata": {},
   "outputs": [],
   "source": [
    "import random\n",
    "def estimate_pi(npoints=100_000):\n",
    "    \"\"\"etimate pi by throwing darts at a square\"\"\"\n",
    "    return 4 * sum(random.uniform(-1, 1)**2 + random.uniform(-1, 1)**2 < 1.0 \n",
    "                   for _ in range(npoints))/npoints"
   ]
  },
  {
   "cell_type": "markdown",
   "metadata": {},
   "source": [
    "### More on sorting\n",
    "The Python functions `sort`, `max`, and `min` accept the argument `key`. It must point to a function that is applied to every element, returning a number. That number is then used for sorting.\n",
    "\n",
    "This `key` can be a function that you define."
   ]
  },
  {
   "cell_type": "code",
   "execution_count": 45,
   "metadata": {},
   "outputs": [
    {
     "name": "stdout",
     "output_type": "stream",
     "text": [
      "Help on built-in function max in module builtins:\n",
      "\n",
      "max(...)\n",
      "    max(iterable, *[, default=obj, key=func]) -> value\n",
      "    max(arg1, arg2, *args, *[, key=func]) -> value\n",
      "    \n",
      "    With a single iterable argument, return its biggest item. The\n",
      "    default keyword-only argument specifies an object to return if\n",
      "    the provided iterable is empty.\n",
      "    With two or more arguments, return the largest argument.\n",
      "\n"
     ]
    }
   ],
   "source": [
    "help(max)"
   ]
  },
  {
   "cell_type": "code",
   "execution_count": 47,
   "metadata": {},
   "outputs": [
    {
     "data": {
      "text/plain": [
       "'counterrevolutionaries'"
      ]
     },
     "execution_count": 47,
     "metadata": {},
     "output_type": "execute_result"
    }
   ],
   "source": [
    "def count_vowels(word):\n",
    "    return sum(word.count(c) for c in \"aeuioy\")\n",
    "\n",
    "# word with most vowels\n",
    "max(words, key=count_vowels)"
   ]
  },
  {
   "cell_type": "code",
   "execution_count": 48,
   "metadata": {},
   "outputs": [
    {
     "data": {
      "text/plain": [
       "{'city': 'Honolulu',\n",
       " 'growth_from_2000_to_2013': '-6.2%',\n",
       " 'latitude': 21.3069444,\n",
       " 'longitude': -157.8583333,\n",
       " 'population': '347884',\n",
       " 'rank': '54',\n",
       " 'state': 'Hawaii'}"
      ]
     },
     "execution_count": 48,
     "metadata": {},
     "output_type": "execute_result"
    }
   ],
   "source": [
    "def latitude(city):\n",
    "    return city['latitude']\n",
    "\n",
    "#southern-most city\n",
    "min(cities, key=latitude)"
   ]
  },
  {
   "cell_type": "code",
   "execution_count": 49,
   "metadata": {},
   "outputs": [
    {
     "data": {
      "text/plain": [
       "{'city': 'Maricopa',\n",
       " 'growth_from_2000_to_2013': '2503.4%',\n",
       " 'latitude': 33.0581063,\n",
       " 'longitude': -112.0476423,\n",
       " 'population': '45508',\n",
       " 'rank': '817',\n",
       " 'state': 'Arizona'}"
      ]
     },
     "execution_count": 49,
     "metadata": {},
     "output_type": "execute_result"
    }
   ],
   "source": [
    "def growth_rate(city):\n",
    "    \"\"\"\n",
    "    :return: city relative growth rate, zero if missing\n",
    "    \"\"\"\n",
    "    return float(city['growth_from_2000_to_2013'].rstrip('%') + '0')\n",
    "\n",
    "# fastest-growing city (relative)\n",
    "max(cities, key=growth_rate)"
   ]
  },
  {
   "cell_type": "code",
   "execution_count": 50,
   "metadata": {},
   "outputs": [
    {
     "data": {
      "text/plain": [
       "[{'city': 'Maricopa',\n",
       "  'growth_from_2000_to_2013': '2503.4%',\n",
       "  'latitude': 33.0581063,\n",
       "  'longitude': -112.0476423,\n",
       "  'population': '45508',\n",
       "  'rank': '817',\n",
       "  'state': 'Arizona'},\n",
       " {'city': 'Buckeye',\n",
       "  'growth_from_2000_to_2013': '480.9%',\n",
       "  'latitude': 33.3703197,\n",
       "  'longitude': -112.5837766,\n",
       "  'population': '56683',\n",
       "  'rank': '641',\n",
       "  'state': 'Arizona'},\n",
       " {'city': 'Frisco',\n",
       "  'growth_from_2000_to_2013': '287.7%',\n",
       "  'latitude': 33.1506744,\n",
       "  'longitude': -96.82361159999999,\n",
       "  'population': '136791',\n",
       "  'rank': '186',\n",
       "  'state': 'Texas'}]"
      ]
     },
     "execution_count": 50,
     "metadata": {},
     "output_type": "execute_result"
    }
   ],
   "source": [
    "def abs_growth_rate(city):\n",
    "    \"\"\"\n",
    "    :return: city relative growth rate, zero if missing\n",
    "    \"\"\"\n",
    "    return float(city['growth_from_2000_to_2013'].rstrip('%') + '0') * float(city['population'])\n",
    "\n",
    "# top 3 fastest-growing cities (absolute)\n",
    "sorted(cities, key=growth_rate, reverse=True)[:3]"
   ]
  },
  {
   "cell_type": "markdown",
   "metadata": {},
   "source": [
    "# Problems \n",
    "The following problems may use the `cities` and `words` lists defined above. Use them as needed.\n",
    "\n",
    "Assume that `cities` represent the entire US population, ignoring smaller cities. "
   ]
  },
  {
   "cell_type": "markdown",
   "metadata": {},
   "source": [
    "### Problem 1. Find all common English words that contain \"zz\", e.g. \"pizza\" "
   ]
  },
  {
   "cell_type": "markdown",
   "metadata": {},
   "source": [
    "### Problem 2: Find all common English words that have at least three Ys anywhere in the word, e.g. \"synonymously\".\n",
    "**Hint:** Use the string `.count` method, e.g. `\"sympathy\".count(\"y\")` will yield 2. Use the `words` lists defined above."
   ]
  },
  {
   "cell_type": "markdown",
   "metadata": {},
   "source": [
    "### Problem 3: Find the longest english word\n",
    "Show your Python code"
   ]
  },
  {
   "cell_type": "markdown",
   "metadata": {},
   "source": [
    "### Problem 4: Find the longest word whose only vowels are \"a\".\n",
    "For example, the longest word with no vowels other than \"e\" is \"defenselessness\".\n",
    "\n",
    "\n"
   ]
  },
  {
   "cell_type": "markdown",
   "metadata": {},
   "source": [
    "### Problem 5. Using our word list, confirm the spelling rule: \"I before E except after C\"\n",
    "1. Count the number of words that contain \"cie\", e.g. \"society\"\n",
    "2. Count the number of words that contain \"cei\", e.g. \"receive\"\n",
    "\n",
    "which spelling is more common?"
   ]
  },
  {
   "cell_type": "markdown",
   "metadata": {},
   "source": [
    "### Problem 6. Make compound words\n",
    "Define the function `make_compound_word` that takes `n` words at random and concatenates them with a hyphen. This can be used to generate random memorable passwords. \n",
    "\n",
    "**Hint:** use the `random.choices`.\n",
    "\n",
    "```python\n",
    "def make_compound_word(words, n=3):\n",
    "    \"\"\"\n",
    "    :param words: a list of words\n",
    "    :param n: number of words\n",
    "    :return: hyphenated compound word\n",
    "    ...\n",
    "```\n",
    "\n",
    "**Example:**\n",
    "```\n",
    ">> make_compoud_word(n=4)\n",
    "'wobblier-bloodshed-deepness-handpicked'\n",
    "```\n",
    "\n"
   ]
  },
  {
   "cell_type": "markdown",
   "metadata": {},
   "source": [
    "### Problem 7:  State population\n",
    "\n",
    "Define the function `state_population` that adds up all people in a given state\n",
    "\n",
    "```python\n",
    "def state_population(cities, state):\n",
    "    \"\"\"\n",
    "    :param cities: list of cities as dicts\n",
    "    :param state: the name of a state\n",
    "    :return: the total number of people in cities from that state\n",
    "    \"\"\"\n",
    "    ...\n",
    "```"
   ]
  },
  {
   "cell_type": "markdown",
   "metadata": {},
   "source": [
    "### Problem 9.  Compute the average distance between two cities in the US. \n",
    "**Hint:** You can use a Monte Carlo method to pick pairs of cities with the `random.sample` function and the `route_length` function above to compute the distance between them. Pull 100,000 random pairs and average the result. \n",
    "\n",
    "Since we only have 1000 cities, then you can also compare all pairs. For 1000 cities, this would make $1000\\times999/2 = 499,500$ unordered pairs. The random sampling may be easier to implement and faster to compute with sufficient accuracy."
   ]
  },
  {
   "cell_type": "markdown",
   "metadata": {},
   "source": [
    "### Problem 10.  Compute the average distance between two random people in the US. \n",
    "**Hint:** Use the same algorithm as for cities, but use `random.choices` to select pairs of cities with weights proportional to the population size. \n",
    "\n",
    "Explain the difference between the results of 9 and 10."
   ]
  },
  {
   "cell_type": "markdown",
   "metadata": {},
   "source": [
    "### Problem 11. Compute the average population of a city in which a US person lives. \n",
    "\n",
    "**Hint**: This is different from the average city population. Weigh the average by the population."
   ]
  },
  {
   "cell_type": "markdown",
   "metadata": {},
   "source": [
    "### Problem 12.  Calculate what fraction of the US population lives east of Houston. \n",
    "**Hint:** No need for Monte Carlo, just sum."
   ]
  },
  {
   "cell_type": "markdown",
   "metadata": {},
   "source": [
    "### Problem 13. Traveling Salesperson Problem\n",
    "Select 10 cities from the `cities`. You may pick them yoursef or use `random.choices` weighted by population (duplicate cities are okay). Calculate the distance of the route between the cities, returning to the starting city. In what order should a traveling salesperson visit them.\n",
    "\n",
    "Define the function `optimize_route` that takes the list of cities to visit and returns an optimized sequences of visits for the shortest overall distance. \n",
    "\n",
    "**Hint:** You can use `random.shuffle` to generate 10,000 random shuffles and select the one that produces the shortest route. \n",
    "\n",
    "```python\n",
    "def optimize_route(route, nshuffles=100_000):\n",
    "    \"\"\"\n",
    "    :param route: a list of dictionaries with fields 'city', 'state', 'latitude', and 'longitude'\n",
    "    :nshuffles: number of random shuffles to try in search of the shortest route\n",
    "    :return: the shortest route\n",
    "    ...\n",
    "```"
   ]
  },
  {
   "cell_type": "markdown",
   "metadata": {},
   "source": [
    "### Problem 14. Re-write the function `find_unique_letter_words` above but using a list comprehension instead."
   ]
  },
  {
   "cell_type": "markdown",
   "metadata": {},
   "source": [
    "Enjoy!"
   ]
  }
 ],
 "metadata": {
  "kernelspec": {
   "display_name": "Python 3",
   "language": "python",
   "name": "python3"
  },
  "language_info": {
   "codemirror_mode": {
    "name": "ipython",
    "version": 3
   },
   "file_extension": ".py",
   "mimetype": "text/x-python",
   "name": "python",
   "nbconvert_exporter": "python",
   "pygments_lexer": "ipython3",
   "version": "3.7.3"
  }
 },
 "nbformat": 4,
 "nbformat_minor": 2
}
