{
 "cells": [
  {
   "cell_type": "markdown",
   "metadata": {},
   "source": [
    "# Lecture 3\n",
    "## Data structures and loops\n",
    "### Objectives\n",
    "\n",
    "* Learn about sequence data types: `list`, `tuple`\n",
    "  * Create a sequence\n",
    "  * Look up elements in a sequence\n",
    "  * Modify a sequence\n",
    "  * Sort and search sequences\n",
    "  * the `in` operator\n",
    "* Distinguish between mutable and immutable objects\n",
    "* Key-value mapping: `dict`:\n",
    "  * Create and update a dictionary\n",
    "  * Lookup a value by key\n",
    "  * Remove a key-value pair\n",
    "* `for` loops\n",
    "  * iterate through a sequence of objects\n",
    "  * iterate through a list\n",
    "  * using the `range` object\n",
    "  * iterating through dictionaries\n",
    "\n",
    "\n",
    "### See also:\n",
    "  1. Dietels' \"Python for Programmers\" https://www.oreilly.com/library/view/python-for-programmers/9780135231364/\n",
    "    * Chapter 3: Control statements\n",
    "    * Chapter 5: Sequences lists and tuples\n",
    "    * Chapter 6: Dictionaries and sets\n",
    "  1. Python Tutorial:\n",
    "    * Chapter 4: https://docs.python.org/3.8/tutorial/controlflow.html\n",
    "    * Chapter 5: https://docs.python.org/3.8/tutorial/datastructures.html\n",
    "  1. Driscol's Python 101 Chapter \n",
    "    * Chapter 3: https://python101.pythonlibrary.org/chapter3_lists_dicts.html\n",
    "    * Chapter 4: https://python101.pythonlibrary.org/chapter4_conditionals.html\n",
    "    * Chapter 5: https://python101.pythonlibrary.org/chapter5_loops.html\n",
    "  1. Wes McKinney, Python for Data Analysis, 2nd Edition https://learning.oreilly.com/library/view/python-for-data/9781491957653/\n",
    "    * Chapter 3: Built-in data types\n",
    "     \n",
    "\n",
    "* For next lecture: \n",
    " Chapter 3: in \"Think Python 2\" Functions http://greenteapress.com/thinkpython2/thinkpython2.pdf\n",
    " "
   ]
  },
  {
   "cell_type": "markdown",
   "metadata": {},
   "source": [
    "# Lecture"
   ]
  },
  {
   "cell_type": "code",
   "execution_count": null,
   "metadata": {},
   "outputs": [],
   "source": [
    "..."
   ]
  },
  {
   "cell_type": "markdown",
   "metadata": {},
   "source": [
    "# Homework"
   ]
  },
  {
   "cell_type": "markdown",
   "metadata": {},
   "source": [
    "**Problem 1:** *Scientific notation*. \n",
    "\n",
    "Earth's mass is $5.97\\times10^{24}$ kg.  The Moon's mass is $7.35\\times10^{22}$ kg.  Write the python code to calculate how many times heavier the Moon is compared to Earth. "
   ]
  },
  {
   "cell_type": "code",
   "execution_count": null,
   "metadata": {},
   "outputs": [],
   "source": []
  },
  {
   "cell_type": "markdown",
   "metadata": {},
   "source": [
    "**Problem 2:** *Scientific notation*. \n",
    "\n",
    "The energy carried by a blue photon is $E=2.8\\;eV$ where $1\\;eV  = 1.602\\times10^{-19}$ J. \n",
    "\n",
    "Consider an LED light bulb that consumes $P=1$ W power and converts $\\varepsilon=10$% of it into light? How many photons does it emit every second.\n",
    "\n",
    "The formula will be $$n = \\frac{\\varepsilon P}{E\\times eV}$$  Write the python expression to calculate and print $n$."
   ]
  },
  {
   "cell_type": "code",
   "execution_count": null,
   "metadata": {},
   "outputs": [],
   "source": []
  },
  {
   "cell_type": "markdown",
   "metadata": {},
   "source": [
    "**Problem 3:** \n",
    "After executing the following code, which variables point to an object of type `tuple`.\n",
    "\n",
    "```python\n",
    "a = {1, 2, 3}\n",
    "b = \"1, 2, 3\"\n",
    "c = (1, 2, 3)\n",
    "d = [1, 2, 3]\n",
    "e = 1, 2, 3\n",
    "```"
   ]
  },
  {
   "cell_type": "code",
   "execution_count": null,
   "metadata": {},
   "outputs": [],
   "source": []
  },
  {
   "cell_type": "markdown",
   "metadata": {},
   "source": [
    "#### **Problem 4:** *Creating and updating lists.* \n",
    "1. Define a list containing the capital letters of the alphabet in order. \n",
    "2. Find and print the position of the letters `\"I\"`, `\"P\"`, and `\"V\"` in the list. \n",
    "3. After printing these letters emove them from the list. Print the remaining list."
   ]
  },
  {
   "cell_type": "code",
   "execution_count": null,
   "metadata": {},
   "outputs": [],
   "source": []
  },
  {
   "cell_type": "markdown",
   "metadata": {},
   "source": [
    "**Problem 5** Nested tuples\n",
    "The following defines a tuple of tuples\n",
    "\n",
    "```python\n",
    "nested_tuple = (4, 5, 6), (), (7, 8), (33, ), (7, 73))\n",
    "```\n",
    "\n",
    "Print the second number in the third tuple."
   ]
  },
  {
   "cell_type": "code",
   "execution_count": null,
   "metadata": {},
   "outputs": [],
   "source": []
  },
  {
   "cell_type": "markdown",
   "metadata": {},
   "source": [
    "**Problem 6**: Make a dictionary where the keys are the two-letter acronyms of US states and the values are their capitals. 5-6 states will suffice. "
   ]
  },
  {
   "cell_type": "code",
   "execution_count": null,
   "metadata": {},
   "outputs": [],
   "source": []
  },
  {
   "cell_type": "markdown",
   "metadata": {},
   "source": [
    "**Problem 7**: Organize the following names and occuptions as a list of dictionaries. The list should contain three elements and the keys of the dictionaries must be `name` and `occupation`.\n",
    "\n",
    "```\n",
    "name:  Alice\n",
    "occupation: Student\n",
    "\n",
    "name:  Bob\n",
    "occupation: Teacher\n",
    "\n",
    "name:  Charles\n",
    "occupation: Nurse\n",
    "```"
   ]
  },
  {
   "cell_type": "code",
   "execution_count": null,
   "metadata": {},
   "outputs": [],
   "source": []
  },
  {
   "cell_type": "markdown",
   "metadata": {},
   "source": [
    "**Problem 8**:\n",
    "Write a `for` loop that prints numbers from 0 to 10. "
   ]
  },
  {
   "cell_type": "code",
   "execution_count": null,
   "metadata": {},
   "outputs": [],
   "source": []
  },
  {
   "cell_type": "markdown",
   "metadata": {},
   "source": [
    "**Problem 9:** Write a for loop that prints numbers from 10 to 1."
   ]
  },
  {
   "cell_type": "code",
   "execution_count": null,
   "metadata": {},
   "outputs": [],
   "source": []
  },
  {
   "cell_type": "markdown",
   "metadata": {},
   "source": [
    "**Problem 10:** Write a for loop that prints numbers from 100 to 0 counting by 7s."
   ]
  },
  {
   "cell_type": "code",
   "execution_count": null,
   "metadata": {},
   "outputs": [],
   "source": []
  },
  {
   "cell_type": "markdown",
   "metadata": {},
   "source": [
    "**Problem 11:** Write a for loop computes the sum of all the odd numbers from 0 to `n`."
   ]
  },
  {
   "cell_type": "code",
   "execution_count": 1,
   "metadata": {},
   "outputs": [
    {
     "name": "stdout",
     "output_type": "stream",
     "text": [
      "The sum is Ellipsis\n"
     ]
    }
   ],
   "source": [
    "n = 130\n",
    "result = ...\n",
    "...\n",
    "print(f\"The sum is {result}\")"
   ]
  },
  {
   "cell_type": "markdown",
   "metadata": {},
   "source": [
    "**Problem 12**: The following code generates the tuple `tup` of 3 random numbers between 0 and 100. Print the largest the three numbers."
   ]
  },
  {
   "cell_type": "code",
   "execution_count": null,
   "metadata": {},
   "outputs": [],
   "source": [
    "import random\n",
    "tup = tuple(random.randint(0, 100) for i in range(3))\n",
    "print(tup)\n",
    "..."
   ]
  },
  {
   "cell_type": "markdown",
   "metadata": {},
   "source": [
    "**Problem 13:** \n",
    "The following code generates the tuple `tup` of 3 random numbers between 0 and 100. The middle of the three numbers (the one that is neither largest nor smallest)."
   ]
  },
  {
   "cell_type": "code",
   "execution_count": null,
   "metadata": {},
   "outputs": [],
   "source": [
    "import random\n",
    "tup = tuple(random.randint(0, 100) for i in range(3))\n",
    "print(tup)\n",
    "..."
   ]
  },
  {
   "cell_type": "markdown",
   "metadata": {},
   "source": [
    "**Problem 14:** \n",
    "The following code generates the tuple `tup` of 30 random numbers between 0 and 100. Add the code to print all the even numbers from `tup`."
   ]
  },
  {
   "cell_type": "code",
   "execution_count": null,
   "metadata": {},
   "outputs": [],
   "source": [
    "import random\n",
    "tup = tuple(random.randint(0, 100) for i in range(30))\n",
    "print(tup)\n",
    "..."
   ]
  },
  {
   "cell_type": "markdown",
   "metadata": {},
   "source": [
    "**Problem 15:** Write the code that prints a square that is `n` in size for example for `n = 6`, it will print\n",
    "\n",
    "```\n",
    "# # # # # # #\n",
    "# # # # # # #\n",
    "# # # # # # #\n",
    "# # # # # # #\n",
    "# # # # # # #\n",
    "# # # # # # #\n",
    "# # # # # # #\n",
    "```"
   ]
  },
  {
   "cell_type": "code",
   "execution_count": null,
   "metadata": {},
   "outputs": [],
   "source": [
    "n = 9\n",
    "..."
   ]
  },
  {
   "cell_type": "markdown",
   "metadata": {},
   "source": [
    "**Problem 16:** Write the code that prints a triangle that is `n` in size for example for `n = 6`, it will print\n",
    "\n",
    "```\n",
    "#\n",
    "# #\n",
    "# # #\n",
    "# # # #\n",
    "# # # # #\n",
    "# # # # # #\n",
    "# # # # # # #\n",
    "```\n"
   ]
  },
  {
   "cell_type": "code",
   "execution_count": null,
   "metadata": {},
   "outputs": [],
   "source": [
    "n = 7\n",
    "..."
   ]
  },
  {
   "cell_type": "markdown",
   "metadata": {},
   "source": [
    "**Problem 17**: Write the code that prints a pyramid that is `n` in size for example for `n = 6`, it will print\n",
    "\n",
    "```\n",
    "#\n",
    "# #\n",
    "# # #\n",
    "# # # #\n",
    "# # # # #\n",
    "# # # # # #\n",
    "# # # # #\n",
    "# # # #\n",
    "# # #\n",
    "# #\n",
    "#\n",
    "```"
   ]
  },
  {
   "cell_type": "markdown",
   "metadata": {},
   "source": [
    "**Problem 18:** \n",
    "The following code generates the list `numbers` of 30 random numbers between 0 and 100. Generate a new list, `big_numbers` that contains all numbers of `numbers` that are greater than 50."
   ]
  },
  {
   "cell_type": "code",
   "execution_count": null,
   "metadata": {},
   "outputs": [],
   "source": [
    "import random\n",
    "numbers = [random.randint(0, 100) for i in range(30)]\n",
    "..."
   ]
  },
  {
   "cell_type": "markdown",
   "metadata": {},
   "source": [
    "**Problem 19:** \n",
    "The following code generates the tuple `sides` of 3 numbers random numbers between 0 and 100. Determine if these numbers could make the sides of a triangle. Three numbers cannot make the sides of a triangle if the largest number is bigger than the other two combined. "
   ]
  },
  {
   "cell_type": "code",
   "execution_count": null,
   "metadata": {},
   "outputs": [],
   "source": [
    "import random\n",
    "sides = random.randint(0, 100), random.randint(0, 100), random.randint(0, 100)\n",
    "\n",
    "...\n",
    "if ... : \n",
    "    print(f\"The numbers {sides} can make a triangle\")\n",
    "else:\n",
    "    print(f\"The numbers {sides} cannot make a triangle\")\n"
   ]
  },
  {
   "cell_type": "markdown",
   "metadata": {},
   "source": [
    "**Problem 20:** \n",
    "Take a given string `string` and print the number of letters in each of its words:\n",
    "\n",
    "For example, for `string = \"University of Saint Thomas\"`, your program will print \"10 2 5 6\"."
   ]
  },
  {
   "cell_type": "code",
   "execution_count": null,
   "metadata": {},
   "outputs": [],
   "source": [
    "string = \"University of Saint Thomas\"\n"
   ]
  },
  {
   "cell_type": "markdown",
   "metadata": {},
   "source": [
    "**Problem 21:** \n",
    "The following code generates the list `numbers` of 30 random numbers between 0 and 10. Print the number of unique numbers in it. "
   ]
  },
  {
   "cell_type": "code",
   "execution_count": null,
   "metadata": {},
   "outputs": [],
   "source": [
    "import random\n",
    "numbers = [random.randint(0, 10) for i in range(30)]\n",
    "..."
   ]
  },
  {
   "cell_type": "code",
   "execution_count": null,
   "metadata": {},
   "outputs": [],
   "source": []
  }
 ],
 "metadata": {
  "kernelspec": {
   "display_name": "Python 3",
   "language": "python",
   "name": "python3"
  },
  "language_info": {
   "codemirror_mode": {
    "name": "ipython",
    "version": 3
   },
   "file_extension": ".py",
   "mimetype": "text/x-python",
   "name": "python",
   "nbconvert_exporter": "python",
   "pygments_lexer": "ipython3",
   "version": "3.7.3"
  }
 },
 "nbformat": 4,
 "nbformat_minor": 2
}
