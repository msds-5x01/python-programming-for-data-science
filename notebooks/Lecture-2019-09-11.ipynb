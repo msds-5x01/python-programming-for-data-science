{
 "cells": [
  {
   "cell_type": "markdown",
   "metadata": {},
   "source": [
    "# Lecture 2019-09-11\n",
    "## Continued: Data structures, control structures, functions and simple algorithms"
   ]
  },
  {
   "cell_type": "markdown",
   "metadata": {},
   "source": [
    "### Sample Solutions from [Problem Set 1](https://github.com/msds-5x01/python-programming-for-data-science/blob/master/Set1.md)"
   ]
  },
  {
   "cell_type": "markdown",
   "metadata": {},
   "source": [
    "### Problem 1\n",
    "\n",
    "Define the function first_even(array) that returns the first even element from the its input argument, which is a list.\n",
    "\n",
    "```python\n",
    "def first_even(array): \n",
    "    \"\"\" return the first even element of array \"\"\"\n",
    "    # write your code here\n",
    "\n",
    "# test:\n",
    "assert first_even([1, 3, 7, 8, 4, 3, 7]) == 8\n",
    "```"
   ]
  },
  {
   "cell_type": "code",
   "execution_count": 1,
   "metadata": {},
   "outputs": [],
   "source": [
    "def first_even(array): \n",
    "    \"\"\" return the first even element of array \"\"\"\n",
    "    even = []\n",
    "    for num in array:\n",
    "        if num % 2 == 0:\n",
    "            even.append(num)\n",
    "    return even[0]"
   ]
  },
  {
   "cell_type": "code",
   "execution_count": 2,
   "metadata": {},
   "outputs": [],
   "source": [
    "def first_even(array):\n",
    "    for num in array:\n",
    "        if num % 2 == 0:\n",
    "            return num"
   ]
  },
  {
   "cell_type": "code",
   "execution_count": 3,
   "metadata": {},
   "outputs": [
    {
     "name": "stdout",
     "output_type": "stream",
     "text": [
      "8\n"
     ]
    }
   ],
   "source": [
    "array = [1, 3, 7, 8, 4, 3, 7, 10]\n",
    "for num in array:\n",
    "    if num % 2 == 0:\n",
    "        print(num)\n",
    "        break"
   ]
  },
  {
   "cell_type": "code",
   "execution_count": 4,
   "metadata": {},
   "outputs": [],
   "source": [
    "def first_even(array):\n",
    "    # use a generator \n",
    "    return next(num for num in array if num % 2 == 0)"
   ]
  },
  {
   "cell_type": "code",
   "execution_count": 5,
   "metadata": {},
   "outputs": [],
   "source": [
    "assert first_even([1, 3, 7, 8, 4, 3, 7]) == 8"
   ]
  },
  {
   "cell_type": "markdown",
   "metadata": {},
   "source": [
    "## Problem 2\n",
    "Define the function `avg_even(array)` that returns the average value of all the even values in the list array.\n",
    "```python\n",
    "def avg_even(array):\n",
    "    # write your code here\n",
    "\n",
    "# test\n",
    "assert avg_even([1, 3, 7, 2, 8, 3, 7, 6, 0]) == 4.0\n",
    "```"
   ]
  },
  {
   "cell_type": "code",
   "execution_count": 6,
   "metadata": {},
   "outputs": [],
   "source": [
    "def avg_even(array):\n",
    "    \"\"\"Return the average of all even numbers in the array\"\"\"\n",
    "    total = 0\n",
    "    count = 0\n",
    "    for num in array:\n",
    "        if num % 2 == 0:\n",
    "            total += num\n",
    "            count += 1\n",
    "    return total / count"
   ]
  },
  {
   "cell_type": "code",
   "execution_count": 7,
   "metadata": {},
   "outputs": [],
   "source": [
    "def avg_even(array):\n",
    "    \"\"\"Return the average of all even numbers in the array\"\"\"\n",
    "    evens = []\n",
    "    for num in array:\n",
    "        if num % 2 == 0:\n",
    "            evens.append(num)\n",
    "    return sum(evens) / len(evens)"
   ]
  },
  {
   "cell_type": "code",
   "execution_count": 8,
   "metadata": {},
   "outputs": [],
   "source": [
    "def avg_even(array):\n",
    "    \"\"\"Return the average of all even numbers in the array\"\"\"\n",
    "    # use list comprehension\n",
    "    evens = [num for num in array if num % 2 == 0]\n",
    "    return sum(evens) / len(evens)"
   ]
  },
  {
   "cell_type": "code",
   "execution_count": 9,
   "metadata": {},
   "outputs": [],
   "source": [
    "array = [1, 3, 7, 2, 8, 3, 7, 6, 0]"
   ]
  },
  {
   "cell_type": "code",
   "execution_count": 10,
   "metadata": {},
   "outputs": [],
   "source": [
    "evens = []"
   ]
  },
  {
   "cell_type": "code",
   "execution_count": 11,
   "metadata": {},
   "outputs": [
    {
     "data": {
      "text/plain": [
       "[2, 8, 6, 0]"
      ]
     },
     "execution_count": 11,
     "metadata": {},
     "output_type": "execute_result"
    }
   ],
   "source": [
    "for num in array:\n",
    "    if num % 2 == 0:\n",
    "        evens.append(num)\n",
    "evens"
   ]
  },
  {
   "cell_type": "code",
   "execution_count": 12,
   "metadata": {},
   "outputs": [
    {
     "data": {
      "text/plain": [
       "4.0"
      ]
     },
     "execution_count": 12,
     "metadata": {},
     "output_type": "execute_result"
    }
   ],
   "source": [
    "sum(evens)/len(evens)"
   ]
  },
  {
   "cell_type": "code",
   "execution_count": 13,
   "metadata": {},
   "outputs": [],
   "source": [
    "assert avg_even([1, 3, 7, 2, 8, 3, 7, 6, 0]) == 4.0"
   ]
  },
  {
   "cell_type": "markdown",
   "metadata": {},
   "source": [
    "## Problem 5\n",
    "\n",
    "Define function `compute_polynomial(a, x)` that works for polynomials of any degree: $a_0 + a_1 x + a_2 x^2 + ... +a_n x^n$.\n",
    "\n",
    "```python\n",
    "def compute_polynomial(a, x):\n",
    "    # write your code here\n",
    "    return \n",
    "    \n",
    "\n",
    "assert compute_polynomial([-7, 2, 1, 1], 2) == 9.0\n",
    "```"
   ]
  },
  {
   "cell_type": "code",
   "execution_count": 14,
   "metadata": {},
   "outputs": [],
   "source": [
    "def compute_polynomial(a, x):\n",
    "    \"\"\"\n",
    "    Compute a[0] + a[1]*x + a[2]*x*x + a[3]*x*x*x + ... + a[n]*x**n\n",
    "    \"\"\"\n",
    "    total = 0.0\n",
    "    for i in range(len(a)):\n",
    "        total += a[i] * x**i\n",
    "    return total"
   ]
  },
  {
   "cell_type": "code",
   "execution_count": 15,
   "metadata": {},
   "outputs": [
    {
     "data": {
      "text/plain": [
       "9.0"
      ]
     },
     "execution_count": 15,
     "metadata": {},
     "output_type": "execute_result"
    }
   ],
   "source": [
    "compute_polynomial([-7, 2, 1, 1], 2)"
   ]
  },
  {
   "cell_type": "code",
   "execution_count": 16,
   "metadata": {},
   "outputs": [],
   "source": [
    "def compute_polynomial(a, x):\n",
    "    \"\"\"\n",
    "    Compute a[0] + a[1]*x + a[2]*x*x + a[3]*x*x*x + ... + a[n]*x**n\n",
    "    \"\"\"\n",
    "    total = 0.0\n",
    "    for i in range(len(a)):\n",
    "        total += a[i] * x**i\n",
    "    return total"
   ]
  },
  {
   "cell_type": "markdown",
   "metadata": {},
   "source": [
    "## More on for loops: enumerate"
   ]
  },
  {
   "cell_type": "markdown",
   "metadata": {},
   "source": [
    "For loops over a sequence of tuples:"
   ]
  },
  {
   "cell_type": "code",
   "execution_count": 17,
   "metadata": {},
   "outputs": [
    {
     "name": "stdout",
     "output_type": "stream",
     "text": [
      "(1, 2)\n",
      "(2, 3)\n",
      "(3, 2)\n"
     ]
    }
   ],
   "source": [
    "for a in (1, 2), (2, 3), (3, 2):\n",
    "    print(a)"
   ]
  },
  {
   "cell_type": "code",
   "execution_count": 18,
   "metadata": {},
   "outputs": [
    {
     "name": "stdout",
     "output_type": "stream",
     "text": [
      "1 2\n",
      "2 3\n",
      "3 2\n"
     ]
    }
   ],
   "source": [
    "for a, b in (1, 2), (2, 3), (3, 2):\n",
    "    print(a, b)"
   ]
  },
  {
   "cell_type": "markdown",
   "metadata": {},
   "source": [
    "`enumerate(seq)` generates a sequence of tuples where the first element is the sequential index and the second element is taken from `seq`:"
   ]
  },
  {
   "cell_type": "code",
   "execution_count": 19,
   "metadata": {},
   "outputs": [],
   "source": [
    "seq = \"Houston\""
   ]
  },
  {
   "cell_type": "code",
   "execution_count": 20,
   "metadata": {},
   "outputs": [
    {
     "name": "stdout",
     "output_type": "stream",
     "text": [
      "(0, 'H')\n",
      "(1, 'o')\n",
      "(2, 'u')\n",
      "(3, 's')\n",
      "(4, 't')\n",
      "(5, 'o')\n",
      "(6, 'n')\n"
     ]
    }
   ],
   "source": [
    "for a in enumerate(seq):\n",
    "    print(a)"
   ]
  },
  {
   "cell_type": "code",
   "execution_count": 21,
   "metadata": {},
   "outputs": [
    {
     "name": "stdout",
     "output_type": "stream",
     "text": [
      "0 H\n",
      "1 o\n",
      "2 u\n",
      "3 s\n",
      "4 t\n",
      "5 o\n",
      "6 n\n"
     ]
    }
   ],
   "source": [
    "for i, c in enumerate(seq):\n",
    "    print(i, c)"
   ]
  },
  {
   "cell_type": "markdown",
   "metadata": {},
   "source": [
    "The following code is equivalent "
   ]
  },
  {
   "cell_type": "code",
   "execution_count": 22,
   "metadata": {},
   "outputs": [
    {
     "name": "stdout",
     "output_type": "stream",
     "text": [
      "0 H\n",
      "1 o\n",
      "2 u\n",
      "3 s\n",
      "4 t\n",
      "5 o\n",
      "6 n\n"
     ]
    }
   ],
   "source": [
    "for i in range(len(seq)):\n",
    "    print(i, seq[i])"
   ]
  },
  {
   "cell_type": "code",
   "execution_count": 23,
   "metadata": {},
   "outputs": [],
   "source": [
    "def compute_polynomial(a, x):\n",
    "    \"\"\"\n",
    "    Compute a[0] + a[1]*x + a[2]*x*x + a[3]*x*x*x + ... + a[n]*x**n\n",
    "    \"\"\"\n",
    "    total = 0.0\n",
    "    xx = 1\n",
    "    for i, ai in enumerate(a):\n",
    "        total += ai * xx\n",
    "        xx *= x\n",
    "        print(f\"i: {i}   ai: {ai}, total: {total}, xx: {xx}\")\n",
    "    return total"
   ]
  },
  {
   "cell_type": "code",
   "execution_count": 24,
   "metadata": {},
   "outputs": [
    {
     "name": "stdout",
     "output_type": "stream",
     "text": [
      "i: 0   ai: -7, total: -7.0, xx: 2\n",
      "i: 1   ai: 2, total: -3.0, xx: 4\n",
      "i: 2   ai: 1, total: 1.0, xx: 8\n",
      "i: 3   ai: 1, total: 9.0, xx: 16\n"
     ]
    },
    {
     "data": {
      "text/plain": [
       "9.0"
      ]
     },
     "execution_count": 24,
     "metadata": {},
     "output_type": "execute_result"
    }
   ],
   "source": [
    "compute_polynomial([-7, 2, 1, 1], 2)"
   ]
  },
  {
   "cell_type": "code",
   "execution_count": 25,
   "metadata": {},
   "outputs": [],
   "source": [
    "def compute_polynomial(a, x):\n",
    "    \"\"\"\n",
    "    Compute a[0] + a[1]*x + a[2]*x*x + a[3]*x*x*x + ... + a[n]*x**n\n",
    "    Using generators (advanced).\n",
    "    \"\"\"\n",
    "    return sum(ai * x**i for i, ai in enumerate(a))"
   ]
  },
  {
   "cell_type": "markdown",
   "metadata": {},
   "source": [
    "# F-strings\n",
    "F-strings integrate values of expressions into a string. Learn more about f-strings: https://realpython.com/python-f-strings/"
   ]
  },
  {
   "cell_type": "code",
   "execution_count": 26,
   "metadata": {},
   "outputs": [
    {
     "data": {
      "text/plain": [
       "'This is a literal string'"
      ]
     },
     "execution_count": 26,
     "metadata": {},
     "output_type": "execute_result"
    }
   ],
   "source": [
    "\"This is a literal string\""
   ]
  },
  {
   "cell_type": "code",
   "execution_count": 27,
   "metadata": {},
   "outputs": [
    {
     "data": {
      "text/plain": [
       "'My name is Dimitri'"
      ]
     },
     "execution_count": 27,
     "metadata": {},
     "output_type": "execute_result"
    }
   ],
   "source": [
    "name = \"Dimitri\"\n",
    "f'My name is {name}'"
   ]
  },
  {
   "cell_type": "code",
   "execution_count": 28,
   "metadata": {},
   "outputs": [
    {
     "data": {
      "text/plain": [
       "'Calculate 6'"
      ]
     },
     "execution_count": 28,
     "metadata": {},
     "output_type": "execute_result"
    }
   ],
   "source": [
    "f'Calculate {2*3}'"
   ]
  },
  {
   "cell_type": "markdown",
   "metadata": {},
   "source": [
    "### Readings: [Think Python 2e](https://greenteapress.com/wp/think-python-2e/)  Chapters 1—3"
   ]
  },
  {
   "cell_type": "markdown",
   "metadata": {},
   "source": [
    "# Famous algorithms"
   ]
  },
  {
   "cell_type": "markdown",
   "metadata": {},
   "source": [
    "### 1. Babylonian square root \n",
    "Find the square root of $S$.\n",
    "1. Begin with an arbitrary positive starting value $x_0$ (the closer to the actual square root of S, the better).\n",
    "2. Let $x_{n + 1}$ be the average of $x_n$ and $S/x_n$.\n",
    "3. Repeat step 2 until close enough"
   ]
  },
  {
   "cell_type": "code",
   "execution_count": 29,
   "metadata": {},
   "outputs": [
    {
     "name": "stdout",
     "output_type": "stream",
     "text": [
      "The x*x = 120.0\n"
     ]
    }
   ],
   "source": [
    "S = 120\n",
    "x = S\n",
    "for i in range(8):\n",
    "    x = (x + S/x)/2\n",
    "\n",
    "print(f'The x*x = {x*x}')"
   ]
  },
  {
   "cell_type": "code",
   "execution_count": 30,
   "metadata": {},
   "outputs": [
    {
     "name": "stdout",
     "output_type": "stream",
     "text": [
      "x*x = 120.00000003189072\n"
     ]
    }
   ],
   "source": [
    "x = S\n",
    "while abs(x*x - S) > 0.0001:\n",
    "    x = (x + S/x)/2\n",
    "\n",
    "print(f'x*x = {x*x}')"
   ]
  },
  {
   "cell_type": "markdown",
   "metadata": {},
   "source": [
    "### 2. Eratosthenes sieve\n",
    "Print all prime numbers up to $N=1000$."
   ]
  },
  {
   "cell_type": "code",
   "execution_count": 31,
   "metadata": {
    "scrolled": true
   },
   "outputs": [
    {
     "name": "stdout",
     "output_type": "stream",
     "text": [
      "2,3,5,7,11,13,17,19,23,29,31,37,41,43,47,53,59,61,67,71,73,79,83,89,97,101,103,107,109,113,127,131,137,139,149,151,157,163,167,173,179,181,191,193,197,199,211,223,227,229,233,239,241,251,257,263,269,271,277,281,283,293,307,311,313,317,331,337,347,349,353,359,367,373,379,383,389,397,401,409,419,421,431,433,439,443,449,457,461,463,467,479,487,491,499,503,509,521,523,541,547,557,563,569,571,577,587,593,599,601,607,613,617,619,631,641,643,647,653,659,661,673,677,683,691,701,709,719,727,733,739,743,751,757,761,769,773,787,797,809,811,821,823,827,829,839,853,857,859,863,877,881,883,887,907,911,919,929,937,941,947,953,967,971,977,983,991,997,"
     ]
    }
   ],
   "source": [
    "N = 1000\n",
    "sieve = [True] * N\n",
    "sieve[0] = False\n",
    "sieve[1] = False\n",
    "for i in range(N):\n",
    "    if sieve[i]:\n",
    "        print(i, end=',')\n",
    "        for j in range(i*2, N, i):\n",
    "            sieve[j] = False"
   ]
  },
  {
   "cell_type": "code",
   "execution_count": 32,
   "metadata": {},
   "outputs": [
    {
     "name": "stdout",
     "output_type": "stream",
     "text": [
      "0-\n",
      "0-1-\n",
      "0-1-2-\n",
      "0-1-2-3-\n"
     ]
    }
   ],
   "source": [
    "# Nested loop\n",
    "for i in range(4):\n",
    "    for j in range(i+1):\n",
    "        print(j, end='-')\n",
    "    print()"
   ]
  },
  {
   "cell_type": "markdown",
   "metadata": {},
   "source": [
    "### 3. Greatest common divider (GCD)\n",
    "What is the greatest common divider `d` of two numbers `a` and `b`.\n",
    "\n",
    "For example, for `a = 12` and `b = 15`, the GCD is `d = 3`."
   ]
  },
  {
   "cell_type": "code",
   "execution_count": 33,
   "metadata": {},
   "outputs": [],
   "source": [
    "a, b = 12, 15"
   ]
  },
  {
   "cell_type": "markdown",
   "metadata": {},
   "source": [
    "First, order the numbers"
   ]
  },
  {
   "cell_type": "code",
   "execution_count": 34,
   "metadata": {},
   "outputs": [],
   "source": [
    "a, b = max(a, b), min(a, b)"
   ]
  },
  {
   "cell_type": "markdown",
   "metadata": {},
   "source": [
    "Check if the smaller is the divider of the other, then the smaller number is the divider"
   ]
  },
  {
   "cell_type": "code",
   "execution_count": 35,
   "metadata": {},
   "outputs": [],
   "source": [
    "if a % b == 0:\n",
    "    print(f'{b} is the divider')"
   ]
  },
  {
   "cell_type": "markdown",
   "metadata": {},
   "source": [
    "If d is the GCD of a and b, then it's also the GCD of a - b and b, so solve this smaller problem"
   ]
  },
  {
   "cell_type": "code",
   "execution_count": 36,
   "metadata": {},
   "outputs": [],
   "source": [
    "a, b = b, a - b"
   ]
  },
  {
   "cell_type": "code",
   "execution_count": 37,
   "metadata": {},
   "outputs": [
    {
     "data": {
      "text/plain": [
       "(12, 3)"
      ]
     },
     "execution_count": 37,
     "metadata": {},
     "output_type": "execute_result"
    }
   ],
   "source": [
    "a, b"
   ]
  },
  {
   "cell_type": "code",
   "execution_count": 38,
   "metadata": {},
   "outputs": [],
   "source": [
    "def gcd(a, b):\n",
    "    while a % b:\n",
    "        a, b = max(a, b), min(a, b)\n",
    "        a, b = b, a - b\n",
    "    return b"
   ]
  },
  {
   "cell_type": "code",
   "execution_count": 39,
   "metadata": {},
   "outputs": [
    {
     "name": "stdout",
     "output_type": "stream",
     "text": [
      "The GCD of 9896 and 13607 is 1237\n"
     ]
    }
   ],
   "source": [
    "a, b = 1237 * 8, 1237 * 11\n",
    "print(f'The GCD of {a} and {b} is {gcd(a,b)}')"
   ]
  },
  {
   "cell_type": "markdown",
   "metadata": {},
   "source": [
    "# Next: assignment compute $\\pi$\n",
    "Implement any three of the following calculations of the number $\\pi$.\n",
    "Each of these requires a `for` loop adding the first $n$ elements of the sequence. How many elements are required to get a close approximation of $\\pi$?"
   ]
  },
  {
   "cell_type": "markdown",
   "metadata": {},
   "source": [
    "The number $\\pi$ can be computed several varieties of infinite series: http://www.geom.uiuc.edu/~huberty/math5337/groupe/expresspi.html\n",
    "\n",
    "(a) Compute the approximate value of $\\pi$ as the first $n$ terms of the Leibnitz series:\n",
    "$$\\frac{\\pi}{4} = 1 - \\frac 1 3 + \\frac 1 5 - \\frac 1 7 + \\frac 1 9 - \\ldots$$\n",
    "\n",
    "(b) Compute the approximate value of $\\pi$ as the first $n$ terms of the series:\n",
    "$$\\frac{\\pi}{8} = \\frac 1 {1\\cdot 3} + \\frac 1 {5\\cdot 7} + \\frac 1 {9 \\cdot 11} + \\ldots$$\n",
    "\n",
    "(c) Compute the approximate value of $\\pi$ as the first $n$ terms of the series:\n",
    "$$\\frac{\\pi^2}{6} = \\frac 1 {1^2} + \\frac 1 {2^2} + \\frac 1 {3^2} + \\frac 1 {4^2} + \\ldots$$\n",
    "\n",
    "(d) Compute the approximate value of $\\pi$ as the first $n$ terms of the series:\n",
    "$$\\frac{\\pi^2}{12} = \\frac 1 {1^2} - \\frac 1 {2^2} + \\frac 1 {3^2} - \\frac 1 {4^2} + \\ldots$$\n",
    "\n",
    "(e) Compute the approximate value of $\\pi$ as the first $n$ terms of the series:\n",
    "$$\\frac{\\pi^2}{24} = \\frac 1 {2^2} + \\frac 1 {4^2} + \\frac 1 {6^2} + \\frac 1 {8^2} + \\ldots$$\n",
    "\n",
    "(f) Compute the approximate value of $\\pi$ as the first $n$ terms of the series:\n",
    "$$\\frac{\\pi^2}{8} = \\frac 1 {1^2} + \\frac 1 {3^2} + \\frac 1 {5^2} + \\frac 1 {7^2} + \\ldots$$\n",
    "\n",
    "(g) Compute the approximate value of $\\pi$ as the first $n$ terms of the series:\n",
    "$$\\frac{\\pi^3}{32} = \\frac 1 {1^3} - \\frac 1 {3^3} + \\frac 1 {5^3} - \\frac 1 {7^3} + \\ldots$$\n",
    "\n",
    "(h) Compute the approximate value of $\\pi$ as the first $n$ terms of the series:\n",
    "$$\\frac{\\pi}{2} = \\sum\\limits_{k=0}^{\\infty} \\frac{2^k {k!}^2}{(2k+1)!}$$\n",
    "\n",
    "(i) Compute the approximate value of $\\pi$ as the first $n$ terms of the Bailey-Borwein-Plouffe series:\n",
    "$$\\pi = \\sum\\limits_{k=0}^{\\infty} 16^{-k}\\left(\\frac 4 {8k+1} - \\frac 2 {8k + 4} - \\frac 1 {8k + 5} - \\frac 1 {8k + 6}\\right) $$\n",
    "\n",
    "(j) Compute the approximate value of $\\pi$ as the first $n$ terms of the Wallis Product:\n",
    "$$\\frac{\\pi}{2} = \\frac {1^2} {1^2 - 1/4} \\cdot \\frac {2^2} {2^2 - 1/4} \\cdot \\frac {3^2} {3^2 - 1/4} \\cdot \\frac {4^2} {4^2 - 1/4} \\cdot \\ldots  $$\n",
    "\n",
    "(k) Compute the approximate value of $\\pi$ as the first $n$ iterations of the continued fraction:\n",
    "$$ \\frac 4 \\pi = 1 + \\frac{1^2}{  3 + \\frac{2^2}{ 5 + \\frac{3^2}{ 7 + \\frac{4^2}{ \\ddots }   }   } }\n",
    "$$\n",
    "\n",
    "(l) Compute the approximate value of $\\pi$ as the first $n$ iterations of the continued fraction:\n",
    "$$\\pi = 3+ \\frac{1^2}{6 + \\frac{3^2}{ 6 + \\frac{5^2}{ 6 + \\frac{7^2}{ \\ddots }  }  } }$$\n",
    "\n",
    "Print the approximated value of $\\pi$ from each result."
   ]
  },
  {
   "cell_type": "markdown",
   "metadata": {},
   "source": [
    "# Example solutions\n",
    "## Solution of (d)\n",
    "\n",
    "(d) Compute the approximate value of $\\pi$ as the first $n$ terms of the series:\n",
    "$$\\frac{\\pi^2}{12} = \\frac 1 {1^2} - \\frac 1 {2^2} + \\frac 1 {3^2} - \\frac 1 {4^2} + \\ldots$$\n"
   ]
  },
  {
   "cell_type": "code",
   "execution_count": 40,
   "metadata": {},
   "outputs": [],
   "source": [
    "def pi_d(n=1000):\n",
    "    total = 0.0\n",
    "    sign = 1.0\n",
    "    for i in range(1,n):\n",
    "        total += sign/i/i\n",
    "        sign = -sign\n",
    "    return (total * 12)**0.5"
   ]
  },
  {
   "cell_type": "code",
   "execution_count": 41,
   "metadata": {},
   "outputs": [
    {
     "data": {
      "text/plain": [
       "3.1415936094742323"
      ]
     },
     "execution_count": 41,
     "metadata": {},
     "output_type": "execute_result"
    }
   ],
   "source": [
    "pi_d()"
   ]
  },
  {
   "cell_type": "markdown",
   "metadata": {},
   "source": [
    "## Solution of (b)\n",
    "(b) Compute the approximate value of $\\pi$ as the first $n$ terms of the series:\n",
    "$$\\frac{\\pi}{8} = \\frac 1 {1\\cdot 3} + \\frac 1 {5\\cdot 7} + \\frac 1 {9 \\cdot 11} + \\ldots$$"
   ]
  },
  {
   "cell_type": "code",
   "execution_count": 42,
   "metadata": {},
   "outputs": [],
   "source": [
    "def pi_b(n=10000):\n",
    "    total = 0.0\n",
    "    for i in range(n):\n",
    "        total += 1/(i*4+1)/(i*4 + 3)\n",
    "    return total*8"
   ]
  },
  {
   "cell_type": "code",
   "execution_count": 43,
   "metadata": {},
   "outputs": [
    {
     "data": {
      "text/plain": [
       "3.1415426535898203"
      ]
     },
     "execution_count": 43,
     "metadata": {},
     "output_type": "execute_result"
    }
   ],
   "source": [
    "pi_b()"
   ]
  },
  {
   "cell_type": "code",
   "execution_count": null,
   "metadata": {},
   "outputs": [],
   "source": []
  }
 ],
 "metadata": {
  "kernelspec": {
   "display_name": "Python 3",
   "language": "python",
   "name": "python3"
  },
  "language_info": {
   "codemirror_mode": {
    "name": "ipython",
    "version": 3
   },
   "file_extension": ".py",
   "mimetype": "text/x-python",
   "name": "python",
   "nbconvert_exporter": "python",
   "pygments_lexer": "ipython3",
   "version": "3.7.3"
  }
 },
 "nbformat": 4,
 "nbformat_minor": 2
}
