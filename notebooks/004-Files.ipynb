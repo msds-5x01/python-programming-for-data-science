{
 "cells": [
  {
   "cell_type": "markdown",
   "metadata": {},
   "source": [
    "# Lecture 4\n",
    "\n",
    "## Review\n",
    "* Using `git` to submit homework\n",
    "* Questions about prior homework \n",
    "\n",
    "## Working with files\n",
    "  \n",
    "* Writing and reading text files\n",
    "  * `open` \n",
    "  * writing lines into a text file\n",
    "  * using the `with` statment\n",
    "  * `readlines`\n",
    "  * iterating through a text file \n",
    "  * Reading and writing JSON files\n",
    "  * downloading files from a URL\n",
    "\n",
    "## Algorithms\n",
    "\n",
    "* A few tricks\n",
    "  * Logical short-circuiting\n",
    "  * Chained comparisons\n",
    "  * De Morgan's laws\n",
    "  * string comparisons\n",
    "  * list and tuple comparisons\n",
    "  * `zip` function\n",
    "  * `key` argument in `max`, `min`, and `sorted`, \n",
    "  \n",
    "* Algorithm examples\n",
    "  * Swapping values\n",
    "  * Sieve of Eratosthenes \n",
    "  * Greatest Common Divisor \n",
    "  * Shoelace formula\n",
    "  \n",
    "\n",
    "### See also:\n",
    "  1. Allen Downey's \"Think Python 2\" http://greenteapress.com/thinkpython2/thinkpython2.pdf:\n",
    "    * Chapter 6: Fruitful functions\n",
    "    * Chapter 8: Strings\n",
    "    * Chapter 10: Lists\n",
    "    * Chapter 11: Dictionaries\n",
    "    * Chapter 12: Tuples\n",
    "    * Chapter 14: Files\n",
    "    \n",
    "  1. Dietels' \"Python for Programmers\" https://www.oreilly.com/library/view/python-for-programmers/9780135231364/\n",
    "    * Chapter 9: Files\n",
    "    \n",
    "  1. Python Tutorial:\n",
    "    * Chapter 7: Input and Output https://docs.python.org/3.8/tutorial/inputoutput.html\n",
    "  1. Driscol's Python 101\n",
    "    * Chapter 8: Working with Files:  https://python101.pythonlibrary.org/chapter8_file_io.html\n",
    "  1. Wes McKinney, Python for Data Analysis, 2nd Edition https://learning.oreilly.com/library/view/python-for-data/9781491957653/\n",
    "    * Chapter 3: Built-in data types, functions, and files\n",
    "    \n",
    "    \n",
    "### The Standard Library\n",
    "Learn about the Python standard library, i.e. the collection of modules that are distributed with Python: https://docs.python.org/3/library/\n",
    "\n",
    "For example, review the documentation for modules `math`, `statistics`, `random`, `csv`, `json`, `os`, `sys`, and `datetime`. What functionality do they provide?\n",
    "\n",
    "Select two modules from the standard library that seem useful to you. In class, describe why you found them useful.\n",
    "\n",
    "In addition to the standard library, over a hundred thousand other packages can be installed from the Python Package Index (PyPI) using the pip utility.\n",
    "\n",
    "### Sample data\n",
    "We will use some sample data in upcoming assignments. \n",
    "1. NY Times Covid-19 Deaths https://github.com/nytimes/covid-19-data/blob/master/us-states.csv\n",
    "2. 1000 US cities https://gist.githubusercontent.com/Miserlou/c5cd8364bf9b2420bb29/raw/2bf258763cdddd704f8ffd3ea9a3e81d25e2c6f6/cities.json\n",
    "3. 60,000 English words: http://www.mieliestronk.com/corncob_lowercase.txt\n",
    "\n",
    "Feel free to propose others\n",
    "\n",
    "### Practice \n",
    "There are many online tutorials and challenges from beginner to avanced to practice solving problems in Python and to build up skills.\n",
    "\n",
    "For example:\n",
    "* https://learnpython.org \n",
    "* Python game https://checkio.org \n",
    "* Project Euler: https://projecteuler.net - clever maths\n",
    "* https://www.101computing.net"
   ]
  },
  {
   "cell_type": "markdown",
   "metadata": {},
   "source": [
    "# Lecture"
   ]
  },
  {
   "cell_type": "markdown",
   "metadata": {},
   "source": [
    "## Writing Text files\n",
    "\n",
    "`open`, `close`, `write`, `with`"
   ]
  },
  {
   "cell_type": "code",
   "execution_count": null,
   "metadata": {},
   "outputs": [],
   "source": [
    "f = open('test.txt', 'wt')"
   ]
  },
  {
   "cell_type": "code",
   "execution_count": null,
   "metadata": {},
   "outputs": [],
   "source": [
    "f.write('one')"
   ]
  },
  {
   "cell_type": "code",
   "execution_count": null,
   "metadata": {},
   "outputs": [],
   "source": [
    "f.write('two')"
   ]
  },
  {
   "cell_type": "code",
   "execution_count": null,
   "metadata": {},
   "outputs": [],
   "source": [
    "f.close()"
   ]
  },
  {
   "cell_type": "code",
   "execution_count": null,
   "metadata": {},
   "outputs": [],
   "source": [
    "!ls *txt"
   ]
  },
  {
   "cell_type": "code",
   "execution_count": null,
   "metadata": {},
   "outputs": [],
   "source": [
    "!cat test.txt"
   ]
  },
  {
   "cell_type": "markdown",
   "metadata": {},
   "source": [
    "## Reading Text files"
   ]
  },
  {
   "cell_type": "markdown",
   "metadata": {},
   "source": [
    "`with` statement "
   ]
  },
  {
   "cell_type": "markdown",
   "metadata": {},
   "source": [
    "writing text files"
   ]
  },
  {
   "cell_type": "markdown",
   "metadata": {},
   "source": [
    "checking if file exists"
   ]
  },
  {
   "cell_type": "markdown",
   "metadata": {},
   "source": [
    "exception handling"
   ]
  },
  {
   "cell_type": "markdown",
   "metadata": {},
   "source": [
    "### Download files for analysis"
   ]
  },
  {
   "cell_type": "code",
   "execution_count": null,
   "metadata": {},
   "outputs": [],
   "source": [
    "import urllib.request\n",
    "import os\n",
    "\n",
    "def download_file(url, filepath):\n",
    "    if os.path.isfile(filepath):\n",
    "        print('File already exists')\n",
    "    else:\n",
    "        urllib.request.urlretrieve(url,  filepath)    "
   ]
  },
  {
   "cell_type": "code",
   "execution_count": null,
   "metadata": {},
   "outputs": [],
   "source": [
    "# download cities database\n",
    "download_file(\n",
    "    url = 'https://gist.githubusercontent.com/Miserlou/c5cd8364bf9b2420bb29/raw/2bf258763cdddd704f8ffd3ea9a3e81d25e2c6f6/cities.json',\n",
    "    filepath = 'us-cities.json')"
   ]
  },
  {
   "cell_type": "code",
   "execution_count": null,
   "metadata": {},
   "outputs": [],
   "source": [
    "# download english words\n",
    "download_file(\n",
    "    url = 'http://www.mieliestronk.com/corncob_lowercase.txt',\n",
    "    filepath = 'english-words.txt')"
   ]
  },
  {
   "cell_type": "code",
   "execution_count": null,
   "metadata": {},
   "outputs": [],
   "source": [
    "# download NY Covid-19 data\n",
    "download_file(\n",
    "    url = 'https://raw.githubusercontent.com/nytimes/covid-19-data/master/us-states.csv',\n",
    "    filepath = 'nytimes-covid-19.txt')"
   ]
  },
  {
   "cell_type": "markdown",
   "metadata": {},
   "source": [
    "### A few tricks"
   ]
  },
  {
   "cell_type": "markdown",
   "metadata": {},
   "source": [
    "#### Inline conditions (ternary operator)\n",
    "```python\n",
    "x if cond else y\n",
    "```"
   ]
  },
  {
   "cell_type": "markdown",
   "metadata": {},
   "source": [
    "#### logical short-circuiting"
   ]
  },
  {
   "cell_type": "code",
   "execution_count": null,
   "metadata": {},
   "outputs": [],
   "source": [
    "def compliment(name):\n",
    "    print(f\"You look good, {name}!\")"
   ]
  },
  {
   "cell_type": "markdown",
   "metadata": {},
   "source": [
    "#### chained conditions"
   ]
  },
  {
   "cell_type": "markdown",
   "metadata": {},
   "source": [
    "#### `zip` function"
   ]
  },
  {
   "cell_type": "code",
   "execution_count": null,
   "metadata": {},
   "outputs": [],
   "source": [
    "first_names = [\"Alice\", \"Bob\", \"Caren\", \"Dave\"]\n",
    "last_names = [\"Adler\", \"Briggs\", \"Collins\", \"Dawson\"]"
   ]
  },
  {
   "cell_type": "code",
   "execution_count": null,
   "metadata": {},
   "outputs": [],
   "source": []
  },
  {
   "cell_type": "markdown",
   "metadata": {},
   "source": [
    "#### The `key` argument in `sorted`, `min`, and `max`.\n",
    "\n",
    "Example: find the longest word. Or sort.\n",
    "\n",
    "Example: find the word that has the most unique letters.  Or sort.\n",
    "\n",
    "Example: find the longest word composed of unique letters\n"
   ]
  },
  {
   "cell_type": "markdown",
   "metadata": {},
   "source": [
    "#### String comparisons\n",
    "Inequality comparisons"
   ]
  },
  {
   "cell_type": "markdown",
   "metadata": {},
   "source": [
    "#### List and tuple comparisons"
   ]
  },
  {
   "cell_type": "markdown",
   "metadata": {},
   "source": [
    "Problem: determine if a word is sorted."
   ]
  },
  {
   "cell_type": "code",
   "execution_count": null,
   "metadata": {},
   "outputs": [],
   "source": []
  },
  {
   "cell_type": "code",
   "execution_count": null,
   "metadata": {},
   "outputs": [],
   "source": [
    "help(max)"
   ]
  },
  {
   "cell_type": "markdown",
   "metadata": {},
   "source": [
    "## Algorithms"
   ]
  },
  {
   "cell_type": "markdown",
   "metadata": {},
   "source": [
    "### Swapping the values of variables"
   ]
  },
  {
   "cell_type": "code",
   "execution_count": null,
   "metadata": {},
   "outputs": [],
   "source": [
    "a, b = 20, 13\n",
    "..."
   ]
  },
  {
   "cell_type": "code",
   "execution_count": null,
   "metadata": {},
   "outputs": [],
   "source": [
    "print(a, b)"
   ]
  },
  {
   "cell_type": "markdown",
   "metadata": {},
   "source": [
    "### Is it a prime? \n",
    "Determine if number `n` is prime: \n",
    " - check all numbers from 2 to n-1\n",
    " - hop by 2 to square root from 3\n",
    " - hop by 6 to square root from 1 and 5"
   ]
  },
  {
   "cell_type": "code",
   "execution_count": null,
   "metadata": {},
   "outputs": [],
   "source": [
    "%%timeit\n",
    "\n",
    "n = 10000\n",
    "for i in range(2, n):\n",
    "    if"
   ]
  },
  {
   "cell_type": "markdown",
   "metadata": {},
   "source": [
    "### Sieve of Eratosthenes\n",
    "* Generate a sequence prime numbers up to $n$\n",
    "* https://en.wikipedia.org/wiki/Sieve_of_Eratosthenes"
   ]
  },
  {
   "cell_type": "code",
   "execution_count": null,
   "metadata": {},
   "outputs": [],
   "source": []
  },
  {
   "cell_type": "markdown",
   "metadata": {},
   "source": [
    "### Greatest common divisor (GCD)\n",
    "Euclidean algorithm https://en.wikipedia.org/wiki/Euclidean_algorithm"
   ]
  },
  {
   "cell_type": "code",
   "execution_count": null,
   "metadata": {},
   "outputs": [],
   "source": [
    "b, a = 30, 75"
   ]
  },
  {
   "cell_type": "code",
   "execution_count": null,
   "metadata": {},
   "outputs": [],
   "source": [
    "while b: \n",
    "    a, b = b, a % b \n",
    "    \n",
    "print(a)"
   ]
  },
  {
   "cell_type": "markdown",
   "metadata": {},
   "source": [
    "### Pythagorian triplets\n",
    "Define the function `pythagorian_triples(n=100)` that prints all pairs of positive integer numbers $(a, b)$ such that $c=\\sqrt{a^2 + b^2}$ is also a whole number and $1 \\le c \\le n$. These triplets represent right triangles whose sides are integers."
   ]
  },
  {
   "cell_type": "code",
   "execution_count": null,
   "metadata": {},
   "outputs": [],
   "source": []
  },
  {
   "cell_type": "markdown",
   "metadata": {},
   "source": [
    "### Shoelace formula for Computing the Area of a Polygon\n",
    "* https://en.wikipedia.org/wiki/Shoelace_formula\n",
    "* https://www.101computing.net/the-shoelace-algorithm/\n",
    "* https://www.youtube.com/watch?v=iKIpraBC-Nw"
   ]
  },
  {
   "cell_type": "code",
   "execution_count": null,
   "metadata": {},
   "outputs": [],
   "source": [
    "# Polygon (x,y) Coordinates  \n",
    "A = [2,7]\n",
    "B = [10,1]\n",
    "C = [8,6]\n",
    "D = [11,7]\n",
    "E = [7,10]\n",
    "#Define a polygon as being a list of vertices, (on anticlockwise order)\n",
    "polygon = [A, B, C, D, E]  "
   ]
  },
  {
   "cell_type": "code",
   "execution_count": null,
   "metadata": {},
   "outputs": [],
   "source": [
    "polygon"
   ]
  },
  {
   "cell_type": "code",
   "execution_count": null,
   "metadata": {},
   "outputs": [],
   "source": [
    "%matplotlib inline\n",
    "from matplotlib import pyplot as plt\n",
    "plt.plot(*zip(*(polygon + [polygon[0]])))\n",
    "plt.grid('on')\n",
    "plt.axis('equal')\n",
    "plt.title(\"What's the area of this polygon?\")"
   ]
  },
  {
   "cell_type": "code",
   "execution_count": null,
   "metadata": {},
   "outputs": [],
   "source": [
    "#The Shoelace Algorithm from www.101computing.net/the-shoelace-algorithm\n",
    "\n",
    "def polygonArea(vertices):\n",
    "    # A function to apply the Shoelace algorithm\n",
    "    numberOfVertices = len(vertices)\n",
    "    sum1 = 0\n",
    "    sum2 = 0\n",
    "    for i in range(0, numberOfVertices-1):\n",
    "        sum1 = sum1 + vertices[i][0] *  vertices[i+1][1]\n",
    "        sum2 = sum2 + vertices[i][1] *  vertices[i+1][0]\n",
    "    # Add xn.y1\n",
    "    sum1 = sum1 + vertices[numberOfVertices-1][0]*vertices[0][1]\n",
    "    # Add x1.yn\n",
    "    sum2 = sum2 + vertices[0][0]*vertices[numberOfVertices-1][1]   \n",
    "  \n",
    "    area = abs(sum1 - sum2) / 2\n",
    "    return area"
   ]
  },
  {
   "cell_type": "code",
   "execution_count": null,
   "metadata": {},
   "outputs": [],
   "source": [
    "polygonArea(polygon)"
   ]
  },
  {
   "cell_type": "code",
   "execution_count": null,
   "metadata": {},
   "outputs": [],
   "source": [
    "abs(sum(v[0] * u[1] - v[1] * u[0] for v, u in zip(polygon, polygon[1:]+[polygon[0]])))/2"
   ]
  },
  {
   "cell_type": "code",
   "execution_count": null,
   "metadata": {},
   "outputs": [],
   "source": [
    "#Vertices (x,y) Coordinates  \n",
    "A = [2,7]\n",
    "B = [10,1]\n",
    "C = [8,6]\n",
    "D = [11,7]\n",
    "E = [7,10]\n",
    "#Define a polygon as being a list of vertices, (on anticlockwise order)\n",
    "polygon = [A,B,C,D,E]  \n",
    "\n",
    "area = polygonArea(polygon)\n",
    "print(\"Polygon Vertices:\")\n",
    "print(polygon)\n",
    "print(\"\")\n",
    "print(\"Area = \" + str(area) + \"cm2\")"
   ]
  },
  {
   "cell_type": "markdown",
   "metadata": {},
   "source": [
    "# Homework"
   ]
  },
  {
   "cell_type": "markdown",
   "metadata": {},
   "source": [
    "#### Problem 1. Give a random compliment\n",
    "\n",
    "Extend the `compliment` program from the lecture to give one of several compliments given at random. You can consult with https://www.verywellmind.com/positivity-boosting-compliments-1717559 for examples. Use at least six different compliments to avoid being repetitive.\n",
    "\n",
    "**Hint**: Check out function `random.choice` from the standard library."
   ]
  },
  {
   "cell_type": "markdown",
   "metadata": {},
   "source": [
    "#### Problem 2.\n",
    "Write the function `all_equal(sequence)` that takes a sequence (`list` or `tuple` or `str`) and returns `True` if all its elements are equal and `False` otherwise."
   ]
  },
  {
   "cell_type": "code",
   "execution_count": null,
   "metadata": {},
   "outputs": [],
   "source": [
    "def all_equal(sequence):\n",
    "    ...\n",
    "    \n",
    "assert all_equal([1, 1.0, 1, 9/9, 1, True])\n",
    "assert all_equal('aaaaaaaaaa')\n",
    "assert all_equal((1,))\n",
    "assert all_equal([])\n",
    "assert not all_equal('aAaaaaab')\n",
    "assert not all_equal((\"1\", 1, 2))\n",
    "assert not all_equal([1, 1.001, 1, 1, 1])"
   ]
  },
  {
   "cell_type": "markdown",
   "metadata": {},
   "source": [
    "#### Problem 3.\n",
    "Write the function `increasing(sequence)` that takes a sequence (`list` or `tuple`) and returns `True` if each of its elements is great than the preceding element in the sequence."
   ]
  },
  {
   "cell_type": "code",
   "execution_count": null,
   "metadata": {},
   "outputs": [],
   "source": [
    "def is_increasing(sequence):\n",
    "    ...\n",
    "    \n",
    "assert is_increasing([])\n",
    "assert is_increasing((1, 1.2, 2, 3.2, 9, 27))\n",
    "\n",
    "assert not is_increasing((1, 1.001, 1, 1, 1))"
   ]
  },
  {
   "cell_type": "markdown",
   "metadata": {},
   "source": [
    "#### Problem 4. \n",
    "Define the function `pythagorian_coprimes(n=100)` that prints all pairs of positive integer numbers $(a, b)$ such that $c=\\sqrt{a^2 + b^2}$ is also a whole number and $1 \\le c \\le n$. Include only those triples that are co-prime (do not have any common divisors other than 1). For example, (3, 4, 5) is okay but (30, 40, 50) should be skipped.\n",
    "\n",
    "**Help**: As a starting example, examine the function `pythagorian_triples` that yields all triples. Modify it to retain only those triplets that are co-prime, i.e. whose `gcd` is 1."
   ]
  },
  {
   "cell_type": "code",
   "execution_count": null,
   "metadata": {},
   "outputs": [],
   "source": [
    "def pythagorian_triples(n=100):\n",
    "    \"\"\"\n",
    "    Generate pythagorean triples: integers a, b, c such that\n",
    "    a^2 + b^2 = c^2 and c <= n \n",
    "    \"\"\"\n",
    "    for a in range(2, n):\n",
    "        for b in range(2, a):\n",
    "            c = (a*a + b*b)**0.5\n",
    "            if c > n:\n",
    "                break\n",
    "            if c == round(c):\n",
    "                yield a, b, int(c)"
   ]
  },
  {
   "cell_type": "code",
   "execution_count": null,
   "metadata": {},
   "outputs": [],
   "source": [
    "for a, b, c in pythagorian_triples(20):\n",
    "    print(a, b, c)"
   ]
  },
  {
   "cell_type": "markdown",
   "metadata": {},
   "source": [
    "#### Problem 5.  Acronyms\n",
    "Define the function `acronym` that returns a string containing the first letters of each word in its input, capitalized."
   ]
  },
  {
   "cell_type": "code",
   "execution_count": null,
   "metadata": {},
   "outputs": [],
   "source": [
    "def acronym(string):\n",
    "    ...\n",
    "\n",
    "assert acronym(\"University of Saint Thomas\") == \"UOST\"\n",
    "assert acronym(\"The Museum of Fine Arts\") == \"TMOFA\""
   ]
  },
  {
   "cell_type": "markdown",
   "metadata": {},
   "source": [
    "#### Problem 6. More acronyms \n",
    "\n",
    "Modify `acronym` to ignore the words `\"of\"` and `\"the\"`."
   ]
  },
  {
   "cell_type": "code",
   "execution_count": null,
   "metadata": {},
   "outputs": [],
   "source": [
    "def acronym(string):\n",
    "    ...\n",
    "\n",
    "\n",
    "assert acronym(\"University of Saint Thomas\") == \"UST\"\n",
    "assert acronum(\"The Museum of Fine Arts\") == \"MFA\""
   ]
  },
  {
   "cell_type": "markdown",
   "metadata": {},
   "source": [
    "#### 8. Write the code that computes the average length of words in English.\n",
    "* use `english-words.txt` \n",
    "* no need to define a function"
   ]
  },
  {
   "cell_type": "code",
   "execution_count": null,
   "metadata": {},
   "outputs": [],
   "source": [
    "with open('english-words.txt') as f:\n",
    "    words = f.read().split()\n",
    "    \n",
    "average_length = ...\n",
    "\n",
    "print(f\"The average English word length is {averange_length}.\")"
   ]
  },
  {
   "cell_type": "code",
   "execution_count": null,
   "metadata": {},
   "outputs": [],
   "source": []
  },
  {
   "cell_type": "markdown",
   "metadata": {},
   "source": [
    "#### 9. Count vowels\n",
    "Write the function `count_vowels` that takes a word and counts how many of its letters are one of `\"aeiouy\"`. We use a rather loose definition of a vowel here."
   ]
  },
  {
   "cell_type": "code",
   "execution_count": null,
   "metadata": {},
   "outputs": [],
   "source": [
    "def count_vowels(word):\n",
    "    \"\"\"\n",
    "    :param word: a string\n",
    "    :return: number of letters that are one of \"aeiouy\"\n",
    "    \"\"\"\n",
    "    ...\n",
    "    \n",
    "assert count_vowels('generation') == 5\n",
    "assert count_vowels('style') == 2"
   ]
  },
  {
   "cell_type": "markdown",
   "metadata": {},
   "source": [
    "#### 9. Most vowels\n",
    "Write the code to find the english word with the most vowels:\n",
    "* Use `english-words.txt` \n",
    "* Use your function `count_vowels`\n",
    "* No need to define a function"
   ]
  },
  {
   "cell_type": "code",
   "execution_count": null,
   "metadata": {},
   "outputs": [],
   "source": [
    "with open('english-words.txt') as f:\n",
    "    words = f.read().split()"
   ]
  },
  {
   "cell_type": "code",
   "execution_count": null,
   "metadata": {},
   "outputs": [],
   "source": []
  },
  {
   "cell_type": "markdown",
   "metadata": {},
   "source": [
    "#### 10.  `sorted_word` \n",
    "Write the function `sorted_word` that takes a list of words and returns the word made from its letters arranged in alphabetic order"
   ]
  },
  {
   "cell_type": "code",
   "execution_count": null,
   "metadata": {},
   "outputs": [],
   "source": [
    "def sorted_word(word, reverse=False):\n",
    "    ...\n",
    "\n",
    "assert sorted_word('Mississippi') == 'Miiiippssss'\n",
    "assert sorted_word('pizzazz', True) == 'zzzzpia'"
   ]
  },
  {
   "cell_type": "markdown",
   "metadata": {},
   "source": [
    "#### 11. Sorted words\n",
    "Find all English words that are at least 6 letters in length whose letters appear in alphabetic order or reversed alphabetical order\n",
    "\n",
    "* Use `english-words.txt` or the variable `words`\n",
    "* Use your function `sorted_word`\n",
    "* No need to define a function"
   ]
  },
  {
   "cell_type": "code",
   "execution_count": null,
   "metadata": {},
   "outputs": [],
   "source": []
  },
  {
   "cell_type": "markdown",
   "metadata": {},
   "source": [
    "#### 12. Anagrams\n",
    "Find all pairs of English words that are at least 8 letters in length and are anagrams of each other, i.e. they are made up by re-arranging the same letters:\n",
    "* Use `english-words.txt` or the variable `words`\n",
    "* Use your function `sorted_word`\n",
    "* No need to define a function\n",
    "* Hint: you might need a loop nested inside another loop or, more efficiently, use the function `itertools.combinations`\n",
    "* Examples: (behaviourism, misbehaviour), (colonialists, oscillations)"
   ]
  },
  {
   "cell_type": "code",
   "execution_count": null,
   "metadata": {},
   "outputs": [],
   "source": []
  }
 ],
 "metadata": {
  "kernelspec": {
   "display_name": "Python 3",
   "language": "python",
   "name": "python3"
  },
  "language_info": {
   "codemirror_mode": {
    "name": "ipython",
    "version": 3
   },
   "file_extension": ".py",
   "mimetype": "text/x-python",
   "name": "python",
   "nbconvert_exporter": "python",
   "pygments_lexer": "ipython3",
   "version": "3.7.3"
  }
 },
 "nbformat": 4,
 "nbformat_minor": 2
}
