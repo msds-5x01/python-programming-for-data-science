{
 "cells": [
  {
   "cell_type": "markdown",
   "metadata": {},
   "source": [
    "# Lecture 4\n",
    "## Functions\n",
    "### Learn about using functions\n",
    "\n",
    "* More on loops:\n",
    "  * `break` and `continue`\n",
    "  * `else` in for loops\n",
    "  * `pass` statements\n",
    "  * using `enumerate`\n",
    "* Using functions: \n",
    "  * Built-in functions: *e.g.* `max`, `min`, `abs`, `round`  \n",
    "  * Built-in functions: https://docs.python.org/3/library/functions.html \n",
    "  * Importing functions: e.g. `random.random`\n",
    "* Defining functions:\n",
    "  * positional arguments\n",
    "  * keyword arguments\n",
    "  * returning output\n",
    "  * default values\n",
    "  * variable number of input arguments\n",
    "  * Using `None`\n",
    "  * Doc strings\n",
    "  * namespaces \n",
    "* Using `assert`\n",
    "  \n",
    "\n",
    "### See also:\n",
    "  1. Allen Downey's \"Think Python 2\" Functions http://greenteapress.com/thinkpython2/thinkpython2.pdf:\n",
    "    * Chapter 3: Functions\n",
    "    \n",
    "  1. Dietels' \"Python for Programmers\" https://www.oreilly.com/library/view/python-for-programmers/9780135231364/\n",
    "    * Chapter 4: Functions\n",
    "    \n",
    "  1. Python Tutorial:\n",
    "    * Chapter 4.6: Defining functions https://docs.python.org/3.8/tutorial/controlflow.html#defining-functions\n",
    "    * Chapter 4.7: More on defining functions https://docs.python.org/3.8/tutorial/datastructures.html\n",
    "    * Chapter 4.8: Coding style https://docs.python.org/3.8/tutorial/controlflow.html#intermezzo-coding-style\n",
    "  1. Driscol's Python 10\n",
    "    * Chapter 3: https://python101.pythonlibrary.org/chapter3_lists_dicts.html\n",
    "    * Chapter 4: https://python101.pythonlibrary.org/chapter4_conditionals.html\n",
    "    * Chapter 5: https://python101.pythonlibrary.org/chapter5_loops.html\n",
    "  1. Wes McKinney, Python for Data Analysis, 2nd Edition https://learning.oreilly.com/library/view/python-for-data/9781491957653/\n",
    "    * Chapter 3: Built-in data types, functions, and files\n",
    "\n",
    " "
   ]
  },
  {
   "cell_type": "markdown",
   "metadata": {},
   "source": [
    "# Lecture"
   ]
  },
  {
   "cell_type": "markdown",
   "metadata": {},
   "source": [
    "# Homework"
   ]
  },
  {
   "cell_type": "markdown",
   "metadata": {},
   "source": [
    "**Problem 1:** Create the function `pythagoras(a, b)` that takes two numbers `a` and `b` that represent the two short sides of a right triangle and the length of the third side using the Pythagorean formula."
   ]
  },
  {
   "cell_type": "code",
   "execution_count": null,
   "metadata": {},
   "outputs": [],
   "source": [
    "def pythagoras(a, b):\n",
    "    # write your code here\n",
    "    ...\n",
    "    \n",
    "\n",
    "# Test cases \n",
    "assert pythagoras(3, 4) == 5\n",
    "assert pythagoras(20, 21) == 29"
   ]
  },
  {
   "cell_type": "markdown",
   "metadata": {},
   "source": [
    "**Problem 2:** \n",
    "Define the function `countdown(n)` that prints the countdown from n to 0 and then prints `\"Liftoff!\"`. Also make it so that if `n` is not provided, it counts from 10. \n",
    "\n",
    "Example:\n",
    "\n",
    "```\n",
    ">>> countdown(4)\n",
    "4\n",
    "3\n",
    "2\n",
    "1\n",
    "0\n",
    "Liftoff!\n",
    "```\n",
    "\n",
    "```\n",
    ">>> countdown()\n",
    "10\n",
    "9\n",
    "8\n",
    "7\n",
    "6\n",
    "5\n",
    "4\n",
    "3\n",
    "2\n",
    "1\n",
    "0\n",
    "Liftoff!\n",
    "```"
   ]
  },
  {
   "cell_type": "code",
   "execution_count": null,
   "metadata": {},
   "outputs": [],
   "source": []
  },
  {
   "cell_type": "markdown",
   "metadata": {},
   "source": [
    "**Problem 3:** Define the function `gravity` that computes the gravitational pull between two spherical bodies of given masses `m1` and `m2` whose centers are distance $r$ apart using Newton's formula: \n",
    "$$F = G\\frac{m_1\\cdot m_2}{r^2}$$\n",
    "\n",
    "Use the function to compute the pull of the Sun on your body or some object. \n",
    "\n",
    "The graviational constant is $G = 6.673×10^{-11}$ N m$^2$ kg$^{-2}$. The Sun's mass is $1.989 × 10^{30}$ kg. The distance to the Sun today is $1.518\\times 10^{11}$ meters."
   ]
  },
  {
   "cell_type": "code",
   "execution_count": null,
   "metadata": {},
   "outputs": [],
   "source": [
    "def gravity(m1, m2, r):\n",
    "    ...\n",
    "    \n",
    "\n",
    "\n",
    "mass = 1500  # (kg) e.g. my car \n",
    "print(f\"The force of sun's pull on my car is {gravity(mass, 1.989e+30, 1.518e+11)} Newtons\")"
   ]
  },
  {
   "cell_type": "markdown",
   "metadata": {},
   "source": [
    "**Problem 4:** Define the function `print_triangle(size)` that prints a triangle of size `size`.  Make the size default of 4.\n",
    "\n",
    "For example:\n",
    "```\n",
    ">>> print_triangle(6)\n",
    "\n",
    "#\n",
    "# #\n",
    "# # #\n",
    "# # # #\n",
    "# # # # #\n",
    "# # # # # #\n",
    "# # # # # # #\n",
    "```\n",
    "\n",
    "```\n",
    ">>> print_triangle()\n",
    "\n",
    "#\n",
    "# #\n",
    "# # #\n",
    "# # # #\n",
    "# # # # #\n",
    "```"
   ]
  },
  {
   "cell_type": "code",
   "execution_count": null,
   "metadata": {},
   "outputs": [],
   "source": []
  },
  {
   "cell_type": "markdown",
   "metadata": {},
   "source": [
    "**Problem 5:** Define the function `print_box(width, height)` so that calling it would print an empty box of specified size, for example:\n",
    "\n",
    "```\n",
    ">>> print_box(6, 4)\n",
    "\n",
    "# # # # # #\n",
    "#         #\n",
    "#         #\n",
    "# # # # # #\n",
    "```"
   ]
  },
  {
   "cell_type": "code",
   "execution_count": null,
   "metadata": {},
   "outputs": [],
   "source": []
  },
  {
   "cell_type": "markdown",
   "metadata": {},
   "source": [
    "**Problem 6:** Define the function `longest_string` that takes a `list` or a `tuple` of strings and returns the longest of the strings. If multiple strings have the same maximum length, then return the first one"
   ]
  },
  {
   "cell_type": "code",
   "execution_count": null,
   "metadata": {},
   "outputs": [],
   "source": [
    "def longest_string(strings):\n",
    "    \"\"\"\n",
    "    :param strings: list or tuple of strings\n",
    "    :return: the longest of the strings\n",
    "    \"\"\"\n",
    "    ...\n",
    "    \n",
    "\n",
    "assert longest_string(['one', 'two', 'three', 'four', 'five', 'six', 'seven']) == 'three'\n",
    "assert longest_string(('one', 'two', 'three', 'four', 'five', 'six', 'seven']) == 'three'"
   ]
  },
  {
   "cell_type": "markdown",
   "metadata": {},
   "source": [
    "**Problem 7:** Define the function `longest_word` that takes a `str` input returns the longest word in the string. If multiple words have the same maximum length, then return the first one."
   ]
  },
  {
   "cell_type": "code",
   "execution_count": null,
   "metadata": {},
   "outputs": [],
   "source": [
    "def longest_string(string):\n",
    "    \"\"\"\n",
    "    :param string: string containing words separated by spaces\n",
    "    :return: the longest word in the string\n",
    "    \"\"\"\n",
    "    ...\n",
    "    \n",
    "\n",
    "assert longest_word('one', 'two', 'three', 'four', 'five', 'six', 'seven') == 'three'\n",
    "assert longest_word('one', 'two', 'three', 'four', 'five', 'six', 'seven') == 'three'"
   ]
  },
  {
   "cell_type": "markdown",
   "metadata": {},
   "source": [
    "**Problem 8.** Define the function `first_odd(sequence)` that takes a sequence (`list` or `tuple`) of numbers and returns the first odd number in that sequence."
   ]
  },
  {
   "cell_type": "code",
   "execution_count": null,
   "metadata": {},
   "outputs": [],
   "source": [
    "def first_odd(sequence):\n",
    "    ...\n",
    "    \n",
    "assert first_odd((0, 2, 8, 9, 7, 0, 3)) == 9"
   ]
  },
  {
   "cell_type": "markdown",
   "metadata": {},
   "source": [
    "**Problem 9.** Define the function `second_biggest(sequence)` that takes a sequence (`list` or `tuple`) of numbers and returns the second largest number in the sequence."
   ]
  },
  {
   "cell_type": "code",
   "execution_count": null,
   "metadata": {},
   "outputs": [],
   "source": [
    "def second_biggest(sequence):\n",
    "    ...\n",
    "    \n",
    "assert second_biggest([93, 30, 39, 37, 78, 11, 7, 67, 63, 50, 92]) == 92\n",
    "assert second_biggest([-1, -3, -3, -2, -5]) == -2"
   ]
  },
  {
   "cell_type": "markdown",
   "metadata": {},
   "source": [
    "**Problem 10.** Define the function `rectify(array)` that takes an array of numbers as a list and replaces all the negative numbers with zeros. Note that rather than returning the value, the function should modify the value of the input argument in place."
   ]
  },
  {
   "cell_type": "code",
   "execution_count": null,
   "metadata": {},
   "outputs": [],
   "source": [
    "def rectify(array):\n",
    "    ...\n",
    "    \n",
    "    \n",
    "array = [3, 0, -3, 4, 7, -9]\n",
    "rectify(array) \n",
    "assert array == [3, 0, 0, 4, 7, 9]"
   ]
  },
  {
   "cell_type": "markdown",
   "metadata": {},
   "source": [
    "**Problem 11.** Define the function `remove_zeros(array)` that takes an array of numbers as a list and removes all the zeros from it. Note that rather than returning the value, the function should modify the value of the input argument in place."
   ]
  },
  {
   "cell_type": "code",
   "execution_count": null,
   "metadata": {},
   "outputs": [],
   "source": [
    "def remove_zeros(array):\n",
    "    ...\n",
    "    \n",
    "    \n",
    "array = [3, 0, -3, 4, 0, -9]\n",
    "rectify(array) \n",
    "assert array == [3, -3, 4, 9]"
   ]
  },
  {
   "cell_type": "markdown",
   "metadata": {},
   "source": [
    "**Problem 12.** Define the function `compute_poly(x, p)` that computes the value of the polynomial $p_0 x^0 + p_1 x^1 + p_2 x^2 + ... + x_n x^n$.\n",
    "\n",
    "The `assert` examples correspond to \n",
    "* $1 + 3x^2 - x^4$ for $x=2$\n",
    "* $1 + 8x^2 - 4x^3$ for $x=\\frac 1 2$"
   ]
  },
  {
   "cell_type": "code",
   "execution_count": null,
   "metadata": {},
   "outputs": [],
   "source": [
    "def compute_poly(x, p):\n",
    "    ...\n",
    "\n",
    "assert compute_poly(2, [1, 0, 3, 0, -1]) == -3\n",
    "assert compute_poly(0.5, [1, 0, 8, -4]) == 2.5"
   ]
  },
  {
   "cell_type": "code",
   "execution_count": null,
   "metadata": {},
   "outputs": [],
   "source": []
  },
  {
   "cell_type": "markdown",
   "metadata": {},
   "source": [
    "**Problem 13**. Define the function `find_increases(array)` that takes an array of numbers (a `list`) and returns the list of all the numbers from the original list that are bigger that the number that preceded them in the list. Assume that the number preceding the first number in the list is 0."
   ]
  },
  {
   "cell_type": "code",
   "execution_count": null,
   "metadata": {},
   "outputs": [],
   "source": [
    "def find_increases(array):\n",
    "    ...\n",
    "    \n",
    "    \n",
    "assert find_increases([3, -3, 4, 4, 3, 2, 0, 9, 10]) == [3, 4, 9, 10]\n",
    "assert find_increases([-3, -3, 4, 4, 3, 2, 0, 9, 10]) == [4, 9, 10]"
   ]
  },
  {
   "cell_type": "markdown",
   "metadata": {},
   "source": [
    "**Problem 14**: Define the function `compute_pi_x(n)` to calculate the value of $\\pi$ from the first `n` terms of one of the series below (b) through (l). For example, if you choose formula (b), then name your function `compute_pi_b`. And print the resulting value of $\\pi$ for some value of `n`.\n",
    "\n",
    "The number $\\pi$ can be computed several varieties of infinite series: http://www.geom.uiuc.edu/~huberty/math5337/groupe/expresspi.html\n",
    "\n",
    "(a) Compute the approximate value of $\\pi$ as the first $n$ terms of the Leibnitz series:\n",
    "$$\\frac{\\pi}{4} = 1 - \\frac 1 3 + \\frac 1 5 - \\frac 1 7 + \\frac 1 9 - \\ldots$$\n",
    "\n",
    "(b) Compute the approximate value of $\\pi$ as the first $n$ terms of the series:\n",
    "$$\\frac{\\pi}{8} = \\frac 1 {1\\cdot 3} + \\frac 1 {5\\cdot 7} + \\frac 1 {9 \\cdot 11} + \\ldots$$\n",
    "\n",
    "(c) Compute the approximate value of $\\pi$ as the first $n$ terms of the series:\n",
    "$$\\frac{\\pi^2}{6} = \\frac 1 {1^2} + \\frac 1 {2^2} + \\frac 1 {3^2} + \\frac 1 {4^2} + \\ldots$$\n",
    "\n",
    "(d) Compute the approximate value of $\\pi$ as the first $n$ terms of the series:\n",
    "$$\\frac{\\pi^2}{12} = \\frac 1 {1^2} - \\frac 1 {2^2} + \\frac 1 {3^2} - \\frac 1 {4^2} + \\ldots$$\n",
    "\n",
    "(e) Compute the approximate value of $\\pi$ as the first $n$ terms of the series:\n",
    "$$\\frac{\\pi^2}{24} = \\frac 1 {2^2} + \\frac 1 {4^2} + \\frac 1 {6^2} + \\frac 1 {8^2} + \\ldots$$\n",
    "\n",
    "(f) Compute the approximate value of $\\pi$ as the first $n$ terms of the series:\n",
    "$$\\frac{\\pi^2}{8} = \\frac 1 {1^2} + \\frac 1 {3^2} + \\frac 1 {5^2} + \\frac 1 {7^2} + \\ldots$$\n",
    "\n",
    "(g) Compute the approximate value of $\\pi$ as the first $n$ terms of the series:\n",
    "$$\\frac{\\pi^3}{32} = \\frac 1 {1^3} - \\frac 1 {3^3} + \\frac 1 {5^3} - \\frac 1 {7^3} + \\ldots$$\n",
    "\n",
    "(h) Compute the approximate value of $\\pi$ as the first $n$ terms of the series:\n",
    "$$\\frac{\\pi}{2} = \\sum\\limits_{k=0}^{\\infty} \\frac{2^k {k!}^2}{(2k+1)!}$$\n",
    "\n",
    "(i) Compute the approximate value of $\\pi$ as the first $n$ terms of the Bailey-Borwein-Plouffe series:\n",
    "$$\\pi = \\sum\\limits_{k=0}^{\\infty} 16^{-k}\\left(\\frac 4 {8k+1} - \\frac 2 {8k + 4} - \\frac 1 {8k + 5} - \\frac 1 {8k + 6}\\right) $$\n",
    "\n",
    "(j) Compute the approximate value of $\\pi$ as the first $n$ terms of the Wallis Product:\n",
    "$$\\frac{\\pi}{2} = \\frac {1^2} {1^2 - 1/4} \\cdot \\frac {2^2} {2^2 - 1/4} \\cdot \\frac {3^2} {3^2 - 1/4} \\cdot \\frac {4^2} {4^2 - 1/4} \\cdot \\ldots  $$\n",
    "\n",
    "(k) Compute the approximate value of $\\pi$ as the first $n$ iterations of the continued fraction:\n",
    "$$ \\frac 4 \\pi = 1 + \\frac{1^2}{  3 + \\frac{2^2}{ 5 + \\frac{3^2}{ 7 + \\frac{4^2}{ \\ddots }   }   } }\n",
    "$$\n",
    "\n",
    "(l) Compute the approximate value of $\\pi$ as the first $n$ iterations of the continued fraction:\n",
    "$$\\pi = 3+ \\frac{1^2}{6 + \\frac{3^2}{ 6 + \\frac{5^2}{ 6 + \\frac{7^2}{ \\ddots }  }  } }$$\n",
    "\n",
    "To help get started, implemented below is `compute_pi_a`. Implement a different one."
   ]
  },
  {
   "cell_type": "code",
   "execution_count": null,
   "metadata": {},
   "outputs": [],
   "source": [
    "def compute_pi_a(n):\n",
    "    \"\"\"\n",
    "    A sample implementation of compute_pi_x using sequence (a)\n",
    "    \"\"\"\n",
    "    sign = 1\n",
    "    s = 0\n",
    "    for i in range(n):\n",
    "        s += sign/(1+i*2)\n",
    "        sign = -sign   # flip the sign\n",
    "    return 4*s\n",
    "\n",
    "print(compute_pi_a(10000))"
   ]
  },
  {
   "cell_type": "code",
   "execution_count": null,
   "metadata": {},
   "outputs": [],
   "source": [
    "def compute_pi_a(n):\n",
    "    \"\"\"\n",
    "    A sample implementation of compute_pi_x using sequence (a)\n",
    "    Now using a comprehension \n",
    "    \"\"\"\n",
    "    return sum((4 - 8*(i % 2))/(1 + i*2) for i in range(n))\n",
    "\n",
    "print(compute_pi_a(10000))"
   ]
  },
  {
   "cell_type": "code",
   "execution_count": null,
   "metadata": {},
   "outputs": [],
   "source": []
  }
 ],
 "metadata": {
  "kernelspec": {
   "display_name": "Python 3",
   "language": "python",
   "name": "python3"
  },
  "language_info": {
   "codemirror_mode": {
    "name": "ipython",
    "version": 3
   },
   "file_extension": ".py",
   "mimetype": "text/x-python",
   "name": "python",
   "nbconvert_exporter": "python",
   "pygments_lexer": "ipython3",
   "version": "3.7.3"
  }
 },
 "nbformat": 4,
 "nbformat_minor": 2
}
